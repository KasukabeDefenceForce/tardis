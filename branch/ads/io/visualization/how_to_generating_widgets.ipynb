{
 "cells": [
  {
   "cell_type": "markdown",
   "metadata": {},
   "source": [
    "# How to Generate Data Exploration Widgets\n",
    "A demonstration of how to generate TARDIS widgets that allows you to **explore simulation data within Jupyter Notebook with ease**!\n",
    "\n",
    "This notebook is a quickstart how-to guide, but more details on each widget (and its features) is given in the [Using TARDIS Widgets](https://tardis-sn.github.io/tardis/io/visualization/using_widgets.html) section of the documentation."
   ]
  },
  {
   "cell_type": "markdown",
   "metadata": {},
   "source": [
    "First create and run a simulation that we can use to generate widgets (more details about running simulation in [Quickstart](https://tardis-sn.github.io/tardis/quickstart/quickstart.html) section):\n"
   ]
  },
  {
   "cell_type": "code",
   "execution_count": 1,
   "metadata": {
    "ExecuteTime": {
     "end_time": "2021-02-18T16:10:42.838867Z",
     "start_time": "2021-02-18T16:09:22.826173Z"
    },
    "execution": {
     "iopub.execute_input": "2024-08-19T10:57:41.845067Z",
     "iopub.status.busy": "2024-08-19T10:57:41.844851Z",
     "iopub.status.idle": "2024-08-19T10:59:03.008647Z",
     "shell.execute_reply": "2024-08-19T10:59:03.008090Z"
    },
    "scrolled": true
   },
   "outputs": [
    {
     "name": "stderr",
     "output_type": "stream",
     "text": [
      "/home/runner/micromamba/envs/tardis/lib/python3.12/site-packages/setuptools_scm/git.py:167: UserWarning: \"/home/runner/work/tardis/tardis\" is shallow and may cause errors\n",
      "  warnings.warn(f'\"{wd.path}\" is shallow and may cause errors')\n"
     ]
    },
    {
     "data": {
      "application/vnd.jupyter.widget-view+json": {
       "model_id": "042c6f74527d4649a3152b28daa6fb5b",
       "version_major": 2,
       "version_minor": 0
      },
      "text/plain": [
       "Iterations:          0/? [00:00<?, ?it/s]"
      ]
     },
     "metadata": {},
     "output_type": "display_data"
    },
    {
     "data": {
      "application/vnd.jupyter.widget-view+json": {
       "model_id": "d15d1b461d4049d8a27a4379bab95646",
       "version_major": 2,
       "version_minor": 0
      },
      "text/plain": [
       "Packets:             0/? [00:00<?, ?it/s]"
      ]
     },
     "metadata": {},
     "output_type": "display_data"
    },
    {
     "name": "stderr",
     "output_type": "stream",
     "text": [
      "Atomic Data kurucz_cd23_chianti_H_He already exists in /home/runner/Downloads/tardis-data/kurucz_cd23_chianti_H_He.h5. Will not download - override with force_download=True.\n"
     ]
    },
    {
     "name": "stdout",
     "output_type": "stream",
     "text": [
      "[\u001b[1mtardis.io.model.parse_atom_data\u001b[0m][\u001b[1;37mINFO\u001b[0m   ]  \n",
      "\t\n",
      "\tReading Atomic Data from kurucz_cd23_chianti_H_He.h5 (\u001b[1mparse_atom_data.py\u001b[0m:40)\n"
     ]
    },
    {
     "name": "stdout",
     "output_type": "stream",
     "text": [
      "[\u001b[1mtardis.io.atom_data.util\u001b[0m][\u001b[1;37mINFO\u001b[0m   ]  \n",
      "\t\n",
      "\tAtom Data kurucz_cd23_chianti_H_He.h5 not found in local path.\n",
      "\tExists in TARDIS Data repo /home/runner/Downloads/tardis-data/kurucz_cd23_chianti_H_He.h5 (\u001b[1mutil.py\u001b[0m:36)\n"
     ]
    },
    {
     "name": "stdout",
     "output_type": "stream",
     "text": [
      "[\u001b[1mtardis.io.atom_data.base\u001b[0m][\u001b[1;37mINFO\u001b[0m   ]  \n",
      "\tReading Atom Data with: UUID = 6f7b09e887a311e7a06b246e96350010 MD5  = 864f1753714343c41f99cb065710cace  (\u001b[1mbase.py\u001b[0m:258)\n"
     ]
    },
    {
     "name": "stdout",
     "output_type": "stream",
     "text": [
      "[\u001b[1mtardis.io.atom_data.base\u001b[0m][\u001b[1;37mINFO\u001b[0m   ]  \n",
      "\tNon provided Atomic Data: synpp_refs, photoionization_data, yg_data, two_photon_data, linelist (\u001b[1mbase.py\u001b[0m:262)\n"
     ]
    },
    {
     "name": "stdout",
     "output_type": "stream",
     "text": [
      "[\u001b[1mtardis.io.model.parse_density_configuration\u001b[0m][\u001b[1;33mWARNING\u001b[0m]  \n",
      "\tNumber of density points larger than number of shells. Assuming inner point irrelevant (\u001b[1mparse_density_configuration.py\u001b[0m:114)\n"
     ]
    },
    {
     "name": "stdout",
     "output_type": "stream",
     "text": [
      "[\u001b[1mtardis.model.matter.decay\u001b[0m][\u001b[1;37mINFO\u001b[0m   ]  \n",
      "\tDecaying abundances for 1123200.0 seconds (\u001b[1mdecay.py\u001b[0m:101)\n"
     ]
    },
    {
     "name": "stdout",
     "output_type": "stream",
     "text": [
      "[\u001b[1mtardis.simulation.base\u001b[0m][\u001b[1;37mINFO\u001b[0m   ]  \n",
      "\t\n",
      "\tStarting iteration 1 of 20 (\u001b[1mbase.py\u001b[0m:450)\n"
     ]
    },
    {
     "name": "stdout",
     "output_type": "stream",
     "text": [
      "[\u001b[1mpy.warnings         \u001b[0m][\u001b[1;33mWARNING\u001b[0m]  \n",
      "\t/home/runner/work/tardis/tardis/tardis/transport/montecarlo/montecarlo_main_loop.py:123: NumbaTypeSafetyWarning: \u001b[1m\u001b[1m\u001b[1munsafe cast from uint64 to int64. Precision may be lost.\u001b[0m\u001b[0m\u001b[0m\n",
      "  vpacket_collection = vpacket_collections[i]\n",
      " (\u001b[1mwarnings.py\u001b[0m:112)\n"
     ]
    },
    {
     "data": {
      "application/vnd.jupyter.widget-view+json": {
       "model_id": "cadf762a498c43da977267d4cf534177",
       "version_major": 2,
       "version_minor": 0
      },
      "text/plain": [
       "TqdmHBox(children=(HTML(value='Iterations:', layout=Layout(width='6%')), FloatProgress(value=0.0, layout=Layou…"
      ]
     },
     "metadata": {},
     "output_type": "display_data"
    },
    {
     "data": {
      "application/vnd.jupyter.widget-view+json": {
       "model_id": "a4c23296dcf74e079dd87b03f0a54408",
       "version_major": 2,
       "version_minor": 0
      },
      "text/plain": [
       "TqdmHBox(children=(HTML(value='Packets:\\u2007\\u2007\\u2007', layout=Layout(width='6%')), FloatProgress(value=0.…"
      ]
     },
     "metadata": {},
     "output_type": "display_data"
    },
    {
     "name": "stdout",
     "output_type": "stream",
     "text": [
      "[\u001b[1mtardis.simulation.base\u001b[0m][\u001b[1;37mINFO\u001b[0m   ]  \n",
      "\t\n",
      "\tLuminosity emitted   = 7.942e+42 erg / s\n",
      "\tLuminosity absorbed  = 2.659e+42 erg / s\n",
      "\tLuminosity requested = 1.059e+43 erg / s\n",
      " (\u001b[1mbase.py\u001b[0m:663)\n"
     ]
    },
    {
     "name": "stdout",
     "output_type": "stream",
     "text": [
      "[\u001b[1mtardis.simulation.base\u001b[0m][\u001b[1;37mINFO\u001b[0m   ]  \n",
      "\t\n",
      "\tPlasma stratification: (\u001b[1mbase.py\u001b[0m:631)\n"
     ]
    },
    {
     "data": {
      "text/html": [
       "<style type=\"text/css\">\n",
       "</style>\n",
       "<table id=\"T_6cf18\">\n",
       "  <thead>\n",
       "    <tr>\n",
       "      <th class=\"index_name level0\" >Shell No.</th>\n",
       "      <th id=\"T_6cf18_level0_col0\" class=\"col_heading level0 col0\" >t_rad</th>\n",
       "      <th id=\"T_6cf18_level0_col1\" class=\"col_heading level0 col1\" >next_t_rad</th>\n",
       "      <th id=\"T_6cf18_level0_col2\" class=\"col_heading level0 col2\" >w</th>\n",
       "      <th id=\"T_6cf18_level0_col3\" class=\"col_heading level0 col3\" >next_w</th>\n",
       "    </tr>\n",
       "  </thead>\n",
       "  <tbody>\n",
       "    <tr>\n",
       "      <th id=\"T_6cf18_level0_row0\" class=\"row_heading level0 row0\" >0</th>\n",
       "      <td id=\"T_6cf18_row0_col0\" class=\"data row0 col0\" >9.93e+03 K</td>\n",
       "      <td id=\"T_6cf18_row0_col1\" class=\"data row0 col1\" >1.01e+04 K</td>\n",
       "      <td id=\"T_6cf18_row0_col2\" class=\"data row0 col2\" >0.4</td>\n",
       "      <td id=\"T_6cf18_row0_col3\" class=\"data row0 col3\" >0.507</td>\n",
       "    </tr>\n",
       "    <tr>\n",
       "      <th id=\"T_6cf18_level0_row1\" class=\"row_heading level0 row1\" >5</th>\n",
       "      <td id=\"T_6cf18_row1_col0\" class=\"data row1 col0\" >9.85e+03 K</td>\n",
       "      <td id=\"T_6cf18_row1_col1\" class=\"data row1 col1\" >1.02e+04 K</td>\n",
       "      <td id=\"T_6cf18_row1_col2\" class=\"data row1 col2\" >0.211</td>\n",
       "      <td id=\"T_6cf18_row1_col3\" class=\"data row1 col3\" >0.197</td>\n",
       "    </tr>\n",
       "    <tr>\n",
       "      <th id=\"T_6cf18_level0_row2\" class=\"row_heading level0 row2\" >10</th>\n",
       "      <td id=\"T_6cf18_row2_col0\" class=\"data row2 col0\" >9.78e+03 K</td>\n",
       "      <td id=\"T_6cf18_row2_col1\" class=\"data row2 col1\" >1.01e+04 K</td>\n",
       "      <td id=\"T_6cf18_row2_col2\" class=\"data row2 col2\" >0.143</td>\n",
       "      <td id=\"T_6cf18_row2_col3\" class=\"data row2 col3\" >0.117</td>\n",
       "    </tr>\n",
       "    <tr>\n",
       "      <th id=\"T_6cf18_level0_row3\" class=\"row_heading level0 row3\" >15</th>\n",
       "      <td id=\"T_6cf18_row3_col0\" class=\"data row3 col0\" >9.71e+03 K</td>\n",
       "      <td id=\"T_6cf18_row3_col1\" class=\"data row3 col1\" >9.87e+03 K</td>\n",
       "      <td id=\"T_6cf18_row3_col2\" class=\"data row3 col2\" >0.105</td>\n",
       "      <td id=\"T_6cf18_row3_col3\" class=\"data row3 col3\" >0.0869</td>\n",
       "    </tr>\n",
       "  </tbody>\n",
       "</table>\n"
      ],
      "text/plain": [
       "<pandas.io.formats.style.Styler at 0x7f0fb263bfe0>"
      ]
     },
     "metadata": {},
     "output_type": "display_data"
    },
    {
     "name": "stdout",
     "output_type": "stream",
     "text": [
      "[\u001b[1mtardis.simulation.base\u001b[0m][\u001b[1;37mINFO\u001b[0m   ]  \n",
      "\t\n",
      "\tCurrent t_inner = 9933.952 K\n",
      "\tExpected t_inner for next iteration = 10703.212 K\n",
      " (\u001b[1mbase.py\u001b[0m:658)\n"
     ]
    },
    {
     "name": "stdout",
     "output_type": "stream",
     "text": [
      "[\u001b[1mtardis.simulation.base\u001b[0m][\u001b[1;37mINFO\u001b[0m   ]  \n",
      "\t\n",
      "\tStarting iteration 2 of 20 (\u001b[1mbase.py\u001b[0m:450)\n"
     ]
    },
    {
     "name": "stdout",
     "output_type": "stream",
     "text": [
      "[\u001b[1mtardis.simulation.base\u001b[0m][\u001b[1;37mINFO\u001b[0m   ]  \n",
      "\t\n",
      "\tLuminosity emitted   = 1.071e+43 erg / s\n",
      "\tLuminosity absorbed  = 3.576e+42 erg / s\n",
      "\tLuminosity requested = 1.059e+43 erg / s\n",
      " (\u001b[1mbase.py\u001b[0m:663)\n"
     ]
    },
    {
     "name": "stdout",
     "output_type": "stream",
     "text": [
      "[\u001b[1mtardis.simulation.base\u001b[0m][\u001b[1;37mINFO\u001b[0m   ]  \n",
      "\t\n",
      "\tPlasma stratification: (\u001b[1mbase.py\u001b[0m:631)\n"
     ]
    },
    {
     "data": {
      "text/html": [
       "<style type=\"text/css\">\n",
       "</style>\n",
       "<table id=\"T_26214\">\n",
       "  <thead>\n",
       "    <tr>\n",
       "      <th class=\"index_name level0\" >Shell No.</th>\n",
       "      <th id=\"T_26214_level0_col0\" class=\"col_heading level0 col0\" >t_rad</th>\n",
       "      <th id=\"T_26214_level0_col1\" class=\"col_heading level0 col1\" >next_t_rad</th>\n",
       "      <th id=\"T_26214_level0_col2\" class=\"col_heading level0 col2\" >w</th>\n",
       "      <th id=\"T_26214_level0_col3\" class=\"col_heading level0 col3\" >next_w</th>\n",
       "    </tr>\n",
       "  </thead>\n",
       "  <tbody>\n",
       "    <tr>\n",
       "      <th id=\"T_26214_level0_row0\" class=\"row_heading level0 row0\" >0</th>\n",
       "      <td id=\"T_26214_row0_col0\" class=\"data row0 col0\" >1.01e+04 K</td>\n",
       "      <td id=\"T_26214_row0_col1\" class=\"data row0 col1\" >1.08e+04 K</td>\n",
       "      <td id=\"T_26214_row0_col2\" class=\"data row0 col2\" >0.507</td>\n",
       "      <td id=\"T_26214_row0_col3\" class=\"data row0 col3\" >0.525</td>\n",
       "    </tr>\n",
       "    <tr>\n",
       "      <th id=\"T_26214_level0_row1\" class=\"row_heading level0 row1\" >5</th>\n",
       "      <td id=\"T_26214_row1_col0\" class=\"data row1 col0\" >1.02e+04 K</td>\n",
       "      <td id=\"T_26214_row1_col1\" class=\"data row1 col1\" >1.1e+04 K</td>\n",
       "      <td id=\"T_26214_row1_col2\" class=\"data row1 col2\" >0.197</td>\n",
       "      <td id=\"T_26214_row1_col3\" class=\"data row1 col3\" >0.203</td>\n",
       "    </tr>\n",
       "    <tr>\n",
       "      <th id=\"T_26214_level0_row2\" class=\"row_heading level0 row2\" >10</th>\n",
       "      <td id=\"T_26214_row2_col0\" class=\"data row2 col0\" >1.01e+04 K</td>\n",
       "      <td id=\"T_26214_row2_col1\" class=\"data row2 col1\" >1.08e+04 K</td>\n",
       "      <td id=\"T_26214_row2_col2\" class=\"data row2 col2\" >0.117</td>\n",
       "      <td id=\"T_26214_row2_col3\" class=\"data row2 col3\" >0.125</td>\n",
       "    </tr>\n",
       "    <tr>\n",
       "      <th id=\"T_26214_level0_row3\" class=\"row_heading level0 row3\" >15</th>\n",
       "      <td id=\"T_26214_row3_col0\" class=\"data row3 col0\" >9.87e+03 K</td>\n",
       "      <td id=\"T_26214_row3_col1\" class=\"data row3 col1\" >1.05e+04 K</td>\n",
       "      <td id=\"T_26214_row3_col2\" class=\"data row3 col2\" >0.0869</td>\n",
       "      <td id=\"T_26214_row3_col3\" class=\"data row3 col3\" >0.0933</td>\n",
       "    </tr>\n",
       "  </tbody>\n",
       "</table>\n"
      ],
      "text/plain": [
       "<pandas.io.formats.style.Styler at 0x7f0fb1ec8d70>"
      ]
     },
     "metadata": {},
     "output_type": "display_data"
    },
    {
     "name": "stdout",
     "output_type": "stream",
     "text": [
      "[\u001b[1mtardis.simulation.base\u001b[0m][\u001b[1;37mINFO\u001b[0m   ]  \n",
      "\t\n",
      "\tCurrent t_inner = 10703.212 K\n",
      "\tExpected t_inner for next iteration = 10673.712 K\n",
      " (\u001b[1mbase.py\u001b[0m:658)\n"
     ]
    },
    {
     "name": "stdout",
     "output_type": "stream",
     "text": [
      "[\u001b[1mtardis.simulation.base\u001b[0m][\u001b[1;37mINFO\u001b[0m   ]  \n",
      "\t\n",
      "\tStarting iteration 3 of 20 (\u001b[1mbase.py\u001b[0m:450)\n"
     ]
    },
    {
     "name": "stdout",
     "output_type": "stream",
     "text": [
      "[\u001b[1mtardis.simulation.base\u001b[0m][\u001b[1;37mINFO\u001b[0m   ]  \n",
      "\t\n",
      "\tLuminosity emitted   = 1.074e+43 erg / s\n",
      "\tLuminosity absorbed  = 3.391e+42 erg / s\n",
      "\tLuminosity requested = 1.059e+43 erg / s\n",
      " (\u001b[1mbase.py\u001b[0m:663)\n"
     ]
    },
    {
     "name": "stdout",
     "output_type": "stream",
     "text": [
      "[\u001b[1mtardis.simulation.base\u001b[0m][\u001b[1;37mINFO\u001b[0m   ]  \n",
      "\tIteration converged 1/4 consecutive times. (\u001b[1mbase.py\u001b[0m:262)\n"
     ]
    },
    {
     "name": "stdout",
     "output_type": "stream",
     "text": [
      "[\u001b[1mtardis.simulation.base\u001b[0m][\u001b[1;37mINFO\u001b[0m   ]  \n",
      "\t\n",
      "\tPlasma stratification: (\u001b[1mbase.py\u001b[0m:631)\n"
     ]
    },
    {
     "data": {
      "text/html": [
       "<style type=\"text/css\">\n",
       "</style>\n",
       "<table id=\"T_93d98\">\n",
       "  <thead>\n",
       "    <tr>\n",
       "      <th class=\"index_name level0\" >Shell No.</th>\n",
       "      <th id=\"T_93d98_level0_col0\" class=\"col_heading level0 col0\" >t_rad</th>\n",
       "      <th id=\"T_93d98_level0_col1\" class=\"col_heading level0 col1\" >next_t_rad</th>\n",
       "      <th id=\"T_93d98_level0_col2\" class=\"col_heading level0 col2\" >w</th>\n",
       "      <th id=\"T_93d98_level0_col3\" class=\"col_heading level0 col3\" >next_w</th>\n",
       "    </tr>\n",
       "  </thead>\n",
       "  <tbody>\n",
       "    <tr>\n",
       "      <th id=\"T_93d98_level0_row0\" class=\"row_heading level0 row0\" >0</th>\n",
       "      <td id=\"T_93d98_row0_col0\" class=\"data row0 col0\" >1.08e+04 K</td>\n",
       "      <td id=\"T_93d98_row0_col1\" class=\"data row0 col1\" >1.1e+04 K</td>\n",
       "      <td id=\"T_93d98_row0_col2\" class=\"data row0 col2\" >0.525</td>\n",
       "      <td id=\"T_93d98_row0_col3\" class=\"data row0 col3\" >0.483</td>\n",
       "    </tr>\n",
       "    <tr>\n",
       "      <th id=\"T_93d98_level0_row1\" class=\"row_heading level0 row1\" >5</th>\n",
       "      <td id=\"T_93d98_row1_col0\" class=\"data row1 col0\" >1.1e+04 K</td>\n",
       "      <td id=\"T_93d98_row1_col1\" class=\"data row1 col1\" >1.12e+04 K</td>\n",
       "      <td id=\"T_93d98_row1_col2\" class=\"data row1 col2\" >0.203</td>\n",
       "      <td id=\"T_93d98_row1_col3\" class=\"data row1 col3\" >0.189</td>\n",
       "    </tr>\n",
       "    <tr>\n",
       "      <th id=\"T_93d98_level0_row2\" class=\"row_heading level0 row2\" >10</th>\n",
       "      <td id=\"T_93d98_row2_col0\" class=\"data row2 col0\" >1.08e+04 K</td>\n",
       "      <td id=\"T_93d98_row2_col1\" class=\"data row2 col1\" >1.1e+04 K</td>\n",
       "      <td id=\"T_93d98_row2_col2\" class=\"data row2 col2\" >0.125</td>\n",
       "      <td id=\"T_93d98_row2_col3\" class=\"data row2 col3\" >0.118</td>\n",
       "    </tr>\n",
       "    <tr>\n",
       "      <th id=\"T_93d98_level0_row3\" class=\"row_heading level0 row3\" >15</th>\n",
       "      <td id=\"T_93d98_row3_col0\" class=\"data row3 col0\" >1.05e+04 K</td>\n",
       "      <td id=\"T_93d98_row3_col1\" class=\"data row3 col1\" >1.06e+04 K</td>\n",
       "      <td id=\"T_93d98_row3_col2\" class=\"data row3 col2\" >0.0933</td>\n",
       "      <td id=\"T_93d98_row3_col3\" class=\"data row3 col3\" >0.0895</td>\n",
       "    </tr>\n",
       "  </tbody>\n",
       "</table>\n"
      ],
      "text/plain": [
       "<pandas.io.formats.style.Styler at 0x7f0fb7efd4c0>"
      ]
     },
     "metadata": {},
     "output_type": "display_data"
    },
    {
     "name": "stdout",
     "output_type": "stream",
     "text": [
      "[\u001b[1mtardis.simulation.base\u001b[0m][\u001b[1;37mINFO\u001b[0m   ]  \n",
      "\t\n",
      "\tCurrent t_inner = 10673.712 K\n",
      "\tExpected t_inner for next iteration = 10635.953 K\n",
      " (\u001b[1mbase.py\u001b[0m:658)\n"
     ]
    },
    {
     "name": "stdout",
     "output_type": "stream",
     "text": [
      "[\u001b[1mtardis.simulation.base\u001b[0m][\u001b[1;37mINFO\u001b[0m   ]  \n",
      "\t\n",
      "\tStarting iteration 4 of 20 (\u001b[1mbase.py\u001b[0m:450)\n"
     ]
    },
    {
     "name": "stdout",
     "output_type": "stream",
     "text": [
      "[\u001b[1mtardis.simulation.base\u001b[0m][\u001b[1;37mINFO\u001b[0m   ]  \n",
      "\t\n",
      "\tLuminosity emitted   = 1.058e+43 erg / s\n",
      "\tLuminosity absorbed  = 3.352e+42 erg / s\n",
      "\tLuminosity requested = 1.059e+43 erg / s\n",
      " (\u001b[1mbase.py\u001b[0m:663)\n"
     ]
    },
    {
     "name": "stdout",
     "output_type": "stream",
     "text": [
      "[\u001b[1mtardis.simulation.base\u001b[0m][\u001b[1;37mINFO\u001b[0m   ]  \n",
      "\tIteration converged 2/4 consecutive times. (\u001b[1mbase.py\u001b[0m:262)\n"
     ]
    },
    {
     "name": "stdout",
     "output_type": "stream",
     "text": [
      "[\u001b[1mtardis.simulation.base\u001b[0m][\u001b[1;37mINFO\u001b[0m   ]  \n",
      "\t\n",
      "\tPlasma stratification: (\u001b[1mbase.py\u001b[0m:631)\n"
     ]
    },
    {
     "data": {
      "text/html": [
       "<style type=\"text/css\">\n",
       "</style>\n",
       "<table id=\"T_51eef\">\n",
       "  <thead>\n",
       "    <tr>\n",
       "      <th class=\"index_name level0\" >Shell No.</th>\n",
       "      <th id=\"T_51eef_level0_col0\" class=\"col_heading level0 col0\" >t_rad</th>\n",
       "      <th id=\"T_51eef_level0_col1\" class=\"col_heading level0 col1\" >next_t_rad</th>\n",
       "      <th id=\"T_51eef_level0_col2\" class=\"col_heading level0 col2\" >w</th>\n",
       "      <th id=\"T_51eef_level0_col3\" class=\"col_heading level0 col3\" >next_w</th>\n",
       "    </tr>\n",
       "  </thead>\n",
       "  <tbody>\n",
       "    <tr>\n",
       "      <th id=\"T_51eef_level0_row0\" class=\"row_heading level0 row0\" >0</th>\n",
       "      <td id=\"T_51eef_row0_col0\" class=\"data row0 col0\" >1.1e+04 K</td>\n",
       "      <td id=\"T_51eef_row0_col1\" class=\"data row0 col1\" >1.1e+04 K</td>\n",
       "      <td id=\"T_51eef_row0_col2\" class=\"data row0 col2\" >0.483</td>\n",
       "      <td id=\"T_51eef_row0_col3\" class=\"data row0 col3\" >0.469</td>\n",
       "    </tr>\n",
       "    <tr>\n",
       "      <th id=\"T_51eef_level0_row1\" class=\"row_heading level0 row1\" >5</th>\n",
       "      <td id=\"T_51eef_row1_col0\" class=\"data row1 col0\" >1.12e+04 K</td>\n",
       "      <td id=\"T_51eef_row1_col1\" class=\"data row1 col1\" >1.12e+04 K</td>\n",
       "      <td id=\"T_51eef_row1_col2\" class=\"data row1 col2\" >0.189</td>\n",
       "      <td id=\"T_51eef_row1_col3\" class=\"data row1 col3\" >0.182</td>\n",
       "    </tr>\n",
       "    <tr>\n",
       "      <th id=\"T_51eef_level0_row2\" class=\"row_heading level0 row2\" >10</th>\n",
       "      <td id=\"T_51eef_row2_col0\" class=\"data row2 col0\" >1.1e+04 K</td>\n",
       "      <td id=\"T_51eef_row2_col1\" class=\"data row2 col1\" >1.1e+04 K</td>\n",
       "      <td id=\"T_51eef_row2_col2\" class=\"data row2 col2\" >0.118</td>\n",
       "      <td id=\"T_51eef_row2_col3\" class=\"data row2 col3\" >0.113</td>\n",
       "    </tr>\n",
       "    <tr>\n",
       "      <th id=\"T_51eef_level0_row3\" class=\"row_heading level0 row3\" >15</th>\n",
       "      <td id=\"T_51eef_row3_col0\" class=\"data row3 col0\" >1.06e+04 K</td>\n",
       "      <td id=\"T_51eef_row3_col1\" class=\"data row3 col1\" >1.07e+04 K</td>\n",
       "      <td id=\"T_51eef_row3_col2\" class=\"data row3 col2\" >0.0895</td>\n",
       "      <td id=\"T_51eef_row3_col3\" class=\"data row3 col3\" >0.0861</td>\n",
       "    </tr>\n",
       "  </tbody>\n",
       "</table>\n"
      ],
      "text/plain": [
       "<pandas.io.formats.style.Styler at 0x7f0fb1ec8320>"
      ]
     },
     "metadata": {},
     "output_type": "display_data"
    },
    {
     "name": "stdout",
     "output_type": "stream",
     "text": [
      "[\u001b[1mtardis.simulation.base\u001b[0m][\u001b[1;37mINFO\u001b[0m   ]  \n",
      "\t\n",
      "\tCurrent t_inner = 10635.953 K\n",
      "\tExpected t_inner for next iteration = 10638.407 K\n",
      " (\u001b[1mbase.py\u001b[0m:658)\n"
     ]
    },
    {
     "name": "stdout",
     "output_type": "stream",
     "text": [
      "[\u001b[1mtardis.simulation.base\u001b[0m][\u001b[1;37mINFO\u001b[0m   ]  \n",
      "\t\n",
      "\tStarting iteration 5 of 20 (\u001b[1mbase.py\u001b[0m:450)\n"
     ]
    },
    {
     "name": "stdout",
     "output_type": "stream",
     "text": [
      "[\u001b[1mtardis.simulation.base\u001b[0m][\u001b[1;37mINFO\u001b[0m   ]  \n",
      "\t\n",
      "\tLuminosity emitted   = 1.055e+43 erg / s\n",
      "\tLuminosity absorbed  = 3.399e+42 erg / s\n",
      "\tLuminosity requested = 1.059e+43 erg / s\n",
      " (\u001b[1mbase.py\u001b[0m:663)\n"
     ]
    },
    {
     "name": "stdout",
     "output_type": "stream",
     "text": [
      "[\u001b[1mtardis.simulation.base\u001b[0m][\u001b[1;37mINFO\u001b[0m   ]  \n",
      "\tIteration converged 3/4 consecutive times. (\u001b[1mbase.py\u001b[0m:262)\n"
     ]
    },
    {
     "name": "stdout",
     "output_type": "stream",
     "text": [
      "[\u001b[1mtardis.simulation.base\u001b[0m][\u001b[1;37mINFO\u001b[0m   ]  \n",
      "\t\n",
      "\tPlasma stratification: (\u001b[1mbase.py\u001b[0m:631)\n"
     ]
    },
    {
     "data": {
      "text/html": [
       "<style type=\"text/css\">\n",
       "</style>\n",
       "<table id=\"T_fb676\">\n",
       "  <thead>\n",
       "    <tr>\n",
       "      <th class=\"index_name level0\" >Shell No.</th>\n",
       "      <th id=\"T_fb676_level0_col0\" class=\"col_heading level0 col0\" >t_rad</th>\n",
       "      <th id=\"T_fb676_level0_col1\" class=\"col_heading level0 col1\" >next_t_rad</th>\n",
       "      <th id=\"T_fb676_level0_col2\" class=\"col_heading level0 col2\" >w</th>\n",
       "      <th id=\"T_fb676_level0_col3\" class=\"col_heading level0 col3\" >next_w</th>\n",
       "    </tr>\n",
       "  </thead>\n",
       "  <tbody>\n",
       "    <tr>\n",
       "      <th id=\"T_fb676_level0_row0\" class=\"row_heading level0 row0\" >0</th>\n",
       "      <td id=\"T_fb676_row0_col0\" class=\"data row0 col0\" >1.1e+04 K</td>\n",
       "      <td id=\"T_fb676_row0_col1\" class=\"data row0 col1\" >1.1e+04 K</td>\n",
       "      <td id=\"T_fb676_row0_col2\" class=\"data row0 col2\" >0.469</td>\n",
       "      <td id=\"T_fb676_row0_col3\" class=\"data row0 col3\" >0.479</td>\n",
       "    </tr>\n",
       "    <tr>\n",
       "      <th id=\"T_fb676_level0_row1\" class=\"row_heading level0 row1\" >5</th>\n",
       "      <td id=\"T_fb676_row1_col0\" class=\"data row1 col0\" >1.12e+04 K</td>\n",
       "      <td id=\"T_fb676_row1_col1\" class=\"data row1 col1\" >1.13e+04 K</td>\n",
       "      <td id=\"T_fb676_row1_col2\" class=\"data row1 col2\" >0.182</td>\n",
       "      <td id=\"T_fb676_row1_col3\" class=\"data row1 col3\" >0.178</td>\n",
       "    </tr>\n",
       "    <tr>\n",
       "      <th id=\"T_fb676_level0_row2\" class=\"row_heading level0 row2\" >10</th>\n",
       "      <td id=\"T_fb676_row2_col0\" class=\"data row2 col0\" >1.1e+04 K</td>\n",
       "      <td id=\"T_fb676_row2_col1\" class=\"data row2 col1\" >1.1e+04 K</td>\n",
       "      <td id=\"T_fb676_row2_col2\" class=\"data row2 col2\" >0.113</td>\n",
       "      <td id=\"T_fb676_row2_col3\" class=\"data row2 col3\" >0.113</td>\n",
       "    </tr>\n",
       "    <tr>\n",
       "      <th id=\"T_fb676_level0_row3\" class=\"row_heading level0 row3\" >15</th>\n",
       "      <td id=\"T_fb676_row3_col0\" class=\"data row3 col0\" >1.07e+04 K</td>\n",
       "      <td id=\"T_fb676_row3_col1\" class=\"data row3 col1\" >1.07e+04 K</td>\n",
       "      <td id=\"T_fb676_row3_col2\" class=\"data row3 col2\" >0.0861</td>\n",
       "      <td id=\"T_fb676_row3_col3\" class=\"data row3 col3\" >0.0839</td>\n",
       "    </tr>\n",
       "  </tbody>\n",
       "</table>\n"
      ],
      "text/plain": [
       "<pandas.io.formats.style.Styler at 0x7f0fb1f91700>"
      ]
     },
     "metadata": {},
     "output_type": "display_data"
    },
    {
     "name": "stdout",
     "output_type": "stream",
     "text": [
      "[\u001b[1mtardis.simulation.base\u001b[0m][\u001b[1;37mINFO\u001b[0m   ]  \n",
      "\t\n",
      "\tCurrent t_inner = 10638.407 K\n",
      "\tExpected t_inner for next iteration = 10650.202 K\n",
      " (\u001b[1mbase.py\u001b[0m:658)\n"
     ]
    },
    {
     "name": "stdout",
     "output_type": "stream",
     "text": [
      "[\u001b[1mtardis.simulation.base\u001b[0m][\u001b[1;37mINFO\u001b[0m   ]  \n",
      "\t\n",
      "\tStarting iteration 6 of 20 (\u001b[1mbase.py\u001b[0m:450)\n"
     ]
    },
    {
     "name": "stdout",
     "output_type": "stream",
     "text": [
      "[\u001b[1mtardis.simulation.base\u001b[0m][\u001b[1;37mINFO\u001b[0m   ]  \n",
      "\t\n",
      "\tLuminosity emitted   = 1.061e+43 erg / s\n",
      "\tLuminosity absorbed  = 3.398e+42 erg / s\n",
      "\tLuminosity requested = 1.059e+43 erg / s\n",
      " (\u001b[1mbase.py\u001b[0m:663)\n"
     ]
    },
    {
     "name": "stdout",
     "output_type": "stream",
     "text": [
      "[\u001b[1mtardis.simulation.base\u001b[0m][\u001b[1;37mINFO\u001b[0m   ]  \n",
      "\tIteration converged 4/4 consecutive times. (\u001b[1mbase.py\u001b[0m:262)\n"
     ]
    },
    {
     "name": "stdout",
     "output_type": "stream",
     "text": [
      "[\u001b[1mtardis.simulation.base\u001b[0m][\u001b[1;37mINFO\u001b[0m   ]  \n",
      "\t\n",
      "\tPlasma stratification: (\u001b[1mbase.py\u001b[0m:631)\n"
     ]
    },
    {
     "data": {
      "text/html": [
       "<style type=\"text/css\">\n",
       "</style>\n",
       "<table id=\"T_ac50f\">\n",
       "  <thead>\n",
       "    <tr>\n",
       "      <th class=\"index_name level0\" >Shell No.</th>\n",
       "      <th id=\"T_ac50f_level0_col0\" class=\"col_heading level0 col0\" >t_rad</th>\n",
       "      <th id=\"T_ac50f_level0_col1\" class=\"col_heading level0 col1\" >next_t_rad</th>\n",
       "      <th id=\"T_ac50f_level0_col2\" class=\"col_heading level0 col2\" >w</th>\n",
       "      <th id=\"T_ac50f_level0_col3\" class=\"col_heading level0 col3\" >next_w</th>\n",
       "    </tr>\n",
       "  </thead>\n",
       "  <tbody>\n",
       "    <tr>\n",
       "      <th id=\"T_ac50f_level0_row0\" class=\"row_heading level0 row0\" >0</th>\n",
       "      <td id=\"T_ac50f_row0_col0\" class=\"data row0 col0\" >1.1e+04 K</td>\n",
       "      <td id=\"T_ac50f_row0_col1\" class=\"data row0 col1\" >1.1e+04 K</td>\n",
       "      <td id=\"T_ac50f_row0_col2\" class=\"data row0 col2\" >0.479</td>\n",
       "      <td id=\"T_ac50f_row0_col3\" class=\"data row0 col3\" >0.47</td>\n",
       "    </tr>\n",
       "    <tr>\n",
       "      <th id=\"T_ac50f_level0_row1\" class=\"row_heading level0 row1\" >5</th>\n",
       "      <td id=\"T_ac50f_row1_col0\" class=\"data row1 col0\" >1.13e+04 K</td>\n",
       "      <td id=\"T_ac50f_row1_col1\" class=\"data row1 col1\" >1.12e+04 K</td>\n",
       "      <td id=\"T_ac50f_row1_col2\" class=\"data row1 col2\" >0.178</td>\n",
       "      <td id=\"T_ac50f_row1_col3\" class=\"data row1 col3\" >0.185</td>\n",
       "    </tr>\n",
       "    <tr>\n",
       "      <th id=\"T_ac50f_level0_row2\" class=\"row_heading level0 row2\" >10</th>\n",
       "      <td id=\"T_ac50f_row2_col0\" class=\"data row2 col0\" >1.1e+04 K</td>\n",
       "      <td id=\"T_ac50f_row2_col1\" class=\"data row2 col1\" >1.11e+04 K</td>\n",
       "      <td id=\"T_ac50f_row2_col2\" class=\"data row2 col2\" >0.113</td>\n",
       "      <td id=\"T_ac50f_row2_col3\" class=\"data row2 col3\" >0.112</td>\n",
       "    </tr>\n",
       "    <tr>\n",
       "      <th id=\"T_ac50f_level0_row3\" class=\"row_heading level0 row3\" >15</th>\n",
       "      <td id=\"T_ac50f_row3_col0\" class=\"data row3 col0\" >1.07e+04 K</td>\n",
       "      <td id=\"T_ac50f_row3_col1\" class=\"data row3 col1\" >1.07e+04 K</td>\n",
       "      <td id=\"T_ac50f_row3_col2\" class=\"data row3 col2\" >0.0839</td>\n",
       "      <td id=\"T_ac50f_row3_col3\" class=\"data row3 col3\" >0.0856</td>\n",
       "    </tr>\n",
       "  </tbody>\n",
       "</table>\n"
      ],
      "text/plain": [
       "<pandas.io.formats.style.Styler at 0x7f0fb1ec9250>"
      ]
     },
     "metadata": {},
     "output_type": "display_data"
    },
    {
     "name": "stdout",
     "output_type": "stream",
     "text": [
      "[\u001b[1mtardis.simulation.base\u001b[0m][\u001b[1;37mINFO\u001b[0m   ]  \n",
      "\t\n",
      "\tCurrent t_inner = 10650.202 K\n",
      "\tExpected t_inner for next iteration = 10645.955 K\n",
      " (\u001b[1mbase.py\u001b[0m:658)\n"
     ]
    },
    {
     "name": "stdout",
     "output_type": "stream",
     "text": [
      "[\u001b[1mtardis.simulation.base\u001b[0m][\u001b[1;37mINFO\u001b[0m   ]  \n",
      "\t\n",
      "\tStarting iteration 7 of 20 (\u001b[1mbase.py\u001b[0m:450)\n"
     ]
    },
    {
     "name": "stdout",
     "output_type": "stream",
     "text": [
      "[\u001b[1mtardis.simulation.base\u001b[0m][\u001b[1;37mINFO\u001b[0m   ]  \n",
      "\t\n",
      "\tLuminosity emitted   = 1.061e+43 erg / s\n",
      "\tLuminosity absorbed  = 3.382e+42 erg / s\n",
      "\tLuminosity requested = 1.059e+43 erg / s\n",
      " (\u001b[1mbase.py\u001b[0m:663)\n"
     ]
    },
    {
     "name": "stdout",
     "output_type": "stream",
     "text": [
      "[\u001b[1mtardis.simulation.base\u001b[0m][\u001b[1;37mINFO\u001b[0m   ]  \n",
      "\tIteration converged 5/4 consecutive times. (\u001b[1mbase.py\u001b[0m:262)\n"
     ]
    },
    {
     "name": "stdout",
     "output_type": "stream",
     "text": [
      "[\u001b[1mtardis.simulation.base\u001b[0m][\u001b[1;37mINFO\u001b[0m   ]  \n",
      "\t\n",
      "\tPlasma stratification: (\u001b[1mbase.py\u001b[0m:631)\n"
     ]
    },
    {
     "data": {
      "text/html": [
       "<style type=\"text/css\">\n",
       "</style>\n",
       "<table id=\"T_06c59\">\n",
       "  <thead>\n",
       "    <tr>\n",
       "      <th class=\"index_name level0\" >Shell No.</th>\n",
       "      <th id=\"T_06c59_level0_col0\" class=\"col_heading level0 col0\" >t_rad</th>\n",
       "      <th id=\"T_06c59_level0_col1\" class=\"col_heading level0 col1\" >next_t_rad</th>\n",
       "      <th id=\"T_06c59_level0_col2\" class=\"col_heading level0 col2\" >w</th>\n",
       "      <th id=\"T_06c59_level0_col3\" class=\"col_heading level0 col3\" >next_w</th>\n",
       "    </tr>\n",
       "  </thead>\n",
       "  <tbody>\n",
       "    <tr>\n",
       "      <th id=\"T_06c59_level0_row0\" class=\"row_heading level0 row0\" >0</th>\n",
       "      <td id=\"T_06c59_row0_col0\" class=\"data row0 col0\" >1.1e+04 K</td>\n",
       "      <td id=\"T_06c59_row0_col1\" class=\"data row0 col1\" >1.1e+04 K</td>\n",
       "      <td id=\"T_06c59_row0_col2\" class=\"data row0 col2\" >0.47</td>\n",
       "      <td id=\"T_06c59_row0_col3\" class=\"data row0 col3\" >0.47</td>\n",
       "    </tr>\n",
       "    <tr>\n",
       "      <th id=\"T_06c59_level0_row1\" class=\"row_heading level0 row1\" >5</th>\n",
       "      <td id=\"T_06c59_row1_col0\" class=\"data row1 col0\" >1.12e+04 K</td>\n",
       "      <td id=\"T_06c59_row1_col1\" class=\"data row1 col1\" >1.13e+04 K</td>\n",
       "      <td id=\"T_06c59_row1_col2\" class=\"data row1 col2\" >0.185</td>\n",
       "      <td id=\"T_06c59_row1_col3\" class=\"data row1 col3\" >0.178</td>\n",
       "    </tr>\n",
       "    <tr>\n",
       "      <th id=\"T_06c59_level0_row2\" class=\"row_heading level0 row2\" >10</th>\n",
       "      <td id=\"T_06c59_row2_col0\" class=\"data row2 col0\" >1.11e+04 K</td>\n",
       "      <td id=\"T_06c59_row2_col1\" class=\"data row2 col1\" >1.11e+04 K</td>\n",
       "      <td id=\"T_06c59_row2_col2\" class=\"data row2 col2\" >0.112</td>\n",
       "      <td id=\"T_06c59_row2_col3\" class=\"data row2 col3\" >0.112</td>\n",
       "    </tr>\n",
       "    <tr>\n",
       "      <th id=\"T_06c59_level0_row3\" class=\"row_heading level0 row3\" >15</th>\n",
       "      <td id=\"T_06c59_row3_col0\" class=\"data row3 col0\" >1.07e+04 K</td>\n",
       "      <td id=\"T_06c59_row3_col1\" class=\"data row3 col1\" >1.07e+04 K</td>\n",
       "      <td id=\"T_06c59_row3_col2\" class=\"data row3 col2\" >0.0856</td>\n",
       "      <td id=\"T_06c59_row3_col3\" class=\"data row3 col3\" >0.086</td>\n",
       "    </tr>\n",
       "  </tbody>\n",
       "</table>\n"
      ],
      "text/plain": [
       "<pandas.io.formats.style.Styler at 0x7f0fb1eca6c0>"
      ]
     },
     "metadata": {},
     "output_type": "display_data"
    },
    {
     "name": "stdout",
     "output_type": "stream",
     "text": [
      "[\u001b[1mtardis.simulation.base\u001b[0m][\u001b[1;37mINFO\u001b[0m   ]  \n",
      "\t\n",
      "\tCurrent t_inner = 10645.955 K\n",
      "\tExpected t_inner for next iteration = 10642.050 K\n",
      " (\u001b[1mbase.py\u001b[0m:658)\n"
     ]
    },
    {
     "name": "stdout",
     "output_type": "stream",
     "text": [
      "[\u001b[1mtardis.simulation.base\u001b[0m][\u001b[1;37mINFO\u001b[0m   ]  \n",
      "\t\n",
      "\tStarting iteration 8 of 20 (\u001b[1mbase.py\u001b[0m:450)\n"
     ]
    },
    {
     "name": "stdout",
     "output_type": "stream",
     "text": [
      "[\u001b[1mtardis.simulation.base\u001b[0m][\u001b[1;37mINFO\u001b[0m   ]  \n",
      "\t\n",
      "\tLuminosity emitted   = 1.062e+43 erg / s\n",
      "\tLuminosity absorbed  = 3.350e+42 erg / s\n",
      "\tLuminosity requested = 1.059e+43 erg / s\n",
      " (\u001b[1mbase.py\u001b[0m:663)\n"
     ]
    },
    {
     "name": "stdout",
     "output_type": "stream",
     "text": [
      "[\u001b[1mtardis.simulation.base\u001b[0m][\u001b[1;37mINFO\u001b[0m   ]  \n",
      "\tIteration converged 6/4 consecutive times. (\u001b[1mbase.py\u001b[0m:262)\n"
     ]
    },
    {
     "name": "stdout",
     "output_type": "stream",
     "text": [
      "[\u001b[1mtardis.simulation.base\u001b[0m][\u001b[1;37mINFO\u001b[0m   ]  \n",
      "\t\n",
      "\tPlasma stratification: (\u001b[1mbase.py\u001b[0m:631)\n"
     ]
    },
    {
     "data": {
      "text/html": [
       "<style type=\"text/css\">\n",
       "</style>\n",
       "<table id=\"T_51682\">\n",
       "  <thead>\n",
       "    <tr>\n",
       "      <th class=\"index_name level0\" >Shell No.</th>\n",
       "      <th id=\"T_51682_level0_col0\" class=\"col_heading level0 col0\" >t_rad</th>\n",
       "      <th id=\"T_51682_level0_col1\" class=\"col_heading level0 col1\" >next_t_rad</th>\n",
       "      <th id=\"T_51682_level0_col2\" class=\"col_heading level0 col2\" >w</th>\n",
       "      <th id=\"T_51682_level0_col3\" class=\"col_heading level0 col3\" >next_w</th>\n",
       "    </tr>\n",
       "  </thead>\n",
       "  <tbody>\n",
       "    <tr>\n",
       "      <th id=\"T_51682_level0_row0\" class=\"row_heading level0 row0\" >0</th>\n",
       "      <td id=\"T_51682_row0_col0\" class=\"data row0 col0\" >1.1e+04 K</td>\n",
       "      <td id=\"T_51682_row0_col1\" class=\"data row0 col1\" >1.11e+04 K</td>\n",
       "      <td id=\"T_51682_row0_col2\" class=\"data row0 col2\" >0.47</td>\n",
       "      <td id=\"T_51682_row0_col3\" class=\"data row0 col3\" >0.472</td>\n",
       "    </tr>\n",
       "    <tr>\n",
       "      <th id=\"T_51682_level0_row1\" class=\"row_heading level0 row1\" >5</th>\n",
       "      <td id=\"T_51682_row1_col0\" class=\"data row1 col0\" >1.13e+04 K</td>\n",
       "      <td id=\"T_51682_row1_col1\" class=\"data row1 col1\" >1.14e+04 K</td>\n",
       "      <td id=\"T_51682_row1_col2\" class=\"data row1 col2\" >0.178</td>\n",
       "      <td id=\"T_51682_row1_col3\" class=\"data row1 col3\" >0.175</td>\n",
       "    </tr>\n",
       "    <tr>\n",
       "      <th id=\"T_51682_level0_row2\" class=\"row_heading level0 row2\" >10</th>\n",
       "      <td id=\"T_51682_row2_col0\" class=\"data row2 col0\" >1.11e+04 K</td>\n",
       "      <td id=\"T_51682_row2_col1\" class=\"data row2 col1\" >1.11e+04 K</td>\n",
       "      <td id=\"T_51682_row2_col2\" class=\"data row2 col2\" >0.112</td>\n",
       "      <td id=\"T_51682_row2_col3\" class=\"data row2 col3\" >0.111</td>\n",
       "    </tr>\n",
       "    <tr>\n",
       "      <th id=\"T_51682_level0_row3\" class=\"row_heading level0 row3\" >15</th>\n",
       "      <td id=\"T_51682_row3_col0\" class=\"data row3 col0\" >1.07e+04 K</td>\n",
       "      <td id=\"T_51682_row3_col1\" class=\"data row3 col1\" >1.07e+04 K</td>\n",
       "      <td id=\"T_51682_row3_col2\" class=\"data row3 col2\" >0.086</td>\n",
       "      <td id=\"T_51682_row3_col3\" class=\"data row3 col3\" >0.084</td>\n",
       "    </tr>\n",
       "  </tbody>\n",
       "</table>\n"
      ],
      "text/plain": [
       "<pandas.io.formats.style.Styler at 0x7f0fb1ecb050>"
      ]
     },
     "metadata": {},
     "output_type": "display_data"
    },
    {
     "name": "stdout",
     "output_type": "stream",
     "text": [
      "[\u001b[1mtardis.simulation.base\u001b[0m][\u001b[1;37mINFO\u001b[0m   ]  \n",
      "\t\n",
      "\tCurrent t_inner = 10642.050 K\n",
      "\tExpected t_inner for next iteration = 10636.106 K\n",
      " (\u001b[1mbase.py\u001b[0m:658)\n"
     ]
    },
    {
     "name": "stdout",
     "output_type": "stream",
     "text": [
      "[\u001b[1mtardis.simulation.base\u001b[0m][\u001b[1;37mINFO\u001b[0m   ]  \n",
      "\t\n",
      "\tStarting iteration 9 of 20 (\u001b[1mbase.py\u001b[0m:450)\n"
     ]
    },
    {
     "name": "stdout",
     "output_type": "stream",
     "text": [
      "[\u001b[1mtardis.simulation.base\u001b[0m][\u001b[1;37mINFO\u001b[0m   ]  \n",
      "\t\n",
      "\tLuminosity emitted   = 1.052e+43 erg / s\n",
      "\tLuminosity absorbed  = 3.411e+42 erg / s\n",
      "\tLuminosity requested = 1.059e+43 erg / s\n",
      " (\u001b[1mbase.py\u001b[0m:663)\n"
     ]
    },
    {
     "name": "stdout",
     "output_type": "stream",
     "text": [
      "[\u001b[1mtardis.simulation.base\u001b[0m][\u001b[1;37mINFO\u001b[0m   ]  \n",
      "\tIteration converged 7/4 consecutive times. (\u001b[1mbase.py\u001b[0m:262)\n"
     ]
    },
    {
     "name": "stdout",
     "output_type": "stream",
     "text": [
      "[\u001b[1mtardis.simulation.base\u001b[0m][\u001b[1;37mINFO\u001b[0m   ]  \n",
      "\t\n",
      "\tPlasma stratification: (\u001b[1mbase.py\u001b[0m:631)\n"
     ]
    },
    {
     "data": {
      "text/html": [
       "<style type=\"text/css\">\n",
       "</style>\n",
       "<table id=\"T_83719\">\n",
       "  <thead>\n",
       "    <tr>\n",
       "      <th class=\"index_name level0\" >Shell No.</th>\n",
       "      <th id=\"T_83719_level0_col0\" class=\"col_heading level0 col0\" >t_rad</th>\n",
       "      <th id=\"T_83719_level0_col1\" class=\"col_heading level0 col1\" >next_t_rad</th>\n",
       "      <th id=\"T_83719_level0_col2\" class=\"col_heading level0 col2\" >w</th>\n",
       "      <th id=\"T_83719_level0_col3\" class=\"col_heading level0 col3\" >next_w</th>\n",
       "    </tr>\n",
       "  </thead>\n",
       "  <tbody>\n",
       "    <tr>\n",
       "      <th id=\"T_83719_level0_row0\" class=\"row_heading level0 row0\" >0</th>\n",
       "      <td id=\"T_83719_row0_col0\" class=\"data row0 col0\" >1.11e+04 K</td>\n",
       "      <td id=\"T_83719_row0_col1\" class=\"data row0 col1\" >1.11e+04 K</td>\n",
       "      <td id=\"T_83719_row0_col2\" class=\"data row0 col2\" >0.472</td>\n",
       "      <td id=\"T_83719_row0_col3\" class=\"data row0 col3\" >0.469</td>\n",
       "    </tr>\n",
       "    <tr>\n",
       "      <th id=\"T_83719_level0_row1\" class=\"row_heading level0 row1\" >5</th>\n",
       "      <td id=\"T_83719_row1_col0\" class=\"data row1 col0\" >1.14e+04 K</td>\n",
       "      <td id=\"T_83719_row1_col1\" class=\"data row1 col1\" >1.15e+04 K</td>\n",
       "      <td id=\"T_83719_row1_col2\" class=\"data row1 col2\" >0.175</td>\n",
       "      <td id=\"T_83719_row1_col3\" class=\"data row1 col3\" >0.17</td>\n",
       "    </tr>\n",
       "    <tr>\n",
       "      <th id=\"T_83719_level0_row2\" class=\"row_heading level0 row2\" >10</th>\n",
       "      <td id=\"T_83719_row2_col0\" class=\"data row2 col0\" >1.11e+04 K</td>\n",
       "      <td id=\"T_83719_row2_col1\" class=\"data row2 col1\" >1.11e+04 K</td>\n",
       "      <td id=\"T_83719_row2_col2\" class=\"data row2 col2\" >0.111</td>\n",
       "      <td id=\"T_83719_row2_col3\" class=\"data row2 col3\" >0.109</td>\n",
       "    </tr>\n",
       "    <tr>\n",
       "      <th id=\"T_83719_level0_row3\" class=\"row_heading level0 row3\" >15</th>\n",
       "      <td id=\"T_83719_row3_col0\" class=\"data row3 col0\" >1.07e+04 K</td>\n",
       "      <td id=\"T_83719_row3_col1\" class=\"data row3 col1\" >1.08e+04 K</td>\n",
       "      <td id=\"T_83719_row3_col2\" class=\"data row3 col2\" >0.084</td>\n",
       "      <td id=\"T_83719_row3_col3\" class=\"data row3 col3\" >0.0822</td>\n",
       "    </tr>\n",
       "  </tbody>\n",
       "</table>\n"
      ],
      "text/plain": [
       "<pandas.io.formats.style.Styler at 0x7f0fb1f90dd0>"
      ]
     },
     "metadata": {},
     "output_type": "display_data"
    },
    {
     "name": "stdout",
     "output_type": "stream",
     "text": [
      "[\u001b[1mtardis.simulation.base\u001b[0m][\u001b[1;37mINFO\u001b[0m   ]  \n",
      "\t\n",
      "\tCurrent t_inner = 10636.106 K\n",
      "\tExpected t_inner for next iteration = 10654.313 K\n",
      " (\u001b[1mbase.py\u001b[0m:658)\n"
     ]
    },
    {
     "name": "stdout",
     "output_type": "stream",
     "text": [
      "[\u001b[1mtardis.simulation.base\u001b[0m][\u001b[1;37mINFO\u001b[0m   ]  \n",
      "\t\n",
      "\tStarting iteration 10 of 20 (\u001b[1mbase.py\u001b[0m:450)\n"
     ]
    },
    {
     "name": "stdout",
     "output_type": "stream",
     "text": [
      "[\u001b[1mtardis.simulation.base\u001b[0m][\u001b[1;37mINFO\u001b[0m   ]  \n",
      "\t\n",
      "\tLuminosity emitted   = 1.070e+43 erg / s\n",
      "\tLuminosity absorbed  = 3.335e+42 erg / s\n",
      "\tLuminosity requested = 1.059e+43 erg / s\n",
      " (\u001b[1mbase.py\u001b[0m:663)\n"
     ]
    },
    {
     "name": "stdout",
     "output_type": "stream",
     "text": [
      "[\u001b[1mtardis.simulation.base\u001b[0m][\u001b[1;37mINFO\u001b[0m   ]  \n",
      "\tIteration converged 8/4 consecutive times. (\u001b[1mbase.py\u001b[0m:262)\n"
     ]
    },
    {
     "name": "stdout",
     "output_type": "stream",
     "text": [
      "[\u001b[1mtardis.simulation.base\u001b[0m][\u001b[1;37mINFO\u001b[0m   ]  \n",
      "\t\n",
      "\tPlasma stratification: (\u001b[1mbase.py\u001b[0m:631)\n"
     ]
    },
    {
     "data": {
      "text/html": [
       "<style type=\"text/css\">\n",
       "</style>\n",
       "<table id=\"T_2352a\">\n",
       "  <thead>\n",
       "    <tr>\n",
       "      <th class=\"index_name level0\" >Shell No.</th>\n",
       "      <th id=\"T_2352a_level0_col0\" class=\"col_heading level0 col0\" >t_rad</th>\n",
       "      <th id=\"T_2352a_level0_col1\" class=\"col_heading level0 col1\" >next_t_rad</th>\n",
       "      <th id=\"T_2352a_level0_col2\" class=\"col_heading level0 col2\" >w</th>\n",
       "      <th id=\"T_2352a_level0_col3\" class=\"col_heading level0 col3\" >next_w</th>\n",
       "    </tr>\n",
       "  </thead>\n",
       "  <tbody>\n",
       "    <tr>\n",
       "      <th id=\"T_2352a_level0_row0\" class=\"row_heading level0 row0\" >0</th>\n",
       "      <td id=\"T_2352a_row0_col0\" class=\"data row0 col0\" >1.11e+04 K</td>\n",
       "      <td id=\"T_2352a_row0_col1\" class=\"data row0 col1\" >1.1e+04 K</td>\n",
       "      <td id=\"T_2352a_row0_col2\" class=\"data row0 col2\" >0.469</td>\n",
       "      <td id=\"T_2352a_row0_col3\" class=\"data row0 col3\" >0.475</td>\n",
       "    </tr>\n",
       "    <tr>\n",
       "      <th id=\"T_2352a_level0_row1\" class=\"row_heading level0 row1\" >5</th>\n",
       "      <td id=\"T_2352a_row1_col0\" class=\"data row1 col0\" >1.15e+04 K</td>\n",
       "      <td id=\"T_2352a_row1_col1\" class=\"data row1 col1\" >1.14e+04 K</td>\n",
       "      <td id=\"T_2352a_row1_col2\" class=\"data row1 col2\" >0.17</td>\n",
       "      <td id=\"T_2352a_row1_col3\" class=\"data row1 col3\" >0.177</td>\n",
       "    </tr>\n",
       "    <tr>\n",
       "      <th id=\"T_2352a_level0_row2\" class=\"row_heading level0 row2\" >10</th>\n",
       "      <td id=\"T_2352a_row2_col0\" class=\"data row2 col0\" >1.11e+04 K</td>\n",
       "      <td id=\"T_2352a_row2_col1\" class=\"data row2 col1\" >1.11e+04 K</td>\n",
       "      <td id=\"T_2352a_row2_col2\" class=\"data row2 col2\" >0.109</td>\n",
       "      <td id=\"T_2352a_row2_col3\" class=\"data row2 col3\" >0.112</td>\n",
       "    </tr>\n",
       "    <tr>\n",
       "      <th id=\"T_2352a_level0_row3\" class=\"row_heading level0 row3\" >15</th>\n",
       "      <td id=\"T_2352a_row3_col0\" class=\"data row3 col0\" >1.08e+04 K</td>\n",
       "      <td id=\"T_2352a_row3_col1\" class=\"data row3 col1\" >1.06e+04 K</td>\n",
       "      <td id=\"T_2352a_row3_col2\" class=\"data row3 col2\" >0.0822</td>\n",
       "      <td id=\"T_2352a_row3_col3\" class=\"data row3 col3\" >0.0878</td>\n",
       "    </tr>\n",
       "  </tbody>\n",
       "</table>\n"
      ],
      "text/plain": [
       "<pandas.io.formats.style.Styler at 0x7f0fb1ec9c40>"
      ]
     },
     "metadata": {},
     "output_type": "display_data"
    },
    {
     "name": "stdout",
     "output_type": "stream",
     "text": [
      "[\u001b[1mtardis.simulation.base\u001b[0m][\u001b[1;37mINFO\u001b[0m   ]  \n",
      "\t\n",
      "\tCurrent t_inner = 10654.313 K\n",
      "\tExpected t_inner for next iteration = 10628.190 K\n",
      " (\u001b[1mbase.py\u001b[0m:658)\n"
     ]
    },
    {
     "name": "stdout",
     "output_type": "stream",
     "text": [
      "[\u001b[1mtardis.simulation.base\u001b[0m][\u001b[1;37mINFO\u001b[0m   ]  \n",
      "\t\n",
      "\tStarting iteration 11 of 20 (\u001b[1mbase.py\u001b[0m:450)\n"
     ]
    },
    {
     "name": "stdout",
     "output_type": "stream",
     "text": [
      "[\u001b[1mtardis.simulation.base\u001b[0m][\u001b[1;37mINFO\u001b[0m   ]  \n",
      "\t\n",
      "\tLuminosity emitted   = 1.053e+43 erg / s\n",
      "\tLuminosity absorbed  = 3.363e+42 erg / s\n",
      "\tLuminosity requested = 1.059e+43 erg / s\n",
      " (\u001b[1mbase.py\u001b[0m:663)\n"
     ]
    },
    {
     "name": "stdout",
     "output_type": "stream",
     "text": [
      "[\u001b[1mtardis.simulation.base\u001b[0m][\u001b[1;37mINFO\u001b[0m   ]  \n",
      "\tIteration converged 9/4 consecutive times. (\u001b[1mbase.py\u001b[0m:262)\n"
     ]
    },
    {
     "name": "stdout",
     "output_type": "stream",
     "text": [
      "[\u001b[1mtardis.simulation.base\u001b[0m][\u001b[1;37mINFO\u001b[0m   ]  \n",
      "\t\n",
      "\tPlasma stratification: (\u001b[1mbase.py\u001b[0m:631)\n"
     ]
    },
    {
     "data": {
      "text/html": [
       "<style type=\"text/css\">\n",
       "</style>\n",
       "<table id=\"T_05fd8\">\n",
       "  <thead>\n",
       "    <tr>\n",
       "      <th class=\"index_name level0\" >Shell No.</th>\n",
       "      <th id=\"T_05fd8_level0_col0\" class=\"col_heading level0 col0\" >t_rad</th>\n",
       "      <th id=\"T_05fd8_level0_col1\" class=\"col_heading level0 col1\" >next_t_rad</th>\n",
       "      <th id=\"T_05fd8_level0_col2\" class=\"col_heading level0 col2\" >w</th>\n",
       "      <th id=\"T_05fd8_level0_col3\" class=\"col_heading level0 col3\" >next_w</th>\n",
       "    </tr>\n",
       "  </thead>\n",
       "  <tbody>\n",
       "    <tr>\n",
       "      <th id=\"T_05fd8_level0_row0\" class=\"row_heading level0 row0\" >0</th>\n",
       "      <td id=\"T_05fd8_row0_col0\" class=\"data row0 col0\" >1.1e+04 K</td>\n",
       "      <td id=\"T_05fd8_row0_col1\" class=\"data row0 col1\" >1.1e+04 K</td>\n",
       "      <td id=\"T_05fd8_row0_col2\" class=\"data row0 col2\" >0.475</td>\n",
       "      <td id=\"T_05fd8_row0_col3\" class=\"data row0 col3\" >0.472</td>\n",
       "    </tr>\n",
       "    <tr>\n",
       "      <th id=\"T_05fd8_level0_row1\" class=\"row_heading level0 row1\" >5</th>\n",
       "      <td id=\"T_05fd8_row1_col0\" class=\"data row1 col0\" >1.14e+04 K</td>\n",
       "      <td id=\"T_05fd8_row1_col1\" class=\"data row1 col1\" >1.12e+04 K</td>\n",
       "      <td id=\"T_05fd8_row1_col2\" class=\"data row1 col2\" >0.177</td>\n",
       "      <td id=\"T_05fd8_row1_col3\" class=\"data row1 col3\" >0.184</td>\n",
       "    </tr>\n",
       "    <tr>\n",
       "      <th id=\"T_05fd8_level0_row2\" class=\"row_heading level0 row2\" >10</th>\n",
       "      <td id=\"T_05fd8_row2_col0\" class=\"data row2 col0\" >1.11e+04 K</td>\n",
       "      <td id=\"T_05fd8_row2_col1\" class=\"data row2 col1\" >1.1e+04 K</td>\n",
       "      <td id=\"T_05fd8_row2_col2\" class=\"data row2 col2\" >0.112</td>\n",
       "      <td id=\"T_05fd8_row2_col3\" class=\"data row2 col3\" >0.114</td>\n",
       "    </tr>\n",
       "    <tr>\n",
       "      <th id=\"T_05fd8_level0_row3\" class=\"row_heading level0 row3\" >15</th>\n",
       "      <td id=\"T_05fd8_row3_col0\" class=\"data row3 col0\" >1.06e+04 K</td>\n",
       "      <td id=\"T_05fd8_row3_col1\" class=\"data row3 col1\" >1.06e+04 K</td>\n",
       "      <td id=\"T_05fd8_row3_col2\" class=\"data row3 col2\" >0.0878</td>\n",
       "      <td id=\"T_05fd8_row3_col3\" class=\"data row3 col3\" >0.0859</td>\n",
       "    </tr>\n",
       "  </tbody>\n",
       "</table>\n"
      ],
      "text/plain": [
       "<pandas.io.formats.style.Styler at 0x7f0fb1f7c770>"
      ]
     },
     "metadata": {},
     "output_type": "display_data"
    },
    {
     "name": "stdout",
     "output_type": "stream",
     "text": [
      "[\u001b[1mtardis.simulation.base\u001b[0m][\u001b[1;37mINFO\u001b[0m   ]  \n",
      "\t\n",
      "\tCurrent t_inner = 10628.190 K\n",
      "\tExpected t_inner for next iteration = 10644.054 K\n",
      " (\u001b[1mbase.py\u001b[0m:658)\n"
     ]
    },
    {
     "name": "stdout",
     "output_type": "stream",
     "text": [
      "[\u001b[1mtardis.simulation.base\u001b[0m][\u001b[1;37mINFO\u001b[0m   ]  \n",
      "\t\n",
      "\tStarting iteration 12 of 20 (\u001b[1mbase.py\u001b[0m:450)\n"
     ]
    },
    {
     "name": "stdout",
     "output_type": "stream",
     "text": [
      "[\u001b[1mtardis.simulation.base\u001b[0m][\u001b[1;37mINFO\u001b[0m   ]  \n",
      "\t\n",
      "\tLuminosity emitted   = 1.056e+43 erg / s\n",
      "\tLuminosity absorbed  = 3.420e+42 erg / s\n",
      "\tLuminosity requested = 1.059e+43 erg / s\n",
      " (\u001b[1mbase.py\u001b[0m:663)\n"
     ]
    },
    {
     "name": "stdout",
     "output_type": "stream",
     "text": [
      "[\u001b[1mtardis.simulation.base\u001b[0m][\u001b[1;37mINFO\u001b[0m   ]  \n",
      "\tIteration converged 10/4 consecutive times. (\u001b[1mbase.py\u001b[0m:262)\n"
     ]
    },
    {
     "name": "stdout",
     "output_type": "stream",
     "text": [
      "[\u001b[1mtardis.simulation.base\u001b[0m][\u001b[1;37mINFO\u001b[0m   ]  \n",
      "\t\n",
      "\tPlasma stratification: (\u001b[1mbase.py\u001b[0m:631)\n"
     ]
    },
    {
     "data": {
      "text/html": [
       "<style type=\"text/css\">\n",
       "</style>\n",
       "<table id=\"T_82f96\">\n",
       "  <thead>\n",
       "    <tr>\n",
       "      <th class=\"index_name level0\" >Shell No.</th>\n",
       "      <th id=\"T_82f96_level0_col0\" class=\"col_heading level0 col0\" >t_rad</th>\n",
       "      <th id=\"T_82f96_level0_col1\" class=\"col_heading level0 col1\" >next_t_rad</th>\n",
       "      <th id=\"T_82f96_level0_col2\" class=\"col_heading level0 col2\" >w</th>\n",
       "      <th id=\"T_82f96_level0_col3\" class=\"col_heading level0 col3\" >next_w</th>\n",
       "    </tr>\n",
       "  </thead>\n",
       "  <tbody>\n",
       "    <tr>\n",
       "      <th id=\"T_82f96_level0_row0\" class=\"row_heading level0 row0\" >0</th>\n",
       "      <td id=\"T_82f96_row0_col0\" class=\"data row0 col0\" >1.1e+04 K</td>\n",
       "      <td id=\"T_82f96_row0_col1\" class=\"data row0 col1\" >1.11e+04 K</td>\n",
       "      <td id=\"T_82f96_row0_col2\" class=\"data row0 col2\" >0.472</td>\n",
       "      <td id=\"T_82f96_row0_col3\" class=\"data row0 col3\" >0.467</td>\n",
       "    </tr>\n",
       "    <tr>\n",
       "      <th id=\"T_82f96_level0_row1\" class=\"row_heading level0 row1\" >5</th>\n",
       "      <td id=\"T_82f96_row1_col0\" class=\"data row1 col0\" >1.12e+04 K</td>\n",
       "      <td id=\"T_82f96_row1_col1\" class=\"data row1 col1\" >1.13e+04 K</td>\n",
       "      <td id=\"T_82f96_row1_col2\" class=\"data row1 col2\" >0.184</td>\n",
       "      <td id=\"T_82f96_row1_col3\" class=\"data row1 col3\" >0.176</td>\n",
       "    </tr>\n",
       "    <tr>\n",
       "      <th id=\"T_82f96_level0_row2\" class=\"row_heading level0 row2\" >10</th>\n",
       "      <td id=\"T_82f96_row2_col0\" class=\"data row2 col0\" >1.1e+04 K</td>\n",
       "      <td id=\"T_82f96_row2_col1\" class=\"data row2 col1\" >1.11e+04 K</td>\n",
       "      <td id=\"T_82f96_row2_col2\" class=\"data row2 col2\" >0.114</td>\n",
       "      <td id=\"T_82f96_row2_col3\" class=\"data row2 col3\" >0.11</td>\n",
       "    </tr>\n",
       "    <tr>\n",
       "      <th id=\"T_82f96_level0_row3\" class=\"row_heading level0 row3\" >15</th>\n",
       "      <td id=\"T_82f96_row3_col0\" class=\"data row3 col0\" >1.06e+04 K</td>\n",
       "      <td id=\"T_82f96_row3_col1\" class=\"data row3 col1\" >1.08e+04 K</td>\n",
       "      <td id=\"T_82f96_row3_col2\" class=\"data row3 col2\" >0.0859</td>\n",
       "      <td id=\"T_82f96_row3_col3\" class=\"data row3 col3\" >0.0821</td>\n",
       "    </tr>\n",
       "  </tbody>\n",
       "</table>\n"
      ],
      "text/plain": [
       "<pandas.io.formats.style.Styler at 0x7f0fb20a1220>"
      ]
     },
     "metadata": {},
     "output_type": "display_data"
    },
    {
     "name": "stdout",
     "output_type": "stream",
     "text": [
      "[\u001b[1mtardis.simulation.base\u001b[0m][\u001b[1;37mINFO\u001b[0m   ]  \n",
      "\t\n",
      "\tCurrent t_inner = 10644.054 K\n",
      "\tExpected t_inner for next iteration = 10653.543 K\n",
      " (\u001b[1mbase.py\u001b[0m:658)\n"
     ]
    },
    {
     "name": "stdout",
     "output_type": "stream",
     "text": [
      "[\u001b[1mtardis.simulation.base\u001b[0m][\u001b[1;37mINFO\u001b[0m   ]  \n",
      "\t\n",
      "\tStarting iteration 13 of 20 (\u001b[1mbase.py\u001b[0m:450)\n"
     ]
    },
    {
     "name": "stdout",
     "output_type": "stream",
     "text": [
      "[\u001b[1mtardis.simulation.base\u001b[0m][\u001b[1;37mINFO\u001b[0m   ]  \n",
      "\t\n",
      "\tLuminosity emitted   = 1.062e+43 erg / s\n",
      "\tLuminosity absorbed  = 3.406e+42 erg / s\n",
      "\tLuminosity requested = 1.059e+43 erg / s\n",
      " (\u001b[1mbase.py\u001b[0m:663)\n"
     ]
    },
    {
     "name": "stdout",
     "output_type": "stream",
     "text": [
      "[\u001b[1mtardis.simulation.base\u001b[0m][\u001b[1;37mINFO\u001b[0m   ]  \n",
      "\tIteration converged 11/4 consecutive times. (\u001b[1mbase.py\u001b[0m:262)\n"
     ]
    },
    {
     "name": "stdout",
     "output_type": "stream",
     "text": [
      "[\u001b[1mtardis.simulation.base\u001b[0m][\u001b[1;37mINFO\u001b[0m   ]  \n",
      "\t\n",
      "\tPlasma stratification: (\u001b[1mbase.py\u001b[0m:631)\n"
     ]
    },
    {
     "data": {
      "text/html": [
       "<style type=\"text/css\">\n",
       "</style>\n",
       "<table id=\"T_84ffc\">\n",
       "  <thead>\n",
       "    <tr>\n",
       "      <th class=\"index_name level0\" >Shell No.</th>\n",
       "      <th id=\"T_84ffc_level0_col0\" class=\"col_heading level0 col0\" >t_rad</th>\n",
       "      <th id=\"T_84ffc_level0_col1\" class=\"col_heading level0 col1\" >next_t_rad</th>\n",
       "      <th id=\"T_84ffc_level0_col2\" class=\"col_heading level0 col2\" >w</th>\n",
       "      <th id=\"T_84ffc_level0_col3\" class=\"col_heading level0 col3\" >next_w</th>\n",
       "    </tr>\n",
       "  </thead>\n",
       "  <tbody>\n",
       "    <tr>\n",
       "      <th id=\"T_84ffc_level0_row0\" class=\"row_heading level0 row0\" >0</th>\n",
       "      <td id=\"T_84ffc_row0_col0\" class=\"data row0 col0\" >1.11e+04 K</td>\n",
       "      <td id=\"T_84ffc_row0_col1\" class=\"data row0 col1\" >1.11e+04 K</td>\n",
       "      <td id=\"T_84ffc_row0_col2\" class=\"data row0 col2\" >0.467</td>\n",
       "      <td id=\"T_84ffc_row0_col3\" class=\"data row0 col3\" >0.466</td>\n",
       "    </tr>\n",
       "    <tr>\n",
       "      <th id=\"T_84ffc_level0_row1\" class=\"row_heading level0 row1\" >5</th>\n",
       "      <td id=\"T_84ffc_row1_col0\" class=\"data row1 col0\" >1.13e+04 K</td>\n",
       "      <td id=\"T_84ffc_row1_col1\" class=\"data row1 col1\" >1.13e+04 K</td>\n",
       "      <td id=\"T_84ffc_row1_col2\" class=\"data row1 col2\" >0.176</td>\n",
       "      <td id=\"T_84ffc_row1_col3\" class=\"data row1 col3\" >0.18</td>\n",
       "    </tr>\n",
       "    <tr>\n",
       "      <th id=\"T_84ffc_level0_row2\" class=\"row_heading level0 row2\" >10</th>\n",
       "      <td id=\"T_84ffc_row2_col0\" class=\"data row2 col0\" >1.11e+04 K</td>\n",
       "      <td id=\"T_84ffc_row2_col1\" class=\"data row2 col1\" >1.11e+04 K</td>\n",
       "      <td id=\"T_84ffc_row2_col2\" class=\"data row2 col2\" >0.11</td>\n",
       "      <td id=\"T_84ffc_row2_col3\" class=\"data row2 col3\" >0.111</td>\n",
       "    </tr>\n",
       "    <tr>\n",
       "      <th id=\"T_84ffc_level0_row3\" class=\"row_heading level0 row3\" >15</th>\n",
       "      <td id=\"T_84ffc_row3_col0\" class=\"data row3 col0\" >1.08e+04 K</td>\n",
       "      <td id=\"T_84ffc_row3_col1\" class=\"data row3 col1\" >1.08e+04 K</td>\n",
       "      <td id=\"T_84ffc_row3_col2\" class=\"data row3 col2\" >0.0821</td>\n",
       "      <td id=\"T_84ffc_row3_col3\" class=\"data row3 col3\" >0.0841</td>\n",
       "    </tr>\n",
       "  </tbody>\n",
       "</table>\n"
      ],
      "text/plain": [
       "<pandas.io.formats.style.Styler at 0x7f0fb1f91c40>"
      ]
     },
     "metadata": {},
     "output_type": "display_data"
    },
    {
     "name": "stdout",
     "output_type": "stream",
     "text": [
      "[\u001b[1mtardis.simulation.base\u001b[0m][\u001b[1;37mINFO\u001b[0m   ]  \n",
      "\t\n",
      "\tCurrent t_inner = 10653.543 K\n",
      "\tExpected t_inner for next iteration = 10647.277 K\n",
      " (\u001b[1mbase.py\u001b[0m:658)\n"
     ]
    },
    {
     "name": "stdout",
     "output_type": "stream",
     "text": [
      "[\u001b[1mtardis.simulation.base\u001b[0m][\u001b[1;37mINFO\u001b[0m   ]  \n",
      "\t\n",
      "\tStarting iteration 14 of 20 (\u001b[1mbase.py\u001b[0m:450)\n"
     ]
    },
    {
     "name": "stdout",
     "output_type": "stream",
     "text": [
      "[\u001b[1mtardis.simulation.base\u001b[0m][\u001b[1;37mINFO\u001b[0m   ]  \n",
      "\t\n",
      "\tLuminosity emitted   = 1.063e+43 erg / s\n",
      "\tLuminosity absorbed  = 3.369e+42 erg / s\n",
      "\tLuminosity requested = 1.059e+43 erg / s\n",
      " (\u001b[1mbase.py\u001b[0m:663)\n"
     ]
    },
    {
     "name": "stdout",
     "output_type": "stream",
     "text": [
      "[\u001b[1mtardis.simulation.base\u001b[0m][\u001b[1;37mINFO\u001b[0m   ]  \n",
      "\tIteration converged 12/4 consecutive times. (\u001b[1mbase.py\u001b[0m:262)\n"
     ]
    },
    {
     "name": "stdout",
     "output_type": "stream",
     "text": [
      "[\u001b[1mtardis.simulation.base\u001b[0m][\u001b[1;37mINFO\u001b[0m   ]  \n",
      "\t\n",
      "\tPlasma stratification: (\u001b[1mbase.py\u001b[0m:631)\n"
     ]
    },
    {
     "data": {
      "text/html": [
       "<style type=\"text/css\">\n",
       "</style>\n",
       "<table id=\"T_471f2\">\n",
       "  <thead>\n",
       "    <tr>\n",
       "      <th class=\"index_name level0\" >Shell No.</th>\n",
       "      <th id=\"T_471f2_level0_col0\" class=\"col_heading level0 col0\" >t_rad</th>\n",
       "      <th id=\"T_471f2_level0_col1\" class=\"col_heading level0 col1\" >next_t_rad</th>\n",
       "      <th id=\"T_471f2_level0_col2\" class=\"col_heading level0 col2\" >w</th>\n",
       "      <th id=\"T_471f2_level0_col3\" class=\"col_heading level0 col3\" >next_w</th>\n",
       "    </tr>\n",
       "  </thead>\n",
       "  <tbody>\n",
       "    <tr>\n",
       "      <th id=\"T_471f2_level0_row0\" class=\"row_heading level0 row0\" >0</th>\n",
       "      <td id=\"T_471f2_row0_col0\" class=\"data row0 col0\" >1.11e+04 K</td>\n",
       "      <td id=\"T_471f2_row0_col1\" class=\"data row0 col1\" >1.11e+04 K</td>\n",
       "      <td id=\"T_471f2_row0_col2\" class=\"data row0 col2\" >0.466</td>\n",
       "      <td id=\"T_471f2_row0_col3\" class=\"data row0 col3\" >0.469</td>\n",
       "    </tr>\n",
       "    <tr>\n",
       "      <th id=\"T_471f2_level0_row1\" class=\"row_heading level0 row1\" >5</th>\n",
       "      <td id=\"T_471f2_row1_col0\" class=\"data row1 col0\" >1.13e+04 K</td>\n",
       "      <td id=\"T_471f2_row1_col1\" class=\"data row1 col1\" >1.13e+04 K</td>\n",
       "      <td id=\"T_471f2_row1_col2\" class=\"data row1 col2\" >0.18</td>\n",
       "      <td id=\"T_471f2_row1_col3\" class=\"data row1 col3\" >0.182</td>\n",
       "    </tr>\n",
       "    <tr>\n",
       "      <th id=\"T_471f2_level0_row2\" class=\"row_heading level0 row2\" >10</th>\n",
       "      <td id=\"T_471f2_row2_col0\" class=\"data row2 col0\" >1.11e+04 K</td>\n",
       "      <td id=\"T_471f2_row2_col1\" class=\"data row2 col1\" >1.1e+04 K</td>\n",
       "      <td id=\"T_471f2_row2_col2\" class=\"data row2 col2\" >0.111</td>\n",
       "      <td id=\"T_471f2_row2_col3\" class=\"data row2 col3\" >0.113</td>\n",
       "    </tr>\n",
       "    <tr>\n",
       "      <th id=\"T_471f2_level0_row3\" class=\"row_heading level0 row3\" >15</th>\n",
       "      <td id=\"T_471f2_row3_col0\" class=\"data row3 col0\" >1.08e+04 K</td>\n",
       "      <td id=\"T_471f2_row3_col1\" class=\"data row3 col1\" >1.07e+04 K</td>\n",
       "      <td id=\"T_471f2_row3_col2\" class=\"data row3 col2\" >0.0841</td>\n",
       "      <td id=\"T_471f2_row3_col3\" class=\"data row3 col3\" >0.0854</td>\n",
       "    </tr>\n",
       "  </tbody>\n",
       "</table>\n"
      ],
      "text/plain": [
       "<pandas.io.formats.style.Styler at 0x7f0fb1de76e0>"
      ]
     },
     "metadata": {},
     "output_type": "display_data"
    },
    {
     "name": "stdout",
     "output_type": "stream",
     "text": [
      "[\u001b[1mtardis.simulation.base\u001b[0m][\u001b[1;37mINFO\u001b[0m   ]  \n",
      "\t\n",
      "\tCurrent t_inner = 10647.277 K\n",
      "\tExpected t_inner for next iteration = 10638.875 K\n",
      " (\u001b[1mbase.py\u001b[0m:658)\n"
     ]
    },
    {
     "name": "stdout",
     "output_type": "stream",
     "text": [
      "[\u001b[1mtardis.simulation.base\u001b[0m][\u001b[1;37mINFO\u001b[0m   ]  \n",
      "\t\n",
      "\tStarting iteration 15 of 20 (\u001b[1mbase.py\u001b[0m:450)\n"
     ]
    },
    {
     "name": "stdout",
     "output_type": "stream",
     "text": [
      "[\u001b[1mtardis.simulation.base\u001b[0m][\u001b[1;37mINFO\u001b[0m   ]  \n",
      "\t\n",
      "\tLuminosity emitted   = 1.053e+43 erg / s\n",
      "\tLuminosity absorbed  = 3.417e+42 erg / s\n",
      "\tLuminosity requested = 1.059e+43 erg / s\n",
      " (\u001b[1mbase.py\u001b[0m:663)\n"
     ]
    },
    {
     "name": "stdout",
     "output_type": "stream",
     "text": [
      "[\u001b[1mtardis.simulation.base\u001b[0m][\u001b[1;37mINFO\u001b[0m   ]  \n",
      "\tIteration converged 13/4 consecutive times. (\u001b[1mbase.py\u001b[0m:262)\n"
     ]
    },
    {
     "name": "stdout",
     "output_type": "stream",
     "text": [
      "[\u001b[1mtardis.simulation.base\u001b[0m][\u001b[1;37mINFO\u001b[0m   ]  \n",
      "\t\n",
      "\tPlasma stratification: (\u001b[1mbase.py\u001b[0m:631)\n"
     ]
    },
    {
     "data": {
      "text/html": [
       "<style type=\"text/css\">\n",
       "</style>\n",
       "<table id=\"T_f6cc7\">\n",
       "  <thead>\n",
       "    <tr>\n",
       "      <th class=\"index_name level0\" >Shell No.</th>\n",
       "      <th id=\"T_f6cc7_level0_col0\" class=\"col_heading level0 col0\" >t_rad</th>\n",
       "      <th id=\"T_f6cc7_level0_col1\" class=\"col_heading level0 col1\" >next_t_rad</th>\n",
       "      <th id=\"T_f6cc7_level0_col2\" class=\"col_heading level0 col2\" >w</th>\n",
       "      <th id=\"T_f6cc7_level0_col3\" class=\"col_heading level0 col3\" >next_w</th>\n",
       "    </tr>\n",
       "  </thead>\n",
       "  <tbody>\n",
       "    <tr>\n",
       "      <th id=\"T_f6cc7_level0_row0\" class=\"row_heading level0 row0\" >0</th>\n",
       "      <td id=\"T_f6cc7_row0_col0\" class=\"data row0 col0\" >1.11e+04 K</td>\n",
       "      <td id=\"T_f6cc7_row0_col1\" class=\"data row0 col1\" >1.1e+04 K</td>\n",
       "      <td id=\"T_f6cc7_row0_col2\" class=\"data row0 col2\" >0.469</td>\n",
       "      <td id=\"T_f6cc7_row0_col3\" class=\"data row0 col3\" >0.484</td>\n",
       "    </tr>\n",
       "    <tr>\n",
       "      <th id=\"T_f6cc7_level0_row1\" class=\"row_heading level0 row1\" >5</th>\n",
       "      <td id=\"T_f6cc7_row1_col0\" class=\"data row1 col0\" >1.13e+04 K</td>\n",
       "      <td id=\"T_f6cc7_row1_col1\" class=\"data row1 col1\" >1.13e+04 K</td>\n",
       "      <td id=\"T_f6cc7_row1_col2\" class=\"data row1 col2\" >0.182</td>\n",
       "      <td id=\"T_f6cc7_row1_col3\" class=\"data row1 col3\" >0.181</td>\n",
       "    </tr>\n",
       "    <tr>\n",
       "      <th id=\"T_f6cc7_level0_row2\" class=\"row_heading level0 row2\" >10</th>\n",
       "      <td id=\"T_f6cc7_row2_col0\" class=\"data row2 col0\" >1.1e+04 K</td>\n",
       "      <td id=\"T_f6cc7_row2_col1\" class=\"data row2 col1\" >1.1e+04 K</td>\n",
       "      <td id=\"T_f6cc7_row2_col2\" class=\"data row2 col2\" >0.113</td>\n",
       "      <td id=\"T_f6cc7_row2_col3\" class=\"data row2 col3\" >0.113</td>\n",
       "    </tr>\n",
       "    <tr>\n",
       "      <th id=\"T_f6cc7_level0_row3\" class=\"row_heading level0 row3\" >15</th>\n",
       "      <td id=\"T_f6cc7_row3_col0\" class=\"data row3 col0\" >1.07e+04 K</td>\n",
       "      <td id=\"T_f6cc7_row3_col1\" class=\"data row3 col1\" >1.07e+04 K</td>\n",
       "      <td id=\"T_f6cc7_row3_col2\" class=\"data row3 col2\" >0.0854</td>\n",
       "      <td id=\"T_f6cc7_row3_col3\" class=\"data row3 col3\" >0.0858</td>\n",
       "    </tr>\n",
       "  </tbody>\n",
       "</table>\n"
      ],
      "text/plain": [
       "<pandas.io.formats.style.Styler at 0x7f0fb1f90bf0>"
      ]
     },
     "metadata": {},
     "output_type": "display_data"
    },
    {
     "name": "stdout",
     "output_type": "stream",
     "text": [
      "[\u001b[1mtardis.simulation.base\u001b[0m][\u001b[1;37mINFO\u001b[0m   ]  \n",
      "\t\n",
      "\tCurrent t_inner = 10638.875 K\n",
      "\tExpected t_inner for next iteration = 10655.125 K\n",
      " (\u001b[1mbase.py\u001b[0m:658)\n"
     ]
    },
    {
     "name": "stdout",
     "output_type": "stream",
     "text": [
      "[\u001b[1mtardis.simulation.base\u001b[0m][\u001b[1;37mINFO\u001b[0m   ]  \n",
      "\t\n",
      "\tStarting iteration 16 of 20 (\u001b[1mbase.py\u001b[0m:450)\n"
     ]
    },
    {
     "name": "stdout",
     "output_type": "stream",
     "text": [
      "[\u001b[1mtardis.simulation.base\u001b[0m][\u001b[1;37mINFO\u001b[0m   ]  \n",
      "\t\n",
      "\tLuminosity emitted   = 1.059e+43 erg / s\n",
      "\tLuminosity absorbed  = 3.445e+42 erg / s\n",
      "\tLuminosity requested = 1.059e+43 erg / s\n",
      " (\u001b[1mbase.py\u001b[0m:663)\n"
     ]
    },
    {
     "name": "stdout",
     "output_type": "stream",
     "text": [
      "[\u001b[1mtardis.simulation.base\u001b[0m][\u001b[1;37mINFO\u001b[0m   ]  \n",
      "\tIteration converged 14/4 consecutive times. (\u001b[1mbase.py\u001b[0m:262)\n"
     ]
    },
    {
     "name": "stdout",
     "output_type": "stream",
     "text": [
      "[\u001b[1mtardis.simulation.base\u001b[0m][\u001b[1;37mINFO\u001b[0m   ]  \n",
      "\t\n",
      "\tPlasma stratification: (\u001b[1mbase.py\u001b[0m:631)\n"
     ]
    },
    {
     "data": {
      "text/html": [
       "<style type=\"text/css\">\n",
       "</style>\n",
       "<table id=\"T_25e31\">\n",
       "  <thead>\n",
       "    <tr>\n",
       "      <th class=\"index_name level0\" >Shell No.</th>\n",
       "      <th id=\"T_25e31_level0_col0\" class=\"col_heading level0 col0\" >t_rad</th>\n",
       "      <th id=\"T_25e31_level0_col1\" class=\"col_heading level0 col1\" >next_t_rad</th>\n",
       "      <th id=\"T_25e31_level0_col2\" class=\"col_heading level0 col2\" >w</th>\n",
       "      <th id=\"T_25e31_level0_col3\" class=\"col_heading level0 col3\" >next_w</th>\n",
       "    </tr>\n",
       "  </thead>\n",
       "  <tbody>\n",
       "    <tr>\n",
       "      <th id=\"T_25e31_level0_row0\" class=\"row_heading level0 row0\" >0</th>\n",
       "      <td id=\"T_25e31_row0_col0\" class=\"data row0 col0\" >1.1e+04 K</td>\n",
       "      <td id=\"T_25e31_row0_col1\" class=\"data row0 col1\" >1.1e+04 K</td>\n",
       "      <td id=\"T_25e31_row0_col2\" class=\"data row0 col2\" >0.484</td>\n",
       "      <td id=\"T_25e31_row0_col3\" class=\"data row0 col3\" >0.472</td>\n",
       "    </tr>\n",
       "    <tr>\n",
       "      <th id=\"T_25e31_level0_row1\" class=\"row_heading level0 row1\" >5</th>\n",
       "      <td id=\"T_25e31_row1_col0\" class=\"data row1 col0\" >1.13e+04 K</td>\n",
       "      <td id=\"T_25e31_row1_col1\" class=\"data row1 col1\" >1.13e+04 K</td>\n",
       "      <td id=\"T_25e31_row1_col2\" class=\"data row1 col2\" >0.181</td>\n",
       "      <td id=\"T_25e31_row1_col3\" class=\"data row1 col3\" >0.177</td>\n",
       "    </tr>\n",
       "    <tr>\n",
       "      <th id=\"T_25e31_level0_row2\" class=\"row_heading level0 row2\" >10</th>\n",
       "      <td id=\"T_25e31_row2_col0\" class=\"data row2 col0\" >1.1e+04 K</td>\n",
       "      <td id=\"T_25e31_row2_col1\" class=\"data row2 col1\" >1.1e+04 K</td>\n",
       "      <td id=\"T_25e31_row2_col2\" class=\"data row2 col2\" >0.113</td>\n",
       "      <td id=\"T_25e31_row2_col3\" class=\"data row2 col3\" >0.113</td>\n",
       "    </tr>\n",
       "    <tr>\n",
       "      <th id=\"T_25e31_level0_row3\" class=\"row_heading level0 row3\" >15</th>\n",
       "      <td id=\"T_25e31_row3_col0\" class=\"data row3 col0\" >1.07e+04 K</td>\n",
       "      <td id=\"T_25e31_row3_col1\" class=\"data row3 col1\" >1.06e+04 K</td>\n",
       "      <td id=\"T_25e31_row3_col2\" class=\"data row3 col2\" >0.0858</td>\n",
       "      <td id=\"T_25e31_row3_col3\" class=\"data row3 col3\" >0.0858</td>\n",
       "    </tr>\n",
       "  </tbody>\n",
       "</table>\n"
      ],
      "text/plain": [
       "<pandas.io.formats.style.Styler at 0x7f0fb1f93bc0>"
      ]
     },
     "metadata": {},
     "output_type": "display_data"
    },
    {
     "name": "stdout",
     "output_type": "stream",
     "text": [
      "[\u001b[1mtardis.simulation.base\u001b[0m][\u001b[1;37mINFO\u001b[0m   ]  \n",
      "\t\n",
      "\tCurrent t_inner = 10655.125 K\n",
      "\tExpected t_inner for next iteration = 10655.561 K\n",
      " (\u001b[1mbase.py\u001b[0m:658)\n"
     ]
    },
    {
     "name": "stdout",
     "output_type": "stream",
     "text": [
      "[\u001b[1mtardis.simulation.base\u001b[0m][\u001b[1;37mINFO\u001b[0m   ]  \n",
      "\t\n",
      "\tStarting iteration 17 of 20 (\u001b[1mbase.py\u001b[0m:450)\n"
     ]
    },
    {
     "name": "stdout",
     "output_type": "stream",
     "text": [
      "[\u001b[1mtardis.simulation.base\u001b[0m][\u001b[1;37mINFO\u001b[0m   ]  \n",
      "\t\n",
      "\tLuminosity emitted   = 1.067e+43 erg / s\n",
      "\tLuminosity absorbed  = 3.372e+42 erg / s\n",
      "\tLuminosity requested = 1.059e+43 erg / s\n",
      " (\u001b[1mbase.py\u001b[0m:663)\n"
     ]
    },
    {
     "name": "stdout",
     "output_type": "stream",
     "text": [
      "[\u001b[1mtardis.simulation.base\u001b[0m][\u001b[1;37mINFO\u001b[0m   ]  \n",
      "\tIteration converged 15/4 consecutive times. (\u001b[1mbase.py\u001b[0m:262)\n"
     ]
    },
    {
     "name": "stdout",
     "output_type": "stream",
     "text": [
      "[\u001b[1mtardis.simulation.base\u001b[0m][\u001b[1;37mINFO\u001b[0m   ]  \n",
      "\t\n",
      "\tPlasma stratification: (\u001b[1mbase.py\u001b[0m:631)\n"
     ]
    },
    {
     "data": {
      "text/html": [
       "<style type=\"text/css\">\n",
       "</style>\n",
       "<table id=\"T_339d0\">\n",
       "  <thead>\n",
       "    <tr>\n",
       "      <th class=\"index_name level0\" >Shell No.</th>\n",
       "      <th id=\"T_339d0_level0_col0\" class=\"col_heading level0 col0\" >t_rad</th>\n",
       "      <th id=\"T_339d0_level0_col1\" class=\"col_heading level0 col1\" >next_t_rad</th>\n",
       "      <th id=\"T_339d0_level0_col2\" class=\"col_heading level0 col2\" >w</th>\n",
       "      <th id=\"T_339d0_level0_col3\" class=\"col_heading level0 col3\" >next_w</th>\n",
       "    </tr>\n",
       "  </thead>\n",
       "  <tbody>\n",
       "    <tr>\n",
       "      <th id=\"T_339d0_level0_row0\" class=\"row_heading level0 row0\" >0</th>\n",
       "      <td id=\"T_339d0_row0_col0\" class=\"data row0 col0\" >1.1e+04 K</td>\n",
       "      <td id=\"T_339d0_row0_col1\" class=\"data row0 col1\" >1.11e+04 K</td>\n",
       "      <td id=\"T_339d0_row0_col2\" class=\"data row0 col2\" >0.472</td>\n",
       "      <td id=\"T_339d0_row0_col3\" class=\"data row0 col3\" >0.468</td>\n",
       "    </tr>\n",
       "    <tr>\n",
       "      <th id=\"T_339d0_level0_row1\" class=\"row_heading level0 row1\" >5</th>\n",
       "      <td id=\"T_339d0_row1_col0\" class=\"data row1 col0\" >1.13e+04 K</td>\n",
       "      <td id=\"T_339d0_row1_col1\" class=\"data row1 col1\" >1.14e+04 K</td>\n",
       "      <td id=\"T_339d0_row1_col2\" class=\"data row1 col2\" >0.177</td>\n",
       "      <td id=\"T_339d0_row1_col3\" class=\"data row1 col3\" >0.175</td>\n",
       "    </tr>\n",
       "    <tr>\n",
       "      <th id=\"T_339d0_level0_row2\" class=\"row_heading level0 row2\" >10</th>\n",
       "      <td id=\"T_339d0_row2_col0\" class=\"data row2 col0\" >1.1e+04 K</td>\n",
       "      <td id=\"T_339d0_row2_col1\" class=\"data row2 col1\" >1.11e+04 K</td>\n",
       "      <td id=\"T_339d0_row2_col2\" class=\"data row2 col2\" >0.113</td>\n",
       "      <td id=\"T_339d0_row2_col3\" class=\"data row2 col3\" >0.11</td>\n",
       "    </tr>\n",
       "    <tr>\n",
       "      <th id=\"T_339d0_level0_row3\" class=\"row_heading level0 row3\" >15</th>\n",
       "      <td id=\"T_339d0_row3_col0\" class=\"data row3 col0\" >1.06e+04 K</td>\n",
       "      <td id=\"T_339d0_row3_col1\" class=\"data row3 col1\" >1.08e+04 K</td>\n",
       "      <td id=\"T_339d0_row3_col2\" class=\"data row3 col2\" >0.0858</td>\n",
       "      <td id=\"T_339d0_row3_col3\" class=\"data row3 col3\" >0.0816</td>\n",
       "    </tr>\n",
       "  </tbody>\n",
       "</table>\n"
      ],
      "text/plain": [
       "<pandas.io.formats.style.Styler at 0x7f0fb1f7c680>"
      ]
     },
     "metadata": {},
     "output_type": "display_data"
    },
    {
     "name": "stdout",
     "output_type": "stream",
     "text": [
      "[\u001b[1mtardis.simulation.base\u001b[0m][\u001b[1;37mINFO\u001b[0m   ]  \n",
      "\t\n",
      "\tCurrent t_inner = 10655.561 K\n",
      "\tExpected t_inner for next iteration = 10636.536 K\n",
      " (\u001b[1mbase.py\u001b[0m:658)\n"
     ]
    },
    {
     "name": "stdout",
     "output_type": "stream",
     "text": [
      "[\u001b[1mtardis.simulation.base\u001b[0m][\u001b[1;37mINFO\u001b[0m   ]  \n",
      "\t\n",
      "\tStarting iteration 18 of 20 (\u001b[1mbase.py\u001b[0m:450)\n"
     ]
    },
    {
     "name": "stdout",
     "output_type": "stream",
     "text": [
      "[\u001b[1mtardis.simulation.base\u001b[0m][\u001b[1;37mINFO\u001b[0m   ]  \n",
      "\t\n",
      "\tLuminosity emitted   = 1.057e+43 erg / s\n",
      "\tLuminosity absorbed  = 3.365e+42 erg / s\n",
      "\tLuminosity requested = 1.059e+43 erg / s\n",
      " (\u001b[1mbase.py\u001b[0m:663)\n"
     ]
    },
    {
     "name": "stdout",
     "output_type": "stream",
     "text": [
      "[\u001b[1mtardis.simulation.base\u001b[0m][\u001b[1;37mINFO\u001b[0m   ]  \n",
      "\tIteration converged 16/4 consecutive times. (\u001b[1mbase.py\u001b[0m:262)\n"
     ]
    },
    {
     "name": "stdout",
     "output_type": "stream",
     "text": [
      "[\u001b[1mtardis.simulation.base\u001b[0m][\u001b[1;37mINFO\u001b[0m   ]  \n",
      "\t\n",
      "\tPlasma stratification: (\u001b[1mbase.py\u001b[0m:631)\n"
     ]
    },
    {
     "data": {
      "text/html": [
       "<style type=\"text/css\">\n",
       "</style>\n",
       "<table id=\"T_0319f\">\n",
       "  <thead>\n",
       "    <tr>\n",
       "      <th class=\"index_name level0\" >Shell No.</th>\n",
       "      <th id=\"T_0319f_level0_col0\" class=\"col_heading level0 col0\" >t_rad</th>\n",
       "      <th id=\"T_0319f_level0_col1\" class=\"col_heading level0 col1\" >next_t_rad</th>\n",
       "      <th id=\"T_0319f_level0_col2\" class=\"col_heading level0 col2\" >w</th>\n",
       "      <th id=\"T_0319f_level0_col3\" class=\"col_heading level0 col3\" >next_w</th>\n",
       "    </tr>\n",
       "  </thead>\n",
       "  <tbody>\n",
       "    <tr>\n",
       "      <th id=\"T_0319f_level0_row0\" class=\"row_heading level0 row0\" >0</th>\n",
       "      <td id=\"T_0319f_row0_col0\" class=\"data row0 col0\" >1.11e+04 K</td>\n",
       "      <td id=\"T_0319f_row0_col1\" class=\"data row0 col1\" >1.11e+04 K</td>\n",
       "      <td id=\"T_0319f_row0_col2\" class=\"data row0 col2\" >0.468</td>\n",
       "      <td id=\"T_0319f_row0_col3\" class=\"data row0 col3\" >0.464</td>\n",
       "    </tr>\n",
       "    <tr>\n",
       "      <th id=\"T_0319f_level0_row1\" class=\"row_heading level0 row1\" >5</th>\n",
       "      <td id=\"T_0319f_row1_col0\" class=\"data row1 col0\" >1.14e+04 K</td>\n",
       "      <td id=\"T_0319f_row1_col1\" class=\"data row1 col1\" >1.13e+04 K</td>\n",
       "      <td id=\"T_0319f_row1_col2\" class=\"data row1 col2\" >0.175</td>\n",
       "      <td id=\"T_0319f_row1_col3\" class=\"data row1 col3\" >0.177</td>\n",
       "    </tr>\n",
       "    <tr>\n",
       "      <th id=\"T_0319f_level0_row2\" class=\"row_heading level0 row2\" >10</th>\n",
       "      <td id=\"T_0319f_row2_col0\" class=\"data row2 col0\" >1.11e+04 K</td>\n",
       "      <td id=\"T_0319f_row2_col1\" class=\"data row2 col1\" >1.1e+04 K</td>\n",
       "      <td id=\"T_0319f_row2_col2\" class=\"data row2 col2\" >0.11</td>\n",
       "      <td id=\"T_0319f_row2_col3\" class=\"data row2 col3\" >0.113</td>\n",
       "    </tr>\n",
       "    <tr>\n",
       "      <th id=\"T_0319f_level0_row3\" class=\"row_heading level0 row3\" >15</th>\n",
       "      <td id=\"T_0319f_row3_col0\" class=\"data row3 col0\" >1.08e+04 K</td>\n",
       "      <td id=\"T_0319f_row3_col1\" class=\"data row3 col1\" >1.07e+04 K</td>\n",
       "      <td id=\"T_0319f_row3_col2\" class=\"data row3 col2\" >0.0816</td>\n",
       "      <td id=\"T_0319f_row3_col3\" class=\"data row3 col3\" >0.0848</td>\n",
       "    </tr>\n",
       "  </tbody>\n",
       "</table>\n"
      ],
      "text/plain": [
       "<pandas.io.formats.style.Styler at 0x7f0fb1f76c00>"
      ]
     },
     "metadata": {},
     "output_type": "display_data"
    },
    {
     "name": "stdout",
     "output_type": "stream",
     "text": [
      "[\u001b[1mtardis.simulation.base\u001b[0m][\u001b[1;37mINFO\u001b[0m   ]  \n",
      "\t\n",
      "\tCurrent t_inner = 10636.536 K\n",
      "\tExpected t_inner for next iteration = 10641.692 K\n",
      " (\u001b[1mbase.py\u001b[0m:658)\n"
     ]
    },
    {
     "name": "stdout",
     "output_type": "stream",
     "text": [
      "[\u001b[1mtardis.simulation.base\u001b[0m][\u001b[1;37mINFO\u001b[0m   ]  \n",
      "\t\n",
      "\tStarting iteration 19 of 20 (\u001b[1mbase.py\u001b[0m:450)\n"
     ]
    },
    {
     "name": "stdout",
     "output_type": "stream",
     "text": [
      "[\u001b[1mtardis.simulation.base\u001b[0m][\u001b[1;37mINFO\u001b[0m   ]  \n",
      "\t\n",
      "\tLuminosity emitted   = 1.056e+43 erg / s\n",
      "\tLuminosity absorbed  = 3.405e+42 erg / s\n",
      "\tLuminosity requested = 1.059e+43 erg / s\n",
      " (\u001b[1mbase.py\u001b[0m:663)\n"
     ]
    },
    {
     "name": "stdout",
     "output_type": "stream",
     "text": [
      "[\u001b[1mtardis.simulation.base\u001b[0m][\u001b[1;37mINFO\u001b[0m   ]  \n",
      "\tIteration converged 17/4 consecutive times. (\u001b[1mbase.py\u001b[0m:262)\n"
     ]
    },
    {
     "name": "stdout",
     "output_type": "stream",
     "text": [
      "[\u001b[1mtardis.simulation.base\u001b[0m][\u001b[1;37mINFO\u001b[0m   ]  \n",
      "\t\n",
      "\tPlasma stratification: (\u001b[1mbase.py\u001b[0m:631)\n"
     ]
    },
    {
     "data": {
      "text/html": [
       "<style type=\"text/css\">\n",
       "</style>\n",
       "<table id=\"T_b454e\">\n",
       "  <thead>\n",
       "    <tr>\n",
       "      <th class=\"index_name level0\" >Shell No.</th>\n",
       "      <th id=\"T_b454e_level0_col0\" class=\"col_heading level0 col0\" >t_rad</th>\n",
       "      <th id=\"T_b454e_level0_col1\" class=\"col_heading level0 col1\" >next_t_rad</th>\n",
       "      <th id=\"T_b454e_level0_col2\" class=\"col_heading level0 col2\" >w</th>\n",
       "      <th id=\"T_b454e_level0_col3\" class=\"col_heading level0 col3\" >next_w</th>\n",
       "    </tr>\n",
       "  </thead>\n",
       "  <tbody>\n",
       "    <tr>\n",
       "      <th id=\"T_b454e_level0_row0\" class=\"row_heading level0 row0\" >0</th>\n",
       "      <td id=\"T_b454e_row0_col0\" class=\"data row0 col0\" >1.11e+04 K</td>\n",
       "      <td id=\"T_b454e_row0_col1\" class=\"data row0 col1\" >1.11e+04 K</td>\n",
       "      <td id=\"T_b454e_row0_col2\" class=\"data row0 col2\" >0.464</td>\n",
       "      <td id=\"T_b454e_row0_col3\" class=\"data row0 col3\" >0.466</td>\n",
       "    </tr>\n",
       "    <tr>\n",
       "      <th id=\"T_b454e_level0_row1\" class=\"row_heading level0 row1\" >5</th>\n",
       "      <td id=\"T_b454e_row1_col0\" class=\"data row1 col0\" >1.13e+04 K</td>\n",
       "      <td id=\"T_b454e_row1_col1\" class=\"data row1 col1\" >1.13e+04 K</td>\n",
       "      <td id=\"T_b454e_row1_col2\" class=\"data row1 col2\" >0.177</td>\n",
       "      <td id=\"T_b454e_row1_col3\" class=\"data row1 col3\" >0.177</td>\n",
       "    </tr>\n",
       "    <tr>\n",
       "      <th id=\"T_b454e_level0_row2\" class=\"row_heading level0 row2\" >10</th>\n",
       "      <td id=\"T_b454e_row2_col0\" class=\"data row2 col0\" >1.1e+04 K</td>\n",
       "      <td id=\"T_b454e_row2_col1\" class=\"data row2 col1\" >1.11e+04 K</td>\n",
       "      <td id=\"T_b454e_row2_col2\" class=\"data row2 col2\" >0.113</td>\n",
       "      <td id=\"T_b454e_row2_col3\" class=\"data row2 col3\" >0.111</td>\n",
       "    </tr>\n",
       "    <tr>\n",
       "      <th id=\"T_b454e_level0_row3\" class=\"row_heading level0 row3\" >15</th>\n",
       "      <td id=\"T_b454e_row3_col0\" class=\"data row3 col0\" >1.07e+04 K</td>\n",
       "      <td id=\"T_b454e_row3_col1\" class=\"data row3 col1\" >1.07e+04 K</td>\n",
       "      <td id=\"T_b454e_row3_col2\" class=\"data row3 col2\" >0.0848</td>\n",
       "      <td id=\"T_b454e_row3_col3\" class=\"data row3 col3\" >0.0853</td>\n",
       "    </tr>\n",
       "  </tbody>\n",
       "</table>\n"
      ],
      "text/plain": [
       "<pandas.io.formats.style.Styler at 0x7f0fb1f93ce0>"
      ]
     },
     "metadata": {},
     "output_type": "display_data"
    },
    {
     "name": "stdout",
     "output_type": "stream",
     "text": [
      "[\u001b[1mtardis.simulation.base\u001b[0m][\u001b[1;37mINFO\u001b[0m   ]  \n",
      "\t\n",
      "\tCurrent t_inner = 10641.692 K\n",
      "\tExpected t_inner for next iteration = 10650.463 K\n",
      " (\u001b[1mbase.py\u001b[0m:658)\n"
     ]
    },
    {
     "name": "stdout",
     "output_type": "stream",
     "text": [
      "[\u001b[1mtardis.simulation.base\u001b[0m][\u001b[1;37mINFO\u001b[0m   ]  \n",
      "\t\n",
      "\tSimulation finished in 19 iterations \n",
      "\tSimulation took 65.77 s\n",
      " (\u001b[1mbase.py\u001b[0m:548)\n"
     ]
    },
    {
     "name": "stdout",
     "output_type": "stream",
     "text": [
      "[\u001b[1mtardis.simulation.base\u001b[0m][\u001b[1;37mINFO\u001b[0m   ]  \n",
      "\t\n",
      "\tStarting iteration 20 of 20 (\u001b[1mbase.py\u001b[0m:450)\n"
     ]
    },
    {
     "name": "stdout",
     "output_type": "stream",
     "text": [
      "[\u001b[1mtardis.simulation.base\u001b[0m][\u001b[1;37mINFO\u001b[0m   ]  \n",
      "\t\n",
      "\tLuminosity emitted   = 1.061e+43 erg / s\n",
      "\tLuminosity absorbed  = 3.401e+42 erg / s\n",
      "\tLuminosity requested = 1.059e+43 erg / s\n",
      " (\u001b[1mbase.py\u001b[0m:663)\n"
     ]
    }
   ],
   "source": [
    "from tardis import run_tardis\n",
    "from tardis.io.atom_data.util import download_atom_data\n",
    "\n",
    "# We download the atomic data needed to run the simulation\n",
    "download_atom_data(\"kurucz_cd23_chianti_H_He\")\n",
    "\n",
    "sim = run_tardis(\"tardis_example.yml\", virtual_packet_logging=True)"
   ]
  },
  {
   "cell_type": "markdown",
   "metadata": {},
   "source": [
    "Now, import functions & class to create widgets from `visualization` subpackage:\n"
   ]
  },
  {
   "cell_type": "code",
   "execution_count": 2,
   "metadata": {
    "ExecuteTime": {
     "end_time": "2021-02-18T17:29:30.986893Z",
     "start_time": "2021-02-18T17:29:30.978764Z"
    },
    "execution": {
     "iopub.execute_input": "2024-08-19T10:59:03.012700Z",
     "iopub.status.busy": "2024-08-19T10:59:03.011472Z",
     "iopub.status.idle": "2024-08-19T10:59:03.015628Z",
     "shell.execute_reply": "2024-08-19T10:59:03.015163Z"
    }
   },
   "outputs": [],
   "source": [
    "from tardis.visualization import (\n",
    "    shell_info_from_simulation,\n",
    "    shell_info_from_hdf,\n",
    "    LineInfoWidget,\n",
    "    GrotrianWidget,\n",
    ")"
   ]
  },
  {
   "cell_type": "markdown",
   "metadata": {},
   "source": [
    "## Shell Info Widget\n",
    "\n",
    "This widget allows you to explore chemical abundances of each shell - all the way from elements to ions to levels - by just clicking on the rows you want to explore!\n",
    "\n",
    "There are two ways in which you can generate the widget:\n"
   ]
  },
  {
   "cell_type": "markdown",
   "metadata": {},
   "source": [
    "### Using a Simulation object\n",
    "\n",
    "We will use the simulation object we created in the beginning, `sim` to generate shell info widget. Then simply display it to start using.\n"
   ]
  },
  {
   "cell_type": "code",
   "execution_count": 3,
   "metadata": {
    "ExecuteTime": {
     "end_time": "2021-02-18T16:11:15.097803Z",
     "start_time": "2021-02-18T16:11:14.753761Z"
    },
    "execution": {
     "iopub.execute_input": "2024-08-19T10:59:03.018926Z",
     "iopub.status.busy": "2024-08-19T10:59:03.018075Z",
     "iopub.status.idle": "2024-08-19T10:59:03.078443Z",
     "shell.execute_reply": "2024-08-19T10:59:03.077982Z"
    }
   },
   "outputs": [
    {
     "name": "stdout",
     "output_type": "stream",
     "text": [
      "[\u001b[1mpy.warnings         \u001b[0m][\u001b[1;33mWARNING\u001b[0m]  \n",
      "\t/home/runner/work/tardis/tardis/tardis/visualization/widgets/shell_info.py:76: FutureWarning: DataFrame.applymap has been deprecated. Use DataFrame.map instead.\n",
      "  return shells_temp_w.applymap(lambda x: f\"{x:.6e}\")\n",
      " (\u001b[1mwarnings.py\u001b[0m:112)\n"
     ]
    },
    {
     "data": {
      "application/vnd.jupyter.widget-view+json": {
       "model_id": "1108aa4a9e7a479f95143a2e04ea3b6c",
       "version_major": 2,
       "version_minor": 0
      },
      "text/plain": [
       "VBox(children=(HTML(value='<b>Frac. Ab.</b> denotes <i>Fractional Abundances</i> (i.e all values sum to 1)<br>…"
      ]
     },
     "metadata": {},
     "output_type": "display_data"
    }
   ],
   "source": [
    "shell_info_widget = shell_info_from_simulation(sim)\n",
    "shell_info_widget.display()"
   ]
  },
  {
   "cell_type": "markdown",
   "metadata": {},
   "source": [
    "You can interact with the widget produced in output above (which won't be visible if you're viewing this notebook in our docs as an html page) like this:\n",
    "\n",
    "![Shell Info Widget Demo](../images/shell_info_widget_demo.gif)\n",
    "\n",
    "Use the button at the top of this page to run the notebook in interactively to use the widgets!\n"
   ]
  },
  {
   "cell_type": "markdown",
   "metadata": {},
   "source": [
    "### Using a saved simulation (HDF file)\n",
    "\n",
    "Alternatively, if you have a TARDIS simulation model saved on your disk as an HDF file, you can also use it to generate the shell info widget.\n"
   ]
  },
  {
   "cell_type": "code",
   "execution_count": 4,
   "metadata": {
    "ExecuteTime": {
     "end_time": "2021-02-18T17:24:41.195180Z",
     "start_time": "2021-02-18T17:24:39.006861Z"
    },
    "execution": {
     "iopub.execute_input": "2024-08-19T10:59:03.083524Z",
     "iopub.status.busy": "2024-08-19T10:59:03.083166Z",
     "iopub.status.idle": "2024-08-19T10:59:03.085579Z",
     "shell.execute_reply": "2024-08-19T10:59:03.085137Z"
    },
    "scrolled": true
   },
   "outputs": [],
   "source": [
    "# shell_info_widget = shell_info_from_hdf('demo.h5')\n",
    "# shell_info_widget.display()"
   ]
  },
  {
   "cell_type": "markdown",
   "metadata": {},
   "source": [
    "## Line Info Widget\n",
    "\n",
    "This widget lets you explore the atomic lines responsible for producing features in the simulated spectrum.\n",
    "\n",
    "You can select any wavelength range in the spectrum interactively to display a table giving the fraction of packets that experienced their last interaction with each species. Using toggle buttons, you can specify whether to filter the selected range by the emitted or absorbed wavelengths of packets. Clicking on a row in the species table, shows packet counts for each last line interaction of the selected species, which can be grouped in several ways.\n"
   ]
  },
  {
   "cell_type": "markdown",
   "metadata": {},
   "source": [
    "To generate line info widget, we will again use the simulation object `sim` and then display the widget:\n"
   ]
  },
  {
   "cell_type": "code",
   "execution_count": 5,
   "metadata": {
    "ExecuteTime": {
     "end_time": "2021-02-18T17:24:55.634945Z",
     "start_time": "2021-02-18T17:24:49.354718Z"
    },
    "execution": {
     "iopub.execute_input": "2024-08-19T10:59:03.087912Z",
     "iopub.status.busy": "2024-08-19T10:59:03.087580Z",
     "iopub.status.idle": "2024-08-19T10:59:03.575783Z",
     "shell.execute_reply": "2024-08-19T10:59:03.575277Z"
    }
   },
   "outputs": [
    {
     "data": {
      "application/vnd.jupyter.widget-view+json": {
       "model_id": "398d0291a3f54184a917bad7282ddaa0",
       "version_major": 2,
       "version_minor": 0
      },
      "text/plain": [
       "VBox(children=(FigureWidget({\n",
       "    'data': [{'name': 'Real packets',\n",
       "              'type': 'scatter',\n",
       "         …"
      ]
     },
     "metadata": {},
     "output_type": "display_data"
    }
   ],
   "source": [
    "line_info_widget = LineInfoWidget.from_simulation(sim)\n",
    "line_info_widget.display()"
   ]
  },
  {
   "cell_type": "markdown",
   "metadata": {},
   "source": [
    "You can interact with this widget (which again won't be visible if you're viewing this notebook in our docs as an html page) like this:\n",
    "\n",
    "![Line Info Widget Demo](../images/line_info_widget_demo.gif)\n"
   ]
  },
  {
   "cell_type": "markdown",
   "metadata": {},
   "source": [
    "<div class=\"alert alert-info\">\n",
    "\n",
    "Note\n",
    "\n",
    "The virtual packet logging capability must be active in order to produce virtual packets' spectrum in `Line Info Widget`. Thus, make sure to set `virtual_packet_logging: True` in your configuration file. It should be added under `virtual` property of `spectrum` property, as described in [configuration schema](https://tardis-sn.github.io/tardis/using/components/configuration/configuration.html#spectrum).\n",
    "\n",
    "</div>\n"
   ]
  },
  {
   "cell_type": "markdown",
   "metadata": {},
   "source": [
    "## Energy Level Diagram\n",
    "\n",
    "This widget lets you explore and visualize the various level populations and line interactions in a simulation in the form of an Energy Level Diagram.\n",
    "\n",
    "You can select any ion present in the simulation and filter the transitions by wavelength or model shell to display an energy level diagram, where:\n",
    "\n",
    "- The horizontal lines represent the energy levels. The thickness of each line shows the relative population of that energy level, with thicker lines being more populated.\n",
    "- The arrows represent the line interactions between levels, with the arrow direction giving the direction of the transition. The thickness of each arrow also shows the number of packets that underwent the transition while the wavelength is given by the color.\n",
    "\n",
    "In addition, you can also select between linear- and log-scaling for the y-axis (which represents the energy of each level) and the maximum number of levels to display, beginning from the lowest energy levels.\n"
   ]
  },
  {
   "cell_type": "markdown",
   "metadata": {},
   "source": [
    "To generate the energy level diagram, we will again use the simulation object `sim` and then display the widget:\n"
   ]
  },
  {
   "cell_type": "code",
   "execution_count": 6,
   "metadata": {
    "execution": {
     "iopub.execute_input": "2024-08-19T10:59:03.578397Z",
     "iopub.status.busy": "2024-08-19T10:59:03.578044Z",
     "iopub.status.idle": "2024-08-19T10:59:04.033070Z",
     "shell.execute_reply": "2024-08-19T10:59:04.032606Z"
    }
   },
   "outputs": [
    {
     "name": "stdout",
     "output_type": "stream",
     "text": [
      "[\u001b[1mpy.warnings         \u001b[0m][\u001b[1;33mWARNING\u001b[0m]  \n",
      "\t/home/runner/micromamba/envs/tardis/lib/python3.12/site-packages/pandas/core/arraylike.py:399: RuntimeWarning:\n",
      "\n",
      "divide by zero encountered in log\n",
      "\n",
      " (\u001b[1mwarnings.py\u001b[0m:112)\n"
     ]
    },
    {
     "data": {
      "application/vnd.jupyter.widget-view+json": {
       "model_id": "2f0d19ee5faa43d8befbb350531e2f96",
       "version_major": 2,
       "version_minor": 0
      },
      "text/plain": [
       "VBox(children=(HBox(children=(Dropdown(description='Ion', options=('O I', 'O II', 'O III', 'Mg II', 'Si II', '…"
      ]
     },
     "metadata": {},
     "output_type": "display_data"
    }
   ],
   "source": [
    "energy_level_widget = GrotrianWidget.from_simulation(sim)\n",
    "energy_level_widget.display()"
   ]
  },
  {
   "cell_type": "markdown",
   "metadata": {},
   "source": [
    "You can interact with this widget (which again won't be visible if you're viewing this notebook in our docs as an html page) like this:\n",
    "\n",
    "![Energy Level Diagram Demo](../images/energy_level_widget_options.gif)\n"
   ]
  },
  {
   "cell_type": "markdown",
   "metadata": {},
   "source": []
  }
 ],
 "metadata": {
  "kernelspec": {
   "display_name": "Python 3 (ipykernel)",
   "language": "python",
   "name": "python3"
  },
  "language_info": {
   "codemirror_mode": {
    "name": "ipython",
    "version": 3
   },
   "file_extension": ".py",
   "mimetype": "text/x-python",
   "name": "python",
   "nbconvert_exporter": "python",
   "pygments_lexer": "ipython3",
   "version": "3.12.4"
  },
  "notify_time": "5",
  "toc": {
   "base_numbering": 1,
   "nav_menu": {},
   "number_sections": false,
   "sideBar": true,
   "skip_h1_title": false,
   "title_cell": "Table of Contents",
   "title_sidebar": "Contents",
   "toc_cell": false,
   "toc_position": {},
   "toc_section_display": true,
   "toc_window_display": true
  },
  "varInspector": {
   "cols": {
    "lenName": 16,
    "lenType": 16,
    "lenVar": 40
   },
   "kernels_config": {
    "python": {
     "delete_cmd_postfix": "",
     "delete_cmd_prefix": "del ",
     "library": "var_list.py",
     "varRefreshCmd": "print(var_dic_list())"
    },
    "r": {
     "delete_cmd_postfix": ") ",
     "delete_cmd_prefix": "rm(",
     "library": "var_list.r",
     "varRefreshCmd": "cat(var_dic_list()) "
    }
   },
   "position": {
    "height": "271.85px",
    "left": "1265.58px",
    "right": "20px",
    "top": "65px",
    "width": "420.167px"
   },
   "types_to_exclude": [
    "module",
    "function",
    "builtin_function_or_method",
    "instance",
    "_Feature"
   ],
   "window_display": false
  },
  "widgets": {
   "application/vnd.jupyter.widget-state+json": {
    "state": {
     "042c6f74527d4649a3152b28daa6fb5b": {
      "model_module": "@jupyter-widgets/controls",
      "model_module_version": "1.5.0",
      "model_name": "HBoxModel",
      "state": {
       "_dom_classes": [],
       "_model_module": "@jupyter-widgets/controls",
       "_model_module_version": "1.5.0",
       "_model_name": "HBoxModel",
       "_view_count": null,
       "_view_module": "@jupyter-widgets/controls",
       "_view_module_version": "1.5.0",
       "_view_name": "HBoxView",
       "box_style": "",
       "children": [
        "IPY_MODEL_0d9d54f976d84b6982ff05a697ac1b5a",
        "IPY_MODEL_fb6a08cab5084a9dade1d55811c5f2db",
        "IPY_MODEL_9829f5de79294f30ab2b5dbd88cf2cf2"
       ],
       "layout": "IPY_MODEL_955a8459d40b4f6297a1df440b13dc2b"
      }
     },
     "07c984a7759f4adaa17cbbc4c4d57fba": {
      "model_module": "@jupyter-widgets/controls",
      "model_module_version": "1.5.0",
      "model_name": "DescriptionStyleModel",
      "state": {
       "_model_module": "@jupyter-widgets/controls",
       "_model_module_version": "1.5.0",
       "_model_name": "DescriptionStyleModel",
       "_view_count": null,
       "_view_module": "@jupyter-widgets/base",
       "_view_module_version": "1.2.0",
       "_view_name": "StyleView",
       "description_width": ""
      }
     },
     "0d9d54f976d84b6982ff05a697ac1b5a": {
      "model_module": "@jupyter-widgets/controls",
      "model_module_version": "1.5.0",
      "model_name": "HTMLModel",
      "state": {
       "_dom_classes": [],
       "_model_module": "@jupyter-widgets/controls",
       "_model_module_version": "1.5.0",
       "_model_name": "HTMLModel",
       "_view_count": null,
       "_view_module": "@jupyter-widgets/controls",
       "_view_module_version": "1.5.0",
       "_view_name": "HTMLView",
       "description": "",
       "description_tooltip": null,
       "layout": "IPY_MODEL_9fadda7e729a410194bfb4cc850f5913",
       "placeholder": "​",
       "style": "IPY_MODEL_c374b3f5e5654f20858302a01951b249",
       "value": "Iterations:"
      }
     },
     "0fd575516f184d2cac04a1860cf8ba22": {
      "model_module": "@jupyter-widgets/controls",
      "model_module_version": "1.5.0",
      "model_name": "ProgressStyleModel",
      "state": {
       "_model_module": "@jupyter-widgets/controls",
       "_model_module_version": "1.5.0",
       "_model_name": "ProgressStyleModel",
       "_view_count": null,
       "_view_module": "@jupyter-widgets/base",
       "_view_module_version": "1.2.0",
       "_view_name": "StyleView",
       "bar_color": null,
       "description_width": ""
      }
     },
     "0ff0c881b4d04d9ba257d8cfd68e020c": {
      "model_module": "@jupyter-widgets/base",
      "model_module_version": "1.2.0",
      "model_name": "LayoutModel",
      "state": {
       "_model_module": "@jupyter-widgets/base",
       "_model_module_version": "1.2.0",
       "_model_name": "LayoutModel",
       "_view_count": null,
       "_view_module": "@jupyter-widgets/base",
       "_view_module_version": "1.2.0",
       "_view_name": "LayoutView",
       "align_content": null,
       "align_items": null,
       "align_self": null,
       "border": null,
       "bottom": null,
       "display": null,
       "flex": null,
       "flex_flow": null,
       "grid_area": null,
       "grid_auto_columns": null,
       "grid_auto_flow": null,
       "grid_auto_rows": null,
       "grid_column": null,
       "grid_gap": null,
       "grid_row": null,
       "grid_template_areas": null,
       "grid_template_columns": null,
       "grid_template_rows": null,
       "height": null,
       "justify_content": null,
       "justify_items": null,
       "left": null,
       "margin": null,
       "max_height": null,
       "max_width": null,
       "min_height": null,
       "min_width": null,
       "object_fit": null,
       "object_position": null,
       "order": null,
       "overflow": null,
       "overflow_x": null,
       "overflow_y": null,
       "padding": null,
       "right": null,
       "top": null,
       "visibility": null,
       "width": "24%"
      }
     },
     "1108aa4a9e7a479f95143a2e04ea3b6c": {
      "model_module": "@jupyter-widgets/controls",
      "model_module_version": "1.5.0",
      "model_name": "VBoxModel",
      "state": {
       "_dom_classes": [],
       "_model_module": "@jupyter-widgets/controls",
       "_model_module_version": "1.5.0",
       "_model_name": "VBoxModel",
       "_view_count": null,
       "_view_module": "@jupyter-widgets/controls",
       "_view_module_version": "1.5.0",
       "_view_name": "VBoxView",
       "box_style": "",
       "children": [
        "IPY_MODEL_5b455f68f10d42838ef81267aaa1852f",
        "IPY_MODEL_681cb669c7da42829e91f5abf17d6f27"
       ],
       "layout": "IPY_MODEL_7e689e67e50744d6ba8108b9940bc090"
      }
     },
     "12357813c9ed41619e2fe915a0f901af": {
      "model_module": "@jupyter-widgets/base",
      "model_module_version": "1.2.0",
      "model_name": "LayoutModel",
      "state": {
       "_model_module": "@jupyter-widgets/base",
       "_model_module_version": "1.2.0",
       "_model_name": "LayoutModel",
       "_view_count": null,
       "_view_module": "@jupyter-widgets/base",
       "_view_module_version": "1.2.0",
       "_view_name": "LayoutView",
       "align_content": null,
       "align_items": null,
       "align_self": null,
       "border": null,
       "bottom": null,
       "display": "flex",
       "flex": null,
       "flex_flow": null,
       "grid_area": null,
       "grid_auto_columns": null,
       "grid_auto_flow": null,
       "grid_auto_rows": null,
       "grid_column": null,
       "grid_gap": null,
       "grid_row": null,
       "grid_template_areas": null,
       "grid_template_columns": null,
       "grid_template_rows": null,
       "height": null,
       "justify_content": "flex-start",
       "justify_items": null,
       "left": null,
       "margin": null,
       "max_height": null,
       "max_width": null,
       "min_height": null,
       "min_width": null,
       "object_fit": null,
       "object_position": null,
       "order": null,
       "overflow": null,
       "overflow_x": null,
       "overflow_y": null,
       "padding": null,
       "right": null,
       "top": null,
       "visibility": null,
       "width": null
      }
     },
     "135240b02cef48069d90492e75037560": {
      "model_module": "@jupyter-widgets/base",
      "model_module_version": "1.2.0",
      "model_name": "LayoutModel",
      "state": {
       "_model_module": "@jupyter-widgets/base",
       "_model_module_version": "1.2.0",
       "_model_name": "LayoutModel",
       "_view_count": null,
       "_view_module": "@jupyter-widgets/base",
       "_view_module_version": "1.2.0",
       "_view_name": "LayoutView",
       "align_content": null,
       "align_items": null,
       "align_self": null,
       "border": null,
       "bottom": null,
       "display": null,
       "flex": null,
       "flex_flow": null,
       "grid_area": null,
       "grid_auto_columns": null,
       "grid_auto_flow": null,
       "grid_auto_rows": null,
       "grid_column": null,
       "grid_gap": null,
       "grid_row": null,
       "grid_template_areas": null,
       "grid_template_columns": null,
       "grid_template_rows": null,
       "height": null,
       "justify_content": null,
       "justify_items": null,
       "left": null,
       "margin": null,
       "max_height": null,
       "max_width": null,
       "min_height": null,
       "min_width": null,
       "object_fit": null,
       "object_position": null,
       "order": null,
       "overflow": null,
       "overflow_x": null,
       "overflow_y": null,
       "padding": null,
       "right": null,
       "top": null,
       "visibility": null,
       "width": "auto"
      }
     },
     "1ee374e3bc0043e3b8895de540f495cb": {
      "model_module": "@jupyter-widgets/controls",
      "model_module_version": "1.5.0",
      "model_name": "DescriptionStyleModel",
      "state": {
       "_model_module": "@jupyter-widgets/controls",
       "_model_module_version": "1.5.0",
       "_model_name": "DescriptionStyleModel",
       "_view_count": null,
       "_view_module": "@jupyter-widgets/base",
       "_view_module_version": "1.2.0",
       "_view_name": "StyleView",
       "description_width": ""
      }
     },
     "204a11e5b4cb4f2c88c8e8f70ff3c0c7": {
      "model_module": "@jupyter-widgets/base",
      "model_module_version": "1.2.0",
      "model_name": "LayoutModel",
      "state": {
       "_model_module": "@jupyter-widgets/base",
       "_model_module_version": "1.2.0",
       "_model_name": "LayoutModel",
       "_view_count": null,
       "_view_module": "@jupyter-widgets/base",
       "_view_module_version": "1.2.0",
       "_view_name": "LayoutView",
       "align_content": null,
       "align_items": null,
       "align_self": null,
       "border": null,
       "bottom": null,
       "display": null,
       "flex": null,
       "flex_flow": null,
       "grid_area": null,
       "grid_auto_columns": null,
       "grid_auto_flow": null,
       "grid_auto_rows": null,
       "grid_column": null,
       "grid_gap": null,
       "grid_row": null,
       "grid_template_areas": null,
       "grid_template_columns": null,
       "grid_template_rows": null,
       "height": null,
       "justify_content": null,
       "justify_items": null,
       "left": null,
       "margin": null,
       "max_height": null,
       "max_width": null,
       "min_height": null,
       "min_width": null,
       "object_fit": null,
       "object_position": null,
       "order": null,
       "overflow": null,
       "overflow_x": null,
       "overflow_y": null,
       "padding": null,
       "right": null,
       "top": null,
       "visibility": null,
       "width": "60%"
      }
     },
     "20d10c049adf4a8097778adb74d6400a": {
      "model_module": "@jupyter-widgets/base",
      "model_module_version": "1.2.0",
      "model_name": "LayoutModel",
      "state": {
       "_model_module": "@jupyter-widgets/base",
       "_model_module_version": "1.2.0",
       "_model_name": "LayoutModel",
       "_view_count": null,
       "_view_module": "@jupyter-widgets/base",
       "_view_module_version": "1.2.0",
       "_view_name": "LayoutView",
       "align_content": null,
       "align_items": null,
       "align_self": null,
       "border": null,
       "bottom": null,
       "display": null,
       "flex": null,
       "flex_flow": null,
       "grid_area": null,
       "grid_auto_columns": null,
       "grid_auto_flow": null,
       "grid_auto_rows": null,
       "grid_column": null,
       "grid_gap": null,
       "grid_row": null,
       "grid_template_areas": null,
       "grid_template_columns": null,
       "grid_template_rows": null,
       "height": null,
       "justify_content": null,
       "justify_items": null,
       "left": null,
       "margin": null,
       "max_height": null,
       "max_width": null,
       "min_height": null,
       "min_width": null,
       "object_fit": null,
       "object_position": null,
       "order": null,
       "overflow": null,
       "overflow_x": null,
       "overflow_y": null,
       "padding": null,
       "right": null,
       "top": null,
       "visibility": null,
       "width": null
      }
     },
     "231fb95236af4e0ca28ddd972b92eb40": {
      "model_module": "@jupyter-widgets/controls",
      "model_module_version": "1.5.0",
      "model_name": "SliderStyleModel",
      "state": {
       "_model_module": "@jupyter-widgets/controls",
       "_model_module_version": "1.5.0",
       "_model_name": "SliderStyleModel",
       "_view_count": null,
       "_view_module": "@jupyter-widgets/base",
       "_view_module_version": "1.2.0",
       "_view_name": "StyleView",
       "description_width": "",
       "handle_color": null
      }
     },
     "238e67a6eb8443fd9bcdf82f093dd8db": {
      "model_module": "@jupyter-widgets/controls",
      "model_module_version": "1.5.0",
      "model_name": "DescriptionStyleModel",
      "state": {
       "_model_module": "@jupyter-widgets/controls",
       "_model_module_version": "1.5.0",
       "_model_name": "DescriptionStyleModel",
       "_view_count": null,
       "_view_module": "@jupyter-widgets/base",
       "_view_module_version": "1.2.0",
       "_view_name": "StyleView",
       "description_width": ""
      }
     },
     "2558fddd2ea746d6aa4353835aa78ae6": {
      "model_module": "@jupyter-widgets/controls",
      "model_module_version": "1.5.0",
      "model_name": "ToggleButtonsStyleModel",
      "state": {
       "_model_module": "@jupyter-widgets/controls",
       "_model_module_version": "1.5.0",
       "_model_name": "ToggleButtonsStyleModel",
       "_view_count": null,
       "_view_module": "@jupyter-widgets/base",
       "_view_module_version": "1.2.0",
       "_view_name": "StyleView",
       "button_width": "100px",
       "description_width": "",
       "font_weight": ""
      }
     },
     "2ae50cbf897047da8089075f97a801f1": {
      "model_module": "@jupyter-widgets/base",
      "model_module_version": "1.2.0",
      "model_name": "LayoutModel",
      "state": {
       "_model_module": "@jupyter-widgets/base",
       "_model_module_version": "1.2.0",
       "_model_name": "LayoutModel",
       "_view_count": null,
       "_view_module": "@jupyter-widgets/base",
       "_view_module_version": "1.2.0",
       "_view_name": "LayoutView",
       "align_content": null,
       "align_items": null,
       "align_self": null,
       "border": null,
       "bottom": null,
       "display": null,
       "flex": null,
       "flex_flow": null,
       "grid_area": null,
       "grid_auto_columns": null,
       "grid_auto_flow": null,
       "grid_auto_rows": null,
       "grid_column": null,
       "grid_gap": null,
       "grid_row": null,
       "grid_template_areas": null,
       "grid_template_columns": null,
       "grid_template_rows": null,
       "height": null,
       "justify_content": null,
       "justify_items": null,
       "left": null,
       "margin": null,
       "max_height": null,
       "max_width": null,
       "min_height": null,
       "min_width": null,
       "object_fit": null,
       "object_position": null,
       "order": null,
       "overflow": null,
       "overflow_x": null,
       "overflow_y": null,
       "padding": null,
       "right": null,
       "top": null,
       "visibility": null,
       "width": null
      }
     },
     "2b6f2cecffd04dc2a86c9f3cc0fe9197": {
      "model_module": "@jupyter-widgets/controls",
      "model_module_version": "1.5.0",
      "model_name": "DescriptionStyleModel",
      "state": {
       "_model_module": "@jupyter-widgets/controls",
       "_model_module_version": "1.5.0",
       "_model_name": "DescriptionStyleModel",
       "_view_count": null,
       "_view_module": "@jupyter-widgets/base",
       "_view_module_version": "1.2.0",
       "_view_name": "StyleView",
       "description_width": ""
      }
     },
     "2eefd7cb04bf453f89c2129e5c0c93e7": {
      "model_module": "@jupyter-widgets/controls",
      "model_module_version": "1.5.0",
      "model_name": "ToggleButtonsModel",
      "state": {
       "_dom_classes": [],
       "_model_module": "@jupyter-widgets/controls",
       "_model_module_version": "1.5.0",
       "_model_name": "ToggleButtonsModel",
       "_options_labels": [
        "Emitted Wavelength",
        "Absorbed Wavelength"
       ],
       "_view_count": null,
       "_view_module": "@jupyter-widgets/controls",
       "_view_module_version": "1.5.0",
       "_view_name": "ToggleButtonsView",
       "button_style": "",
       "description": "",
       "description_tooltip": null,
       "disabled": false,
       "icons": [],
       "index": 0,
       "layout": "IPY_MODEL_5ffac1fc24474a28972814106bf8aca2",
       "style": "IPY_MODEL_93f99856b1fa4a4381f3315fc73809ca",
       "tooltips": []
      }
     },
     "2f0d19ee5faa43d8befbb350531e2f96": {
      "model_module": "@jupyter-widgets/controls",
      "model_module_version": "1.5.0",
      "model_name": "VBoxModel",
      "state": {
       "_dom_classes": [],
       "_model_module": "@jupyter-widgets/controls",
       "_model_module_version": "1.5.0",
       "_model_name": "VBoxModel",
       "_view_count": null,
       "_view_module": "@jupyter-widgets/controls",
       "_view_module_version": "1.5.0",
       "_view_name": "VBoxView",
       "box_style": "",
       "children": [
        "IPY_MODEL_67843fb12e7f496d9e5178fcdb1e8af1",
        "IPY_MODEL_fa2bd2ba531b400fa1df7590b3c5ad83",
        "IPY_MODEL_9aeb3cb9e77f4eb89f6dff82f2acf273"
       ],
       "layout": "IPY_MODEL_20d10c049adf4a8097778adb74d6400a"
      }
     },
     "2ffdb23cde594e46ac5eaff5a9048448": {
      "model_module": "@jupyter-widgets/base",
      "model_module_version": "1.2.0",
      "model_name": "LayoutModel",
      "state": {
       "_model_module": "@jupyter-widgets/base",
       "_model_module_version": "1.2.0",
       "_model_name": "LayoutModel",
       "_view_count": null,
       "_view_module": "@jupyter-widgets/base",
       "_view_module_version": "1.2.0",
       "_view_name": "LayoutView",
       "align_content": null,
       "align_items": null,
       "align_self": null,
       "border": null,
       "bottom": null,
       "display": null,
       "flex": null,
       "flex_flow": null,
       "grid_area": null,
       "grid_auto_columns": null,
       "grid_auto_flow": null,
       "grid_auto_rows": null,
       "grid_column": null,
       "grid_gap": null,
       "grid_row": null,
       "grid_template_areas": null,
       "grid_template_columns": null,
       "grid_template_rows": null,
       "height": null,
       "justify_content": null,
       "justify_items": null,
       "left": null,
       "margin": null,
       "max_height": null,
       "max_width": null,
       "min_height": null,
       "min_width": null,
       "object_fit": null,
       "object_position": null,
       "order": null,
       "overflow": null,
       "overflow_x": null,
       "overflow_y": null,
       "padding": null,
       "right": null,
       "top": null,
       "visibility": null,
       "width": "60%"
      }
     },
     "30207abd9db3468faa735a318323f901": {
      "model_module": "@jupyter-widgets/base",
      "model_module_version": "1.2.0",
      "model_name": "LayoutModel",
      "state": {
       "_model_module": "@jupyter-widgets/base",
       "_model_module_version": "1.2.0",
       "_model_name": "LayoutModel",
       "_view_count": null,
       "_view_module": "@jupyter-widgets/base",
       "_view_module_version": "1.2.0",
       "_view_name": "LayoutView",
       "align_content": null,
       "align_items": null,
       "align_self": null,
       "border": null,
       "bottom": null,
       "display": null,
       "flex": null,
       "flex_flow": null,
       "grid_area": null,
       "grid_auto_columns": null,
       "grid_auto_flow": null,
       "grid_auto_rows": null,
       "grid_column": null,
       "grid_gap": null,
       "grid_row": null,
       "grid_template_areas": null,
       "grid_template_columns": null,
       "grid_template_rows": null,
       "height": null,
       "justify_content": null,
       "justify_items": null,
       "left": null,
       "margin": null,
       "max_height": null,
       "max_width": null,
       "min_height": null,
       "min_width": null,
       "object_fit": null,
       "object_position": null,
       "order": null,
       "overflow": null,
       "overflow_x": null,
       "overflow_y": null,
       "padding": null,
       "right": null,
       "top": null,
       "visibility": null,
       "width": null
      }
     },
     "30dab48ac0c74f73a2da3a236343dee6": {
      "model_module": "@jupyter-widgets/controls",
      "model_module_version": "1.5.0",
      "model_name": "FloatRangeSliderModel",
      "state": {
       "_dom_classes": [],
       "_model_module": "@jupyter-widgets/controls",
       "_model_module_version": "1.5.0",
       "_model_name": "FloatRangeSliderModel",
       "_view_count": null,
       "_view_module": "@jupyter-widgets/controls",
       "_view_module_version": "1.5.0",
       "_view_name": "FloatRangeSliderView",
       "continuous_update": true,
       "description": "Wavelength",
       "description_tooltip": null,
       "disabled": false,
       "layout": "IPY_MODEL_7f15e6d28d6d428aab4bd2d0caf2816a",
       "max": 8449.07912417527,
       "min": 1302.168,
       "orientation": "horizontal",
       "readout": true,
       "readout_format": ".1e",
       "step": 0.1,
       "style": "IPY_MODEL_231fb95236af4e0ca28ddd972b92eb40",
       "value": [
        1302.168,
        8449.07912417527
       ]
      }
     },
     "30f78c62246b438ea8c521eaa5e8787b": {
      "model_module": "@jupyter-widgets/controls",
      "model_module_version": "1.5.0",
      "model_name": "DescriptionStyleModel",
      "state": {
       "_model_module": "@jupyter-widgets/controls",
       "_model_module_version": "1.5.0",
       "_model_name": "DescriptionStyleModel",
       "_view_count": null,
       "_view_module": "@jupyter-widgets/base",
       "_view_module_version": "1.2.0",
       "_view_name": "StyleView",
       "description_width": ""
      }
     },
     "3193ff67bc4c4c8c8bf00a8a0acd4f4f": {
      "model_module": "@jupyter-widgets/base",
      "model_module_version": "1.2.0",
      "model_name": "LayoutModel",
      "state": {
       "_model_module": "@jupyter-widgets/base",
       "_model_module_version": "1.2.0",
       "_model_name": "LayoutModel",
       "_view_count": null,
       "_view_module": "@jupyter-widgets/base",
       "_view_module_version": "1.2.0",
       "_view_name": "LayoutView",
       "align_content": null,
       "align_items": null,
       "align_self": null,
       "border": null,
       "bottom": null,
       "display": null,
       "flex": null,
       "flex_flow": null,
       "grid_area": null,
       "grid_auto_columns": null,
       "grid_auto_flow": null,
       "grid_auto_rows": null,
       "grid_column": null,
       "grid_gap": null,
       "grid_row": null,
       "grid_template_areas": null,
       "grid_template_columns": null,
       "grid_template_rows": null,
       "height": null,
       "justify_content": null,
       "justify_items": null,
       "left": null,
       "margin": null,
       "max_height": null,
       "max_width": null,
       "min_height": null,
       "min_width": null,
       "object_fit": null,
       "object_position": null,
       "order": null,
       "overflow": null,
       "overflow_x": null,
       "overflow_y": null,
       "padding": null,
       "right": null,
       "top": null,
       "visibility": null,
       "width": null
      }
     },
     "342b2f3f7be142f8809039d6952ed105": {
      "model_module": "@jupyter-widgets/controls",
      "model_module_version": "1.5.0",
      "model_name": "DropdownModel",
      "state": {
       "_dom_classes": [],
       "_model_module": "@jupyter-widgets/controls",
       "_model_module_version": "1.5.0",
       "_model_name": "DropdownModel",
       "_options_labels": [
        "All",
        "1",
        "2",
        "3",
        "4",
        "5",
        "6",
        "7",
        "8",
        "9",
        "10",
        "11",
        "12",
        "13",
        "14",
        "15",
        "16",
        "17",
        "18",
        "19",
        "20"
       ],
       "_view_count": null,
       "_view_module": "@jupyter-widgets/controls",
       "_view_module_version": "1.5.0",
       "_view_name": "DropdownView",
       "description": "Shell",
       "description_tooltip": null,
       "disabled": false,
       "index": 0,
       "layout": "IPY_MODEL_cb6ba0976c5e4aa0ab412b71bab9a82c",
       "style": "IPY_MODEL_f92a2d77bd714fc280cb33677f966c42"
      }
     },
     "39377ab67cb24e0b97df42ba448324f5": {
      "model_module": "@jupyter-widgets/controls",
      "model_module_version": "1.5.0",
      "model_name": "VBoxModel",
      "state": {
       "_dom_classes": [],
       "_model_module": "@jupyter-widgets/controls",
       "_model_module_version": "1.5.0",
       "_model_name": "VBoxModel",
       "_view_count": null,
       "_view_module": "@jupyter-widgets/controls",
       "_view_module_version": "1.5.0",
       "_view_name": "VBoxView",
       "box_style": "",
       "children": [
        "IPY_MODEL_5edd338dc45948528a33f69f5dedd5d6",
        "IPY_MODEL_494dcb2b3dca4c6f80d6820b69d6ac93",
        "IPY_MODEL_4f9debe28f0b47d2b3946482785bb7d0",
        "IPY_MODEL_9ddac5d5025348968c2e234b7e371e52"
       ],
       "layout": "IPY_MODEL_839cf966eec24f3e85d9a670cbf2987f"
      }
     },
     "398d0291a3f54184a917bad7282ddaa0": {
      "model_module": "@jupyter-widgets/controls",
      "model_module_version": "1.5.0",
      "model_name": "VBoxModel",
      "state": {
       "_dom_classes": [],
       "_model_module": "@jupyter-widgets/controls",
       "_model_module_version": "1.5.0",
       "_model_name": "VBoxModel",
       "_view_count": null,
       "_view_module": "@jupyter-widgets/controls",
       "_view_module_version": "1.5.0",
       "_view_name": "VBoxView",
       "box_style": "",
       "children": [
        "IPY_MODEL_4714a8c893c64a08b079b0f98748a53f",
        "IPY_MODEL_42db600f99da4e34a6ef7babe4de740b"
       ],
       "layout": "IPY_MODEL_883f2e65d968454ba4bc489e52c33a8b"
      }
     },
     "3a40f96b4a824162ab85c04e2813d36e": {
      "model_module": "@jupyter-widgets/base",
      "model_module_version": "1.2.0",
      "model_name": "LayoutModel",
      "state": {
       "_model_module": "@jupyter-widgets/base",
       "_model_module_version": "1.2.0",
       "_model_name": "LayoutModel",
       "_view_count": null,
       "_view_module": "@jupyter-widgets/base",
       "_view_module_version": "1.2.0",
       "_view_name": "LayoutView",
       "align_content": null,
       "align_items": null,
       "align_self": null,
       "border": null,
       "bottom": null,
       "display": null,
       "flex": null,
       "flex_flow": null,
       "grid_area": null,
       "grid_auto_columns": null,
       "grid_auto_flow": null,
       "grid_auto_rows": null,
       "grid_column": null,
       "grid_gap": null,
       "grid_row": null,
       "grid_template_areas": null,
       "grid_template_columns": null,
       "grid_template_rows": null,
       "height": null,
       "justify_content": null,
       "justify_items": null,
       "left": null,
       "margin": null,
       "max_height": null,
       "max_width": null,
       "min_height": null,
       "min_width": null,
       "object_fit": null,
       "object_position": null,
       "order": null,
       "overflow": null,
       "overflow_x": null,
       "overflow_y": null,
       "padding": null,
       "right": null,
       "top": null,
       "visibility": null,
       "width": "6%"
      }
     },
     "3eaa9ce1eb634be49ea36b26f78a2f72": {
      "model_module": "@jupyter-widgets/base",
      "model_module_version": "1.2.0",
      "model_name": "LayoutModel",
      "state": {
       "_model_module": "@jupyter-widgets/base",
       "_model_module_version": "1.2.0",
       "_model_name": "LayoutModel",
       "_view_count": null,
       "_view_module": "@jupyter-widgets/base",
       "_view_module_version": "1.2.0",
       "_view_name": "LayoutView",
       "align_content": null,
       "align_items": null,
       "align_self": null,
       "border": null,
       "bottom": null,
       "display": null,
       "flex": null,
       "flex_flow": null,
       "grid_area": null,
       "grid_auto_columns": null,
       "grid_auto_flow": null,
       "grid_auto_rows": null,
       "grid_column": null,
       "grid_gap": null,
       "grid_row": null,
       "grid_template_areas": null,
       "grid_template_columns": null,
       "grid_template_rows": null,
       "height": null,
       "justify_content": null,
       "justify_items": null,
       "left": null,
       "margin": null,
       "max_height": null,
       "max_width": null,
       "min_height": null,
       "min_width": null,
       "object_fit": null,
       "object_position": null,
       "order": null,
       "overflow": null,
       "overflow_x": null,
       "overflow_y": null,
       "padding": null,
       "right": null,
       "top": null,
       "visibility": null,
       "width": "350px"
      }
     },
     "41ba33b6d79742a698007fb279897309": {
      "model_module": "@jupyter-widgets/output",
      "model_module_version": "1.0.0",
      "model_name": "OutputModel",
      "state": {
       "_dom_classes": [],
       "_model_module": "@jupyter-widgets/output",
       "_model_module_version": "1.0.0",
       "_model_name": "OutputModel",
       "_view_count": null,
       "_view_module": "@jupyter-widgets/output",
       "_view_module_version": "1.0.0",
       "_view_name": "OutputView",
       "layout": "IPY_MODEL_a909b207917644eab73eb00ab7c7eef7",
       "msg_id": "",
       "outputs": []
      }
     },
     "42db600f99da4e34a6ef7babe4de740b": {
      "model_module": "@jupyter-widgets/controls",
      "model_module_version": "1.5.0",
      "model_name": "BoxModel",
      "state": {
       "_dom_classes": [],
       "_model_module": "@jupyter-widgets/controls",
       "_model_module_version": "1.5.0",
       "_model_name": "BoxModel",
       "_view_count": null,
       "_view_module": "@jupyter-widgets/controls",
       "_view_module_version": "1.5.0",
       "_view_name": "BoxView",
       "box_style": "",
       "children": [
        "IPY_MODEL_4debd9edacf24dc789a76aac64514b5f",
        "IPY_MODEL_39377ab67cb24e0b97df42ba448324f5"
       ],
       "layout": "IPY_MODEL_a23e2afe3174491595734b4b27082e3b"
      }
     },
     "4714a8c893c64a08b079b0f98748a53f": {
      "buffers": [
       {
        "data": "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",
        "encoding": "base64",
        "path": [
         "_data",
         0,
         "x",
         "buffer"
        ]
       },
       {
        "data": "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",
        "encoding": "base64",
        "path": [
         "_data",
         0,
         "y",
         "buffer"
        ]
       },
       {
        "data": "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",
        "encoding": "base64",
        "path": [
         "_data",
         1,
         "x",
         "buffer"
        ]
       },
       {
        "data": "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",
        "encoding": "base64",
        "path": [
         "_data",
         1,
         "y",
         "buffer"
        ]
       },
       {
        "data": "jqK6NQAExEA=",
        "encoding": "base64",
        "path": [
         "_data",
         2,
         "x",
         "buffer"
        ]
       },
       {
        "data": "/8B4MVY74Ec=",
        "encoding": "base64",
        "path": [
         "_data",
         2,
         "y",
         "buffer"
        ]
       }
      ],
      "model_module": "jupyterlab-plotly",
      "model_module_version": "^5.22.0",
      "model_name": "FigureModel",
      "state": {
       "_config": {
        "plotlyServerURL": "https://plot.ly"
       },
       "_data": [
        {
         "name": "Real packets",
         "type": "scatter",
         "uid": "3c2df671-3376-4909-bb38-bf94f4542ebd",
         "x": {
          "dtype": "float64",
          "shape": [
           10000
          ]
         },
         "y": {
          "dtype": "float64",
          "shape": [
           10000
          ]
         }
        },
        {
         "name": "Virtual packets",
         "type": "scatter",
         "uid": "7defc1a2-996c-4b5b-9b44-cee1570c0f25",
         "x": {
          "dtype": "float64",
          "shape": [
           10000
          ]
         },
         "y": {
          "dtype": "float64",
          "shape": [
           10000
          ]
         }
        },
        {
         "marker": {
          "opacity": 0
         },
         "mode": "markers",
         "showlegend": false,
         "type": "scatter",
         "uid": "f79678d1-c75e-49e9-b8c7-5714869db2c3",
         "x": {
          "dtype": "float64",
          "shape": [
           1
          ]
         },
         "y": {
          "dtype": "float64",
          "shape": [
           1
          ]
         }
        }
       ],
       "_dom_classes": [],
       "_js2py_layoutDelta": {},
       "_js2py_pointsCallback": {},
       "_js2py_relayout": {},
       "_js2py_restyle": {},
       "_js2py_traceDeltas": {},
       "_js2py_update": {},
       "_last_layout_edit_id": 0,
       "_last_trace_edit_id": 0,
       "_layout": {
        "dragmode": "select",
        "height": 400,
        "margin": {
         "b": 60,
         "t": 50
        },
        "selectdirection": "h",
        "title": {
         "text": "Spectrum"
        },
        "xaxis": {
         "exponentformat": "none",
         "range": [
          5375.085330327811,
          15125.060952951017
         ],
         "rangeslider": {
          "visible": true
         },
         "title": {
          "text": "$\\text{Wavelength}\\,[\\mathrm{\\mathring{A}}]$"
         }
        },
        "yaxis": {
         "exponentformat": "e",
         "fixedrange": false,
         "title": {
          "text": "$\\text{Luminosity}\\,[\\mathrm{erg\\,s^{-1}\\,\\mathring{A}^{-1}}]$"
         }
        }
       },
       "_model_module": "jupyterlab-plotly",
       "_model_module_version": "^5.22.0",
       "_model_name": "FigureModel",
       "_py2js_addTraces": {},
       "_py2js_animate": {},
       "_py2js_deleteTraces": {},
       "_py2js_moveTraces": {},
       "_py2js_relayout": null,
       "_py2js_removeLayoutProps": {},
       "_py2js_removeTraceProps": {},
       "_py2js_restyle": {},
       "_py2js_update": {},
       "_view_count": 0,
       "_view_module": "jupyterlab-plotly",
       "_view_module_version": "^5.22.0",
       "_view_name": "FigureView"
      }
     },
     "494dcb2b3dca4c6f80d6820b69d6ac93": {
      "model_module": "@jupyter-widgets/controls",
      "model_module_version": "1.5.0",
      "model_name": "DropdownModel",
      "state": {
       "_dom_classes": [],
       "_model_module": "@jupyter-widgets/controls",
       "_model_module_version": "1.5.0",
       "_model_name": "DropdownModel",
       "_options_labels": [
        "Both excitation line (absorption) and de-excitation line (emission)",
        "Only excitation line (absorption)",
        "Only de-excitation line (emission)"
       ],
       "_view_count": null,
       "_view_module": "@jupyter-widgets/controls",
       "_view_module_version": "1.5.0",
       "_view_name": "DropdownView",
       "description": "",
       "description_tooltip": null,
       "disabled": false,
       "index": 0,
       "layout": "IPY_MODEL_774b58aac53e4c25a3e83e1314c28313",
       "style": "IPY_MODEL_2b6f2cecffd04dc2a86c9f3cc0fe9197"
      }
     },
     "4c57b3b8fae14a3a98f8c8f459323e0f": {
      "model_module": "@jupyter-widgets/controls",
      "model_module_version": "1.5.0",
      "model_name": "DescriptionStyleModel",
      "state": {
       "_model_module": "@jupyter-widgets/controls",
       "_model_module_version": "1.5.0",
       "_model_name": "DescriptionStyleModel",
       "_view_count": null,
       "_view_module": "@jupyter-widgets/base",
       "_view_module_version": "1.2.0",
       "_view_name": "StyleView",
       "description_width": ""
      }
     },
     "4d5d247467b34cf7b80f1fc767deb413": {
      "model_module": "@jupyter-widgets/controls",
      "model_module_version": "1.5.0",
      "model_name": "DescriptionStyleModel",
      "state": {
       "_model_module": "@jupyter-widgets/controls",
       "_model_module_version": "1.5.0",
       "_model_name": "DescriptionStyleModel",
       "_view_count": null,
       "_view_module": "@jupyter-widgets/base",
       "_view_module_version": "1.2.0",
       "_view_name": "StyleView",
       "description_width": ""
      }
     },
     "4debd9edacf24dc789a76aac64514b5f": {
      "model_module": "@jupyter-widgets/controls",
      "model_module_version": "1.5.0",
      "model_name": "VBoxModel",
      "state": {
       "_dom_classes": [],
       "_model_module": "@jupyter-widgets/controls",
       "_model_module_version": "1.5.0",
       "_model_name": "VBoxModel",
       "_view_count": null,
       "_view_module": "@jupyter-widgets/controls",
       "_view_module_version": "1.5.0",
       "_view_name": "VBoxView",
       "box_style": "",
       "children": [
        "IPY_MODEL_f423f94f3377427f9b88514ac6b31a1a",
        "IPY_MODEL_2eefd7cb04bf453f89c2129e5c0c93e7",
        "IPY_MODEL_e51a4d1fc21249ec96b7e65fcb759896"
       ],
       "layout": "IPY_MODEL_d892babbaf8c4b7780c851cb461744cd"
      }
     },
     "4f9d622134464f68a2b434668889f8a0": {
      "model_module": "@jupyter-widgets/controls",
      "model_module_version": "1.5.0",
      "model_name": "HTMLModel",
      "state": {
       "_dom_classes": [],
       "_model_module": "@jupyter-widgets/controls",
       "_model_module_version": "1.5.0",
       "_model_name": "HTMLModel",
       "_view_count": null,
       "_view_module": "@jupyter-widgets/controls",
       "_view_module_version": "1.5.0",
       "_view_name": "HTMLView",
       "description": "",
       "description_tooltip": null,
       "layout": "IPY_MODEL_b158fa1ce1974fe18b64e08347d7706f",
       "placeholder": "​",
       "style": "IPY_MODEL_07c984a7759f4adaa17cbbc4c4d57fba",
       "value": "0"
      }
     },
     "4f9debe28f0b47d2b3946482785bb7d0": {
      "model_module": "qgrid",
      "model_module_version": "^1.1.3",
      "model_name": "QgridModel",
      "state": {
       "_columns": {
        "Last Line Interaction": {
         "cssClass": "string",
         "defaultSortAsc": true,
         "editable": true,
         "field": "Last Line Interaction",
         "first_index": true,
         "id": "Last Line Interaction",
         "index_display_text": "Last Line Interaction",
         "is_index": true,
         "level": 0,
         "maxWidth": null,
         "minWidth": null,
         "name": "Last Line Interaction",
         "position": 0,
         "resizable": true,
         "sortable": true,
         "toolTip": "",
         "type": "string",
         "width": 75
        },
        "No. of packets": {
         "cssClass": "string",
         "defaultSortAsc": true,
         "editable": true,
         "field": "No. of packets",
         "id": "No. of packets",
         "maxWidth": null,
         "minWidth": null,
         "name": "No. of packets",
         "position": 2,
         "resizable": true,
         "sortable": true,
         "toolTip": "",
         "type": "string",
         "width": 25
        },
        "qgrid_unfiltered_index": {
         "cssClass": "integer",
         "defaultSortAsc": true,
         "editable": true,
         "field": "qgrid_unfiltered_index",
         "id": "qgrid_unfiltered_index",
         "maxWidth": null,
         "minWidth": null,
         "name": "qgrid_unfiltered_index",
         "position": 1,
         "resizable": true,
         "sortable": true,
         "toolTip": "",
         "type": "integer",
         "width": null
        }
       },
       "_df_json": "{\"schema\":{\"fields\":[{\"name\":\"Last Line Interaction\",\"type\":\"string\"},{\"name\":\"qgrid_unfiltered_index\",\"type\":\"integer\"},{\"name\":\"No. of packets\",\"type\":\"string\"}],\"primaryKey\":[\"Last Line Interaction\"],\"pandas_version\":\"1.4.0\"},\"data\":[{\"Last Line Interaction\":\"\",\"qgrid_unfiltered_index\":0,\"No. of packets\":\"\"}]}",
       "_df_range": [
        0,
        100
       ],
       "_dom_classes": [],
       "_editable_rows": {},
       "_index_col_name": "qgrid_unfiltered_index",
       "_interval_columns": [],
       "_model_module": "qgrid",
       "_model_module_version": "^1.1.3",
       "_model_name": "QgridModel",
       "_multi_index": false,
       "_row_count": 1,
       "_row_styles": {},
       "_sort_ascending": true,
       "_sort_field": null,
       "_view_count": null,
       "_view_module": "qgrid",
       "_view_module_version": "^1.1.3",
       "_view_name": "QgridView",
       "_viewport_range": [
        0,
        100
       ],
       "grid_options": {
        "autoEdit": false,
        "boldIndex": true,
        "defaultColumnWidth": 150,
        "editable": false,
        "enableColumnReorder": false,
        "enableTextSelectionOnCells": true,
        "explicitInitialization": true,
        "filterable": false,
        "forceFitColumns": true,
        "fullWidthRows": true,
        "highlightSelectedCell": false,
        "highlightSelectedRow": true,
        "maxVisibleRows": 9,
        "minVisibleRows": 2,
        "rowHeight": 28,
        "sortable": false,
        "syncColumnCellResize": true
       },
       "id": "b5380bb0-d132-4725-ba44-73baa8b5e54c",
       "layout": "IPY_MODEL_b337df768cdb4761a93c2c8e83774e8e",
       "precision": 5,
       "show_toolbar": false
      }
     },
     "4fd9c03ef9ec426bb2f80a735bcc01fc": {
      "model_module": "@jupyter-widgets/controls",
      "model_module_version": "1.5.0",
      "model_name": "HTMLModel",
      "state": {
       "_dom_classes": [],
       "_model_module": "@jupyter-widgets/controls",
       "_model_module_version": "1.5.0",
       "_model_name": "HTMLModel",
       "_view_count": null,
       "_view_module": "@jupyter-widgets/controls",
       "_view_module_version": "1.5.0",
       "_view_name": "HTMLView",
       "description": "",
       "description_tooltip": null,
       "layout": "IPY_MODEL_760e78775b1b4ddeada036d7930a0d10",
       "placeholder": "​",
       "style": "IPY_MODEL_238e67a6eb8443fd9bcdf82f093dd8db",
       "value": "Packets:   "
      }
     },
     "51002cd3e2654dc7843c96a8f42ea386": {
      "model_module": "qgrid",
      "model_module_version": "^1.1.3",
      "model_name": "QgridModel",
      "state": {
       "_columns": {
        "Frac. Ab. (Z=8)": {
         "cssClass": "string",
         "defaultSortAsc": true,
         "editable": true,
         "field": "Frac. Ab. (Z=8)",
         "id": "Frac. Ab. (Z=8)",
         "maxWidth": null,
         "minWidth": null,
         "name": "Frac. Ab. (Z=8)",
         "position": 3,
         "resizable": true,
         "sortable": true,
         "toolTip": "",
         "type": "string",
         "width": 50
        },
        "Ion": {
         "cssClass": "integer",
         "defaultSortAsc": true,
         "editable": true,
         "field": "Ion",
         "first_index": true,
         "id": "Ion",
         "index_display_text": "Ion",
         "is_index": true,
         "level": 0,
         "maxWidth": null,
         "minWidth": null,
         "name": "Ion",
         "position": 0,
         "resizable": true,
         "sortable": true,
         "toolTip": "",
         "type": "integer",
         "width": 20
        },
        "Species": {
         "cssClass": "string",
         "defaultSortAsc": true,
         "editable": true,
         "field": "Species",
         "id": "Species",
         "maxWidth": null,
         "minWidth": null,
         "name": "Species",
         "position": 2,
         "resizable": true,
         "sortable": true,
         "toolTip": "",
         "type": "string",
         "width": 30
        },
        "qgrid_unfiltered_index": {
         "cssClass": "integer",
         "defaultSortAsc": true,
         "editable": true,
         "field": "qgrid_unfiltered_index",
         "id": "qgrid_unfiltered_index",
         "maxWidth": null,
         "minWidth": null,
         "name": "qgrid_unfiltered_index",
         "position": 1,
         "resizable": true,
         "sortable": true,
         "toolTip": "",
         "type": "integer",
         "width": null
        }
       },
       "_df_json": "{\"schema\":{\"fields\":[{\"name\":\"Ion\",\"type\":\"integer\"},{\"name\":\"qgrid_unfiltered_index\",\"type\":\"integer\"},{\"name\":\"Species\",\"type\":\"string\"},{\"name\":\"Frac. Ab. (Z=8)\",\"type\":\"string\"}],\"primaryKey\":[\"Ion\"],\"pandas_version\":\"1.4.0\"},\"data\":[{\"Ion\":0,\"qgrid_unfiltered_index\":0,\"Species\":\"O I\",\"Frac. Ab. (Z=8)\":\"1.819990e-06\"},{\"Ion\":1,\"qgrid_unfiltered_index\":1,\"Species\":\"O II\",\"Frac. Ab. (Z=8)\":\"9.995854e-01\"},{\"Ion\":2,\"qgrid_unfiltered_index\":2,\"Species\":\"O III\",\"Frac. Ab. (Z=8)\":\"4.127707e-04\"},{\"Ion\":3,\"qgrid_unfiltered_index\":3,\"Species\":\"O IV\",\"Frac. Ab. (Z=8)\":\"4.904899e-17\"},{\"Ion\":4,\"qgrid_unfiltered_index\":4,\"Species\":\"O V\",\"Frac. Ab. (Z=8)\":\"0.000000e+00\"},{\"Ion\":5,\"qgrid_unfiltered_index\":5,\"Species\":\"O VI\",\"Frac. Ab. (Z=8)\":\"0.000000e+00\"},{\"Ion\":6,\"qgrid_unfiltered_index\":6,\"Species\":\"O VII\",\"Frac. Ab. (Z=8)\":\"0.000000e+00\"},{\"Ion\":7,\"qgrid_unfiltered_index\":7,\"Species\":\"O VIII\",\"Frac. Ab. (Z=8)\":\"0.000000e+00\"},{\"Ion\":8,\"qgrid_unfiltered_index\":8,\"Species\":\"O IX\",\"Frac. Ab. (Z=8)\":\"0.000000e+00\"}]}",
       "_df_range": [
        0,
        100
       ],
       "_dom_classes": [],
       "_editable_rows": {},
       "_index_col_name": "qgrid_unfiltered_index",
       "_interval_columns": [],
       "_model_module": "qgrid",
       "_model_module_version": "^1.1.3",
       "_model_name": "QgridModel",
       "_multi_index": false,
       "_row_count": 9,
       "_row_styles": {},
       "_sort_ascending": true,
       "_sort_field": null,
       "_view_count": null,
       "_view_module": "qgrid",
       "_view_module_version": "^1.1.3",
       "_view_name": "QgridView",
       "_viewport_range": [
        0,
        100
       ],
       "grid_options": {
        "autoEdit": false,
        "boldIndex": true,
        "defaultColumnWidth": 150,
        "editable": false,
        "enableColumnReorder": false,
        "enableTextSelectionOnCells": true,
        "explicitInitialization": true,
        "filterable": false,
        "forceFitColumns": true,
        "fullWidthRows": true,
        "highlightSelectedCell": false,
        "highlightSelectedRow": true,
        "maxVisibleRows": 15,
        "minVisibleRows": 2,
        "rowHeight": 28,
        "sortable": false,
        "syncColumnCellResize": true
       },
       "id": "c3e5ed3c-4dbc-4b8a-a0b4-399cd81475a8",
       "layout": "IPY_MODEL_0ff0c881b4d04d9ba257d8cfd68e020c",
       "precision": 5,
       "show_toolbar": false
      }
     },
     "536fe7a6dd6b4a5eac1355116154cb57": {
      "model_module": "qgrid",
      "model_module_version": "^1.1.3",
      "model_name": "QgridModel",
      "state": {
       "_columns": {
        "Frac. Ab. (Ion=0)": {
         "cssClass": "string",
         "defaultSortAsc": true,
         "editable": true,
         "field": "Frac. Ab. (Ion=0)",
         "id": "Frac. Ab. (Ion=0)",
         "maxWidth": null,
         "minWidth": null,
         "name": "Frac. Ab. (Ion=0)",
         "position": 2,
         "resizable": true,
         "sortable": true,
         "toolTip": "",
         "type": "string",
         "width": 70
        },
        "Level": {
         "cssClass": "integer",
         "defaultSortAsc": true,
         "editable": true,
         "field": "Level",
         "first_index": true,
         "id": "Level",
         "index_display_text": "Level",
         "is_index": true,
         "level": 0,
         "maxWidth": null,
         "minWidth": null,
         "name": "Level",
         "position": 0,
         "resizable": true,
         "sortable": true,
         "toolTip": "",
         "type": "integer",
         "width": 30
        },
        "qgrid_unfiltered_index": {
         "cssClass": "integer",
         "defaultSortAsc": true,
         "editable": true,
         "field": "qgrid_unfiltered_index",
         "id": "qgrid_unfiltered_index",
         "maxWidth": null,
         "minWidth": null,
         "name": "qgrid_unfiltered_index",
         "position": 1,
         "resizable": true,
         "sortable": true,
         "toolTip": "",
         "type": "integer",
         "width": null
        }
       },
       "_df_json": "{\"schema\":{\"fields\":[{\"name\":\"Level\",\"type\":\"integer\"},{\"name\":\"qgrid_unfiltered_index\",\"type\":\"integer\"},{\"name\":\"Frac. Ab. (Ion=0)\",\"type\":\"string\"}],\"primaryKey\":[\"Level\"],\"pandas_version\":\"1.4.0\"},\"data\":[{\"Level\":0,\"qgrid_unfiltered_index\":0,\"Frac. Ab. (Ion=0)\":\"5.230356e-01\"},{\"Level\":1,\"qgrid_unfiltered_index\":1,\"Frac. Ab. (Ion=0)\":\"3.074316e-01\"},{\"Level\":2,\"qgrid_unfiltered_index\":2,\"Frac. Ab. (Ion=0)\":\"1.015661e-01\"},{\"Level\":3,\"qgrid_unfiltered_index\":3,\"Frac. Ab. (Ion=0)\":\"6.649759e-02\"},{\"Level\":4,\"qgrid_unfiltered_index\":4,\"Frac. Ab. (Ion=0)\":\"1.294205e-03\"},{\"Level\":5,\"qgrid_unfiltered_index\":5,\"Frac. Ab. (Ion=0)\":\"3.584168e-05\"},{\"Level\":6,\"qgrid_unfiltered_index\":6,\"Frac. Ab. (Ion=0)\":\"1.451045e-05\"},{\"Level\":7,\"qgrid_unfiltered_index\":7,\"Frac. Ab. (Ion=0)\":\"4.043366e-06\"},{\"Level\":8,\"qgrid_unfiltered_index\":8,\"Frac. Ab. (Ion=0)\":\"6.737174e-06\"},{\"Level\":9,\"qgrid_unfiltered_index\":9,\"Frac. Ab. (Ion=0)\":\"9.427538e-06\"},{\"Level\":10,\"qgrid_unfiltered_index\":10,\"Frac. Ab. (Ion=0)\":\"3.115820e-06\"},{\"Level\":11,\"qgrid_unfiltered_index\":11,\"Frac. Ab. (Ion=0)\":\"5.192657e-06\"},{\"Level\":12,\"qgrid_unfiltered_index\":12,\"Frac. Ab. (Ion=0)\":\"1.038510e-06\"},{\"Level\":13,\"qgrid_unfiltered_index\":13,\"Frac. Ab. (Ion=0)\":\"2.132864e-06\"},{\"Level\":14,\"qgrid_unfiltered_index\":14,\"Frac. Ab. (Ion=0)\":\"1.161108e-06\"},{\"Level\":15,\"qgrid_unfiltered_index\":15,\"Frac. Ab. (Ion=0)\":\"2.981977e-06\"},{\"Level\":16,\"qgrid_unfiltered_index\":16,\"Frac. Ab. (Ion=0)\":\"2.319290e-06\"},{\"Level\":17,\"qgrid_unfiltered_index\":17,\"Frac. Ab. (Ion=0)\":\"1.656609e-06\"},{\"Level\":18,\"qgrid_unfiltered_index\":18,\"Frac. Ab. (Ion=0)\":\"9.939521e-07\"},{\"Level\":19,\"qgrid_unfiltered_index\":19,\"Frac. Ab. (Ion=0)\":\"3.313153e-07\"},{\"Level\":20,\"qgrid_unfiltered_index\":20,\"Frac. Ab. (Ion=0)\":\"9.852779e-07\"},{\"Level\":21,\"qgrid_unfiltered_index\":21,\"Frac. Ab. (Ion=0)\":\"1.642115e-06\"},{\"Level\":22,\"qgrid_unfiltered_index\":22,\"Frac. Ab. (Ion=0)\":\"2.298934e-06\"},{\"Level\":23,\"qgrid_unfiltered_index\":23,\"Frac. Ab. (Ion=0)\":\"7.997997e-07\"},{\"Level\":24,\"qgrid_unfiltered_index\":24,\"Frac. Ab. (Ion=0)\":\"1.332883e-06\"},{\"Level\":25,\"qgrid_unfiltered_index\":25,\"Frac. Ab. (Ion=0)\":\"1.865746e-06\"},{\"Level\":26,\"qgrid_unfiltered_index\":26,\"Frac. Ab. (Ion=0)\":\"7.409505e-07\"},{\"Level\":27,\"qgrid_unfiltered_index\":27,\"Frac. Ab. (Ion=0)\":\"1.234904e-06\"},{\"Level\":28,\"qgrid_unfiltered_index\":28,\"Frac. Ab. (Ion=0)\":\"2.469726e-07\"},{\"Level\":29,\"qgrid_unfiltered_index\":29,\"Frac. Ab. (Ion=0)\":\"1.431081e-06\"},{\"Level\":30,\"qgrid_unfiltered_index\":30,\"Frac. Ab. (Ion=0)\":\"1.020592e-06\"},{\"Level\":31,\"qgrid_unfiltered_index\":31,\"Frac. Ab. (Ion=0)\":\"6.117271e-07\"},{\"Level\":32,\"qgrid_unfiltered_index\":32,\"Frac. Ab. (Ion=0)\":\"8.997946e-07\"},{\"Level\":33,\"qgrid_unfiltered_index\":33,\"Frac. Ab. (Ion=0)\":\"5.195476e-07\"},{\"Level\":34,\"qgrid_unfiltered_index\":34,\"Frac. Ab. (Ion=0)\":\"8.382241e-07\"},{\"Level\":35,\"qgrid_unfiltered_index\":35,\"Frac. Ab. (Ion=0)\":\"1.469421e-06\"},{\"Level\":36,\"qgrid_unfiltered_index\":36,\"Frac. Ab. (Ion=0)\":\"1.142877e-06\"},{\"Level\":37,\"qgrid_unfiltered_index\":37,\"Frac. Ab. (Ion=0)\":\"8.163347e-07\"},{\"Level\":38,\"qgrid_unfiltered_index\":38,\"Frac. Ab. (Ion=0)\":\"4.897977e-07\"},{\"Level\":39,\"qgrid_unfiltered_index\":39,\"Frac. Ab. (Ion=0)\":\"1.632654e-07\"},{\"Level\":40,\"qgrid_unfiltered_index\":40,\"Frac. Ab. (Ion=0)\":\"1.136533e-06\"},{\"Level\":41,\"qgrid_unfiltered_index\":41,\"Frac. Ab. (Ion=0)\":\"8.118020e-07\"},{\"Level\":42,\"qgrid_unfiltered_index\":42,\"Frac. Ab. (Ion=0)\":\"4.870783e-07\"},{\"Level\":43,\"qgrid_unfiltered_index\":43,\"Frac. Ab. (Ion=0)\":\"4.833096e-07\"},{\"Level\":44,\"qgrid_unfiltered_index\":44,\"Frac. Ab. (Ion=0)\":\"8.055159e-07\"},{\"Level\":45,\"qgrid_unfiltered_index\":45,\"Frac. Ab. (Ion=0)\":\"1.127722e-06\"},{\"Level\":46,\"qgrid_unfiltered_index\":46,\"Frac. Ab. (Ion=0)\":\"1.449929e-06\"},{\"Level\":47,\"qgrid_unfiltered_index\":47,\"Frac. Ab. (Ion=0)\":\"1.772135e-06\"},{\"Level\":48,\"qgrid_unfiltered_index\":48,\"Frac. Ab. (Ion=0)\":\"8.055061e-07\"},{\"Level\":49,\"qgrid_unfiltered_index\":49,\"Frac. Ab. (Ion=0)\":\"1.127709e-06\"},{\"Level\":50,\"qgrid_unfiltered_index\":50,\"Frac. Ab. (Ion=0)\":\"1.449911e-06\"},{\"Level\":51,\"qgrid_unfiltered_index\":51,\"Frac. Ab. (Ion=0)\":\"4.437209e-07\"},{\"Level\":52,\"qgrid_unfiltered_index\":52,\"Frac. Ab. (Ion=0)\":\"4.437202e-07\"},{\"Level\":53,\"qgrid_unfiltered_index\":53,\"Frac. Ab. (Ion=0)\":\"7.395005e-07\"},{\"Level\":54,\"qgrid_unfiltered_index\":54,\"Frac. Ab. (Ion=0)\":\"7.394993e-07\"},{\"Level\":55,\"qgrid_unfiltered_index\":55,\"Frac. Ab. (Ion=0)\":\"1.035233e-06\"},{\"Level\":56,\"qgrid_unfiltered_index\":56,\"Frac. Ab. (Ion=0)\":\"1.035232e-06\"},{\"Level\":57,\"qgrid_unfiltered_index\":57,\"Frac. Ab. (Ion=0)\":\"7.164287e-07\"},{\"Level\":58,\"qgrid_unfiltered_index\":58,\"Frac. Ab. (Ion=0)\":\"4.298539e-07\"},{\"Level\":59,\"qgrid_unfiltered_index\":59,\"Frac. Ab. (Ion=0)\":\"1.432805e-07\"},{\"Level\":60,\"qgrid_unfiltered_index\":60,\"Frac. Ab. (Ion=0)\":\"6.170124e-07\"},{\"Level\":61,\"qgrid_unfiltered_index\":61,\"Frac. Ab. (Ion=0)\":\"3.632519e-07\"},{\"Level\":62,\"qgrid_unfiltered_index\":62,\"Frac. Ab. (Ion=0)\":\"1.059018e-06\"},{\"Level\":63,\"qgrid_unfiltered_index\":63,\"Frac. Ab. (Ion=0)\":\"8.236784e-07\"},{\"Level\":64,\"qgrid_unfiltered_index\":64,\"Frac. Ab. (Ion=0)\":\"5.883392e-07\"},{\"Level\":65,\"qgrid_unfiltered_index\":65,\"Frac. Ab. (Ion=0)\":\"3.530023e-07\"},{\"Level\":66,\"qgrid_unfiltered_index\":66,\"Frac. Ab. (Ion=0)\":\"1.176672e-07\"},{\"Level\":67,\"qgrid_unfiltered_index\":67,\"Frac. Ab. (Ion=0)\":\"3.519224e-07\"},{\"Level\":68,\"qgrid_unfiltered_index\":68,\"Frac. Ab. (Ion=0)\":\"5.865374e-07\"},{\"Level\":69,\"qgrid_unfiltered_index\":69,\"Frac. Ab. (Ion=0)\":\"8.211523e-07\"},{\"Level\":70,\"qgrid_unfiltered_index\":70,\"Frac. Ab. (Ion=0)\":\"3.504327e-07\"},{\"Level\":71,\"qgrid_unfiltered_index\":71,\"Frac. Ab. (Ion=0)\":\"5.840545e-07\"},{\"Level\":72,\"qgrid_unfiltered_index\":72,\"Frac. Ab. (Ion=0)\":\"8.176763e-07\"},{\"Level\":73,\"qgrid_unfiltered_index\":73,\"Frac. Ab. (Ion=0)\":\"1.051298e-06\"},{\"Level\":74,\"qgrid_unfiltered_index\":74,\"Frac. Ab. (Ion=0)\":\"1.284920e-06\"},{\"Level\":75,\"qgrid_unfiltered_index\":75,\"Frac. Ab. (Ion=0)\":\"5.840485e-07\"},{\"Level\":76,\"qgrid_unfiltered_index\":76,\"Frac. Ab. (Ion=0)\":\"8.176679e-07\"},{\"Level\":77,\"qgrid_unfiltered_index\":77,\"Frac. Ab. (Ion=0)\":\"1.051287e-06\"},{\"Level\":78,\"qgrid_unfiltered_index\":78,\"Frac. Ab. (Ion=0)\":\"3.349877e-07\"},{\"Level\":79,\"qgrid_unfiltered_index\":79,\"Frac. Ab. (Ion=0)\":\"5.583009e-07\"},{\"Level\":80,\"qgrid_unfiltered_index\":80,\"Frac. Ab. (Ion=0)\":\"7.815948e-07\"},{\"Level\":81,\"qgrid_unfiltered_index\":81,\"Frac. Ab. (Ion=0)\":\"1.098830e-07\"},{\"Level\":82,\"qgrid_unfiltered_index\":82,\"Frac. Ab. (Ion=0)\":\"3.296490e-07\"},{\"Level\":83,\"qgrid_unfiltered_index\":83,\"Frac. Ab. (Ion=0)\":\"5.494150e-07\"},{\"Level\":84,\"qgrid_unfiltered_index\":84,\"Frac. Ab. (Ion=0)\":\"5.059995e-07\"},{\"Level\":85,\"qgrid_unfiltered_index\":85,\"Frac. Ab. (Ion=0)\":\"3.003584e-07\"},{\"Level\":86,\"qgrid_unfiltered_index\":86,\"Frac. Ab. (Ion=0)\":\"8.867247e-07\"},{\"Level\":87,\"qgrid_unfiltered_index\":87,\"Frac. Ab. (Ion=0)\":\"6.896738e-07\"},{\"Level\":88,\"qgrid_unfiltered_index\":88,\"Frac. Ab. (Ion=0)\":\"4.926231e-07\"},{\"Level\":89,\"qgrid_unfiltered_index\":89,\"Frac. Ab. (Ion=0)\":\"2.955734e-07\"},{\"Level\":90,\"qgrid_unfiltered_index\":90,\"Frac. Ab. (Ion=0)\":\"9.852437e-08\"},{\"Level\":91,\"qgrid_unfiltered_index\":91,\"Frac. Ab. (Ion=0)\":\"2.950239e-07\"},{\"Level\":92,\"qgrid_unfiltered_index\":92,\"Frac. Ab. (Ion=0)\":\"4.917065e-07\"},{\"Level\":93,\"qgrid_unfiltered_index\":93,\"Frac. Ab. (Ion=0)\":\"6.883891e-07\"},{\"Level\":94,\"qgrid_unfiltered_index\":94,\"Frac. Ab. (Ion=0)\":\"2.942825e-07\"},{\"Level\":95,\"qgrid_unfiltered_index\":95,\"Frac. Ab. (Ion=0)\":\"4.904709e-07\"},{\"Level\":96,\"qgrid_unfiltered_index\":96,\"Frac. Ab. (Ion=0)\":\"6.866593e-07\"},{\"Level\":97,\"qgrid_unfiltered_index\":97,\"Frac. Ab. (Ion=0)\":\"8.828476e-07\"},{\"Level\":98,\"qgrid_unfiltered_index\":98,\"Frac. Ab. (Ion=0)\":\"1.079036e-06\"},{\"Level\":99,\"qgrid_unfiltered_index\":99,\"Frac. Ab. (Ion=0)\":\"4.904683e-07\"}]}",
       "_df_range": [
        0,
        100
       ],
       "_dom_classes": [],
       "_editable_rows": {},
       "_index_col_name": "qgrid_unfiltered_index",
       "_interval_columns": [],
       "_model_module": "qgrid",
       "_model_module_version": "^1.1.3",
       "_model_name": "QgridModel",
       "_multi_index": false,
       "_row_count": 150,
       "_row_styles": {},
       "_sort_ascending": true,
       "_sort_field": null,
       "_view_count": null,
       "_view_module": "qgrid",
       "_view_module_version": "^1.1.3",
       "_view_name": "QgridView",
       "_viewport_range": [
        0,
        100
       ],
       "grid_options": {
        "autoEdit": false,
        "boldIndex": true,
        "defaultColumnWidth": 150,
        "editable": false,
        "enableColumnReorder": false,
        "enableTextSelectionOnCells": true,
        "explicitInitialization": true,
        "filterable": false,
        "forceFitColumns": true,
        "fullWidthRows": true,
        "highlightSelectedCell": false,
        "highlightSelectedRow": true,
        "maxVisibleRows": 15,
        "minVisibleRows": 2,
        "rowHeight": 28,
        "sortable": false,
        "syncColumnCellResize": true
       },
       "id": "beed57e6-9857-43a5-9192-83dfa76e0cf9",
       "layout": "IPY_MODEL_a3975fdd6b2b4c5c83461ac161a70d94",
       "precision": 5,
       "show_toolbar": false
      }
     },
     "558f28e2b24e43bb854aa17171cba6bb": {
      "model_module": "@jupyter-widgets/base",
      "model_module_version": "1.2.0",
      "model_name": "LayoutModel",
      "state": {
       "_model_module": "@jupyter-widgets/base",
       "_model_module_version": "1.2.0",
       "_model_name": "LayoutModel",
       "_view_count": null,
       "_view_module": "@jupyter-widgets/base",
       "_view_module_version": "1.2.0",
       "_view_name": "LayoutView",
       "align_content": null,
       "align_items": null,
       "align_self": null,
       "border": null,
       "bottom": null,
       "display": null,
       "flex": null,
       "flex_flow": null,
       "grid_area": null,
       "grid_auto_columns": null,
       "grid_auto_flow": null,
       "grid_auto_rows": null,
       "grid_column": null,
       "grid_gap": null,
       "grid_row": null,
       "grid_template_areas": null,
       "grid_template_columns": null,
       "grid_template_rows": null,
       "height": null,
       "justify_content": null,
       "justify_items": null,
       "left": null,
       "margin": null,
       "max_height": null,
       "max_width": null,
       "min_height": null,
       "min_width": null,
       "object_fit": null,
       "object_position": null,
       "order": null,
       "overflow": null,
       "overflow_x": null,
       "overflow_y": null,
       "padding": null,
       "right": null,
       "top": null,
       "visibility": null,
       "width": null
      }
     },
     "59ae52bc080642798bc5d33f613aedbf": {
      "model_module": "@jupyter-widgets/base",
      "model_module_version": "1.2.0",
      "model_name": "LayoutModel",
      "state": {
       "_model_module": "@jupyter-widgets/base",
       "_model_module_version": "1.2.0",
       "_model_name": "LayoutModel",
       "_view_count": null,
       "_view_module": "@jupyter-widgets/base",
       "_view_module_version": "1.2.0",
       "_view_name": "LayoutView",
       "align_content": null,
       "align_items": null,
       "align_self": null,
       "border": null,
       "bottom": null,
       "display": null,
       "flex": null,
       "flex_flow": null,
       "grid_area": null,
       "grid_auto_columns": null,
       "grid_auto_flow": null,
       "grid_auto_rows": null,
       "grid_column": null,
       "grid_gap": null,
       "grid_row": null,
       "grid_template_areas": null,
       "grid_template_columns": null,
       "grid_template_rows": null,
       "height": null,
       "justify_content": null,
       "justify_items": null,
       "left": null,
       "margin": null,
       "max_height": null,
       "max_width": null,
       "min_height": null,
       "min_width": null,
       "object_fit": null,
       "object_position": null,
       "order": null,
       "overflow": null,
       "overflow_x": null,
       "overflow_y": null,
       "padding": null,
       "right": null,
       "top": null,
       "visibility": null,
       "width": null
      }
     },
     "5b455f68f10d42838ef81267aaa1852f": {
      "model_module": "@jupyter-widgets/controls",
      "model_module_version": "1.5.0",
      "model_name": "HTMLModel",
      "state": {
       "_dom_classes": [],
       "_model_module": "@jupyter-widgets/controls",
       "_model_module_version": "1.5.0",
       "_model_name": "HTMLModel",
       "_view_count": null,
       "_view_module": "@jupyter-widgets/controls",
       "_view_module_version": "1.5.0",
       "_view_name": "HTMLView",
       "description": "",
       "description_tooltip": null,
       "layout": "IPY_MODEL_a8bbdb0e9a15400aaa41c8d566f8fe62",
       "placeholder": "​",
       "style": "IPY_MODEL_4d5d247467b34cf7b80f1fc767deb413",
       "value": "<b>Frac. Ab.</b> denotes <i>Fractional Abundances</i> (i.e all values sum to 1)<br><b>W</b> denotes <i>Dilution Factor</i> and <b>Rad. Temp.</b> is <i>Radiative Temperature (in K)</i>"
      }
     },
     "5edd338dc45948528a33f69f5dedd5d6": {
      "model_module": "@jupyter-widgets/controls",
      "model_module_version": "1.5.0",
      "model_name": "HTMLModel",
      "state": {
       "_dom_classes": [],
       "_model_module": "@jupyter-widgets/controls",
       "_model_module_version": "1.5.0",
       "_model_name": "HTMLModel",
       "_view_count": null,
       "_view_module": "@jupyter-widgets/controls",
       "_view_module_version": "1.5.0",
       "_view_name": "HTMLView",
       "description": "",
       "description_tooltip": null,
       "layout": "IPY_MODEL_558f28e2b24e43bb854aa17171cba6bb",
       "placeholder": "​",
       "style": "IPY_MODEL_cf5a302ae2a74d8d8fc8b352276e01d4",
       "value": "<span style='font-size: 1.15em;'>Group packet counts by:</span>"
      }
     },
     "5f681f2eca8747e4bb011703c9862e13": {
      "model_module": "@jupyter-widgets/base",
      "model_module_version": "1.2.0",
      "model_name": "LayoutModel",
      "state": {
       "_model_module": "@jupyter-widgets/base",
       "_model_module_version": "1.2.0",
       "_model_name": "LayoutModel",
       "_view_count": null,
       "_view_module": "@jupyter-widgets/base",
       "_view_module_version": "1.2.0",
       "_view_name": "LayoutView",
       "align_content": null,
       "align_items": null,
       "align_self": null,
       "border": null,
       "bottom": null,
       "display": null,
       "flex": null,
       "flex_flow": null,
       "grid_area": null,
       "grid_auto_columns": null,
       "grid_auto_flow": null,
       "grid_auto_rows": null,
       "grid_column": null,
       "grid_gap": null,
       "grid_row": null,
       "grid_template_areas": null,
       "grid_template_columns": null,
       "grid_template_rows": null,
       "height": null,
       "justify_content": null,
       "justify_items": null,
       "left": null,
       "margin": null,
       "max_height": null,
       "max_width": null,
       "min_height": null,
       "min_width": null,
       "object_fit": null,
       "object_position": null,
       "order": null,
       "overflow": null,
       "overflow_x": null,
       "overflow_y": null,
       "padding": null,
       "right": null,
       "top": null,
       "visibility": null,
       "width": null
      }
     },
     "5ffac1fc24474a28972814106bf8aca2": {
      "model_module": "@jupyter-widgets/base",
      "model_module_version": "1.2.0",
      "model_name": "LayoutModel",
      "state": {
       "_model_module": "@jupyter-widgets/base",
       "_model_module_version": "1.2.0",
       "_model_name": "LayoutModel",
       "_view_count": null,
       "_view_module": "@jupyter-widgets/base",
       "_view_module_version": "1.2.0",
       "_view_name": "LayoutView",
       "align_content": null,
       "align_items": null,
       "align_self": null,
       "border": null,
       "bottom": null,
       "display": null,
       "flex": null,
       "flex_flow": null,
       "grid_area": null,
       "grid_auto_columns": null,
       "grid_auto_flow": null,
       "grid_auto_rows": null,
       "grid_column": null,
       "grid_gap": null,
       "grid_row": null,
       "grid_template_areas": null,
       "grid_template_columns": null,
       "grid_template_rows": null,
       "height": null,
       "justify_content": null,
       "justify_items": null,
       "left": null,
       "margin": null,
       "max_height": null,
       "max_width": null,
       "min_height": null,
       "min_width": null,
       "object_fit": null,
       "object_position": null,
       "order": null,
       "overflow": null,
       "overflow_x": null,
       "overflow_y": null,
       "padding": null,
       "right": null,
       "top": null,
       "visibility": null,
       "width": null
      }
     },
     "642427a98f1d4795ab67cbc435c28aef": {
      "model_module": "@jupyter-widgets/controls",
      "model_module_version": "1.5.0",
      "model_name": "DescriptionStyleModel",
      "state": {
       "_model_module": "@jupyter-widgets/controls",
       "_model_module_version": "1.5.0",
       "_model_name": "DescriptionStyleModel",
       "_view_count": null,
       "_view_module": "@jupyter-widgets/base",
       "_view_module_version": "1.2.0",
       "_view_name": "StyleView",
       "description_width": ""
      }
     },
     "67843fb12e7f496d9e5178fcdb1e8af1": {
      "model_module": "@jupyter-widgets/controls",
      "model_module_version": "1.5.0",
      "model_name": "HBoxModel",
      "state": {
       "_dom_classes": [],
       "_model_module": "@jupyter-widgets/controls",
       "_model_module_version": "1.5.0",
       "_model_name": "HBoxModel",
       "_view_count": null,
       "_view_module": "@jupyter-widgets/controls",
       "_view_module_version": "1.5.0",
       "_view_name": "HBoxView",
       "box_style": "",
       "children": [
        "IPY_MODEL_f8dc4c6814064ec88bd42c285f7c744a",
        "IPY_MODEL_342b2f3f7be142f8809039d6952ed105",
        "IPY_MODEL_746466be9436468a8f5f3730230fa637"
       ],
       "layout": "IPY_MODEL_30207abd9db3468faa735a318323f901"
      }
     },
     "679d8b47797f4bfea0288cfd5898cf13": {
      "model_module": "@jupyter-widgets/base",
      "model_module_version": "1.2.0",
      "model_name": "LayoutModel",
      "state": {
       "_model_module": "@jupyter-widgets/base",
       "_model_module_version": "1.2.0",
       "_model_name": "LayoutModel",
       "_view_count": null,
       "_view_module": "@jupyter-widgets/base",
       "_view_module_version": "1.2.0",
       "_view_name": "LayoutView",
       "align_content": null,
       "align_items": null,
       "align_self": null,
       "border": null,
       "bottom": null,
       "display": null,
       "flex": null,
       "flex_flow": null,
       "grid_area": null,
       "grid_auto_columns": null,
       "grid_auto_flow": null,
       "grid_auto_rows": null,
       "grid_column": null,
       "grid_gap": null,
       "grid_row": null,
       "grid_template_areas": null,
       "grid_template_columns": null,
       "grid_template_rows": null,
       "height": null,
       "justify_content": null,
       "justify_items": null,
       "left": null,
       "margin": null,
       "max_height": null,
       "max_width": null,
       "min_height": null,
       "min_width": null,
       "object_fit": null,
       "object_position": null,
       "order": null,
       "overflow": null,
       "overflow_x": null,
       "overflow_y": null,
       "padding": null,
       "right": null,
       "top": null,
       "visibility": null,
       "width": null
      }
     },
     "681cb669c7da42829e91f5abf17d6f27": {
      "model_module": "@jupyter-widgets/controls",
      "model_module_version": "1.5.0",
      "model_name": "BoxModel",
      "state": {
       "_dom_classes": [],
       "_model_module": "@jupyter-widgets/controls",
       "_model_module_version": "1.5.0",
       "_model_name": "BoxModel",
       "_view_count": null,
       "_view_module": "@jupyter-widgets/controls",
       "_view_module_version": "1.5.0",
       "_view_name": "BoxView",
       "box_style": "",
       "children": [
        "IPY_MODEL_89ad68a152984c57846892b38d91f397",
        "IPY_MODEL_ecb0aee4cd9d46bcab714fd347b8b361",
        "IPY_MODEL_51002cd3e2654dc7843c96a8f42ea386",
        "IPY_MODEL_536fe7a6dd6b4a5eac1355116154cb57"
       ],
       "layout": "IPY_MODEL_f79439ba6799416d8df940be7923efe5"
      }
     },
     "6f0abbe4abc04d1c8200c9b81f62ab99": {
      "model_module": "@jupyter-widgets/controls",
      "model_module_version": "1.5.0",
      "model_name": "ProgressStyleModel",
      "state": {
       "_model_module": "@jupyter-widgets/controls",
       "_model_module_version": "1.5.0",
       "_model_name": "ProgressStyleModel",
       "_view_count": null,
       "_view_module": "@jupyter-widgets/base",
       "_view_module_version": "1.2.0",
       "_view_name": "StyleView",
       "bar_color": null,
       "description_width": ""
      }
     },
     "6f2b65b10cb7409e90cf3e17b3be3260": {
      "model_module": "@jupyter-widgets/base",
      "model_module_version": "1.2.0",
      "model_name": "LayoutModel",
      "state": {
       "_model_module": "@jupyter-widgets/base",
       "_model_module_version": "1.2.0",
       "_model_name": "LayoutModel",
       "_view_count": null,
       "_view_module": "@jupyter-widgets/base",
       "_view_module_version": "1.2.0",
       "_view_name": "LayoutView",
       "align_content": null,
       "align_items": null,
       "align_self": null,
       "border": null,
       "bottom": null,
       "display": null,
       "flex": null,
       "flex_flow": null,
       "grid_area": null,
       "grid_auto_columns": null,
       "grid_auto_flow": null,
       "grid_auto_rows": null,
       "grid_column": null,
       "grid_gap": null,
       "grid_row": null,
       "grid_template_areas": null,
       "grid_template_columns": null,
       "grid_template_rows": null,
       "height": null,
       "justify_content": null,
       "justify_items": null,
       "left": null,
       "margin": null,
       "max_height": null,
       "max_width": null,
       "min_height": null,
       "min_width": null,
       "object_fit": null,
       "object_position": null,
       "order": null,
       "overflow": null,
       "overflow_x": null,
       "overflow_y": null,
       "padding": null,
       "right": null,
       "top": null,
       "visibility": null,
       "width": null
      }
     },
     "6f3de335ba064dfe8bc7ee89326464ec": {
      "model_module": "@jupyter-widgets/base",
      "model_module_version": "1.2.0",
      "model_name": "LayoutModel",
      "state": {
       "_model_module": "@jupyter-widgets/base",
       "_model_module_version": "1.2.0",
       "_model_name": "LayoutModel",
       "_view_count": null,
       "_view_module": "@jupyter-widgets/base",
       "_view_module_version": "1.2.0",
       "_view_name": "LayoutView",
       "align_content": null,
       "align_items": null,
       "align_self": null,
       "border": null,
       "bottom": null,
       "display": null,
       "flex": "0 0 auto",
       "flex_flow": null,
       "grid_area": null,
       "grid_auto_columns": null,
       "grid_auto_flow": null,
       "grid_auto_rows": null,
       "grid_column": null,
       "grid_gap": null,
       "grid_row": null,
       "grid_template_areas": null,
       "grid_template_columns": null,
       "grid_template_rows": null,
       "height": null,
       "justify_content": null,
       "justify_items": null,
       "left": null,
       "margin": "0px",
       "max_height": null,
       "max_width": null,
       "min_height": null,
       "min_width": null,
       "object_fit": null,
       "object_position": null,
       "order": null,
       "overflow": null,
       "overflow_x": null,
       "overflow_y": null,
       "padding": "0px 2px",
       "right": null,
       "top": null,
       "visibility": null,
       "width": "337.5px"
      }
     },
     "70aebc54f6f244f992096334fdebb05a": {
      "model_module": "@jupyter-widgets/base",
      "model_module_version": "1.2.0",
      "model_name": "LayoutModel",
      "state": {
       "_model_module": "@jupyter-widgets/base",
       "_model_module_version": "1.2.0",
       "_model_name": "LayoutModel",
       "_view_count": null,
       "_view_module": "@jupyter-widgets/base",
       "_view_module_version": "1.2.0",
       "_view_name": "LayoutView",
       "align_content": null,
       "align_items": null,
       "align_self": null,
       "border": null,
       "bottom": null,
       "display": null,
       "flex": null,
       "flex_flow": null,
       "grid_area": null,
       "grid_auto_columns": null,
       "grid_auto_flow": null,
       "grid_auto_rows": null,
       "grid_column": null,
       "grid_gap": null,
       "grid_row": null,
       "grid_template_areas": null,
       "grid_template_columns": null,
       "grid_template_rows": null,
       "height": null,
       "justify_content": null,
       "justify_items": null,
       "left": null,
       "margin": null,
       "max_height": null,
       "max_width": null,
       "min_height": null,
       "min_width": null,
       "object_fit": null,
       "object_position": null,
       "order": null,
       "overflow": null,
       "overflow_x": null,
       "overflow_y": null,
       "padding": null,
       "right": null,
       "top": null,
       "visibility": null,
       "width": "20px"
      }
     },
     "746466be9436468a8f5f3730230fa637": {
      "model_module": "@jupyter-widgets/controls",
      "model_module_version": "1.5.0",
      "model_name": "BoundedIntTextModel",
      "state": {
       "_dom_classes": [],
       "_model_module": "@jupyter-widgets/controls",
       "_model_module_version": "1.5.0",
       "_model_name": "BoundedIntTextModel",
       "_view_count": null,
       "_view_module": "@jupyter-widgets/controls",
       "_view_module_version": "1.5.0",
       "_view_name": "IntTextView",
       "continuous_update": false,
       "description": "Max Levels",
       "description_tooltip": null,
       "disabled": false,
       "layout": "IPY_MODEL_2ae50cbf897047da8089075f97a801f1",
       "max": 40,
       "min": 1,
       "step": 1,
       "style": "IPY_MODEL_f5dbc0928d424976a75e916930685c6c",
       "value": 10
      }
     },
     "760e78775b1b4ddeada036d7930a0d10": {
      "model_module": "@jupyter-widgets/base",
      "model_module_version": "1.2.0",
      "model_name": "LayoutModel",
      "state": {
       "_model_module": "@jupyter-widgets/base",
       "_model_module_version": "1.2.0",
       "_model_name": "LayoutModel",
       "_view_count": null,
       "_view_module": "@jupyter-widgets/base",
       "_view_module_version": "1.2.0",
       "_view_name": "LayoutView",
       "align_content": null,
       "align_items": null,
       "align_self": null,
       "border": null,
       "bottom": null,
       "display": null,
       "flex": null,
       "flex_flow": null,
       "grid_area": null,
       "grid_auto_columns": null,
       "grid_auto_flow": null,
       "grid_auto_rows": null,
       "grid_column": null,
       "grid_gap": null,
       "grid_row": null,
       "grid_template_areas": null,
       "grid_template_columns": null,
       "grid_template_rows": null,
       "height": null,
       "justify_content": null,
       "justify_items": null,
       "left": null,
       "margin": null,
       "max_height": null,
       "max_width": null,
       "min_height": null,
       "min_width": null,
       "object_fit": null,
       "object_position": null,
       "order": null,
       "overflow": null,
       "overflow_x": null,
       "overflow_y": null,
       "padding": null,
       "right": null,
       "top": null,
       "visibility": null,
       "width": "6%"
      }
     },
     "774b58aac53e4c25a3e83e1314c28313": {
      "model_module": "@jupyter-widgets/base",
      "model_module_version": "1.2.0",
      "model_name": "LayoutModel",
      "state": {
       "_model_module": "@jupyter-widgets/base",
       "_model_module_version": "1.2.0",
       "_model_name": "LayoutModel",
       "_view_count": null,
       "_view_module": "@jupyter-widgets/base",
       "_view_module_version": "1.2.0",
       "_view_name": "LayoutView",
       "align_content": null,
       "align_items": null,
       "align_self": null,
       "border": null,
       "bottom": null,
       "display": null,
       "flex": null,
       "flex_flow": null,
       "grid_area": null,
       "grid_auto_columns": null,
       "grid_auto_flow": null,
       "grid_auto_rows": null,
       "grid_column": null,
       "grid_gap": null,
       "grid_row": null,
       "grid_template_areas": null,
       "grid_template_columns": null,
       "grid_template_rows": null,
       "height": null,
       "justify_content": null,
       "justify_items": null,
       "left": null,
       "margin": null,
       "max_height": null,
       "max_width": null,
       "min_height": null,
       "min_width": null,
       "object_fit": null,
       "object_position": null,
       "order": null,
       "overflow": null,
       "overflow_x": null,
       "overflow_y": null,
       "padding": null,
       "right": null,
       "top": null,
       "visibility": null,
       "width": "auto"
      }
     },
     "7e689e67e50744d6ba8108b9940bc090": {
      "model_module": "@jupyter-widgets/base",
      "model_module_version": "1.2.0",
      "model_name": "LayoutModel",
      "state": {
       "_model_module": "@jupyter-widgets/base",
       "_model_module_version": "1.2.0",
       "_model_name": "LayoutModel",
       "_view_count": null,
       "_view_module": "@jupyter-widgets/base",
       "_view_module_version": "1.2.0",
       "_view_name": "LayoutView",
       "align_content": null,
       "align_items": null,
       "align_self": null,
       "border": null,
       "bottom": null,
       "display": null,
       "flex": null,
       "flex_flow": null,
       "grid_area": null,
       "grid_auto_columns": null,
       "grid_auto_flow": null,
       "grid_auto_rows": null,
       "grid_column": null,
       "grid_gap": null,
       "grid_row": null,
       "grid_template_areas": null,
       "grid_template_columns": null,
       "grid_template_rows": null,
       "height": null,
       "justify_content": null,
       "justify_items": null,
       "left": null,
       "margin": null,
       "max_height": null,
       "max_width": null,
       "min_height": null,
       "min_width": null,
       "object_fit": null,
       "object_position": null,
       "order": null,
       "overflow": null,
       "overflow_x": null,
       "overflow_y": null,
       "padding": null,
       "right": null,
       "top": null,
       "visibility": null,
       "width": null
      }
     },
     "7f15e6d28d6d428aab4bd2d0caf2816a": {
      "model_module": "@jupyter-widgets/base",
      "model_module_version": "1.2.0",
      "model_name": "LayoutModel",
      "state": {
       "_model_module": "@jupyter-widgets/base",
       "_model_module_version": "1.2.0",
       "_model_name": "LayoutModel",
       "_view_count": null,
       "_view_module": "@jupyter-widgets/base",
       "_view_module_version": "1.2.0",
       "_view_name": "LayoutView",
       "align_content": null,
       "align_items": null,
       "align_self": null,
       "border": null,
       "bottom": null,
       "display": null,
       "flex": null,
       "flex_flow": null,
       "grid_area": null,
       "grid_auto_columns": null,
       "grid_auto_flow": null,
       "grid_auto_rows": null,
       "grid_column": null,
       "grid_gap": null,
       "grid_row": null,
       "grid_template_areas": null,
       "grid_template_columns": null,
       "grid_template_rows": null,
       "height": null,
       "justify_content": null,
       "justify_items": null,
       "left": null,
       "margin": null,
       "max_height": null,
       "max_width": null,
       "min_height": null,
       "min_width": null,
       "object_fit": null,
       "object_position": null,
       "order": null,
       "overflow": null,
       "overflow_x": null,
       "overflow_y": null,
       "padding": null,
       "right": null,
       "top": null,
       "visibility": null,
       "width": "605px"
      }
     },
     "839cf966eec24f3e85d9a670cbf2987f": {
      "model_module": "@jupyter-widgets/base",
      "model_module_version": "1.2.0",
      "model_name": "LayoutModel",
      "state": {
       "_model_module": "@jupyter-widgets/base",
       "_model_module_version": "1.2.0",
       "_model_name": "LayoutModel",
       "_view_count": null,
       "_view_module": "@jupyter-widgets/base",
       "_view_module_version": "1.2.0",
       "_view_name": "LayoutView",
       "align_content": null,
       "align_items": null,
       "align_self": null,
       "border": null,
       "bottom": null,
       "display": null,
       "flex": null,
       "flex_flow": null,
       "grid_area": null,
       "grid_auto_columns": null,
       "grid_auto_flow": null,
       "grid_auto_rows": null,
       "grid_column": null,
       "grid_gap": null,
       "grid_row": null,
       "grid_template_areas": null,
       "grid_template_columns": null,
       "grid_template_rows": null,
       "height": null,
       "justify_content": null,
       "justify_items": null,
       "left": null,
       "margin": "0px 15px",
       "max_height": null,
       "max_width": null,
       "min_height": null,
       "min_width": null,
       "object_fit": null,
       "object_position": null,
       "order": null,
       "overflow": null,
       "overflow_x": null,
       "overflow_y": null,
       "padding": null,
       "right": null,
       "top": null,
       "visibility": null,
       "width": null
      }
     },
     "85de104eea6b43ce99dc0dba3d693b42": {
      "model_module": "@jupyter-widgets/base",
      "model_module_version": "1.2.0",
      "model_name": "LayoutModel",
      "state": {
       "_model_module": "@jupyter-widgets/base",
       "_model_module_version": "1.2.0",
       "_model_name": "LayoutModel",
       "_view_count": null,
       "_view_module": "@jupyter-widgets/base",
       "_view_module_version": "1.2.0",
       "_view_name": "LayoutView",
       "align_content": null,
       "align_items": null,
       "align_self": null,
       "border": null,
       "bottom": null,
       "display": null,
       "flex": null,
       "flex_flow": null,
       "grid_area": null,
       "grid_auto_columns": null,
       "grid_auto_flow": null,
       "grid_auto_rows": null,
       "grid_column": null,
       "grid_gap": null,
       "grid_row": null,
       "grid_template_areas": null,
       "grid_template_columns": null,
       "grid_template_rows": null,
       "height": null,
       "justify_content": null,
       "justify_items": null,
       "left": null,
       "margin": null,
       "max_height": null,
       "max_width": null,
       "min_height": null,
       "min_width": null,
       "object_fit": null,
       "object_position": null,
       "order": null,
       "overflow": null,
       "overflow_x": null,
       "overflow_y": null,
       "padding": null,
       "right": null,
       "top": null,
       "visibility": null,
       "width": "20px"
      }
     },
     "883f2e65d968454ba4bc489e52c33a8b": {
      "model_module": "@jupyter-widgets/base",
      "model_module_version": "1.2.0",
      "model_name": "LayoutModel",
      "state": {
       "_model_module": "@jupyter-widgets/base",
       "_model_module_version": "1.2.0",
       "_model_name": "LayoutModel",
       "_view_count": null,
       "_view_module": "@jupyter-widgets/base",
       "_view_module_version": "1.2.0",
       "_view_name": "LayoutView",
       "align_content": null,
       "align_items": null,
       "align_self": null,
       "border": null,
       "bottom": null,
       "display": null,
       "flex": null,
       "flex_flow": null,
       "grid_area": null,
       "grid_auto_columns": null,
       "grid_auto_flow": null,
       "grid_auto_rows": null,
       "grid_column": null,
       "grid_gap": null,
       "grid_row": null,
       "grid_template_areas": null,
       "grid_template_columns": null,
       "grid_template_rows": null,
       "height": null,
       "justify_content": null,
       "justify_items": null,
       "left": null,
       "margin": null,
       "max_height": null,
       "max_width": null,
       "min_height": null,
       "min_width": null,
       "object_fit": null,
       "object_position": null,
       "order": null,
       "overflow": null,
       "overflow_x": null,
       "overflow_y": null,
       "padding": null,
       "right": null,
       "top": null,
       "visibility": null,
       "width": null
      }
     },
     "8984b73f84954a66936a8e820e6944ca": {
      "model_module": "@jupyter-widgets/base",
      "model_module_version": "1.2.0",
      "model_name": "LayoutModel",
      "state": {
       "_model_module": "@jupyter-widgets/base",
       "_model_module_version": "1.2.0",
       "_model_name": "LayoutModel",
       "_view_count": null,
       "_view_module": "@jupyter-widgets/base",
       "_view_module_version": "1.2.0",
       "_view_name": "LayoutView",
       "align_content": null,
       "align_items": null,
       "align_self": null,
       "border": null,
       "bottom": null,
       "display": null,
       "flex": null,
       "flex_flow": null,
       "grid_area": null,
       "grid_auto_columns": null,
       "grid_auto_flow": null,
       "grid_auto_rows": null,
       "grid_column": null,
       "grid_gap": null,
       "grid_row": null,
       "grid_template_areas": null,
       "grid_template_columns": null,
       "grid_template_rows": null,
       "height": null,
       "justify_content": null,
       "justify_items": null,
       "left": null,
       "margin": null,
       "max_height": null,
       "max_width": null,
       "min_height": null,
       "min_width": null,
       "object_fit": null,
       "object_position": null,
       "order": null,
       "overflow": null,
       "overflow_x": null,
       "overflow_y": null,
       "padding": null,
       "right": null,
       "top": null,
       "visibility": null,
       "width": null
      }
     },
     "89ad68a152984c57846892b38d91f397": {
      "model_module": "qgrid",
      "model_module_version": "^1.1.3",
      "model_name": "QgridModel",
      "state": {
       "_columns": {
        "Dilution Factor": {
         "cssClass": "string",
         "defaultSortAsc": true,
         "editable": true,
         "field": "Dilution Factor",
         "id": "Dilution Factor",
         "maxWidth": null,
         "minWidth": null,
         "name": "Dilution Factor",
         "position": 3,
         "resizable": true,
         "sortable": true,
         "toolTip": "",
         "type": "string",
         "width": 35
        },
        "Rad. Temp.": {
         "cssClass": "string",
         "defaultSortAsc": true,
         "editable": true,
         "field": "Rad. Temp.",
         "id": "Rad. Temp.",
         "maxWidth": null,
         "minWidth": null,
         "name": "Rad. Temp.",
         "position": 2,
         "resizable": true,
         "sortable": true,
         "toolTip": "",
         "type": "string",
         "width": 35
        },
        "Shell No.": {
         "cssClass": "integer",
         "defaultSortAsc": true,
         "editable": true,
         "field": "Shell No.",
         "first_index": true,
         "id": "Shell No.",
         "index_display_text": "Shell No.",
         "is_index": true,
         "level": 0,
         "maxWidth": null,
         "minWidth": null,
         "name": "Shell No.",
         "position": 0,
         "resizable": true,
         "sortable": true,
         "toolTip": "",
         "type": "integer",
         "width": 30
        },
        "qgrid_unfiltered_index": {
         "cssClass": "integer",
         "defaultSortAsc": true,
         "editable": true,
         "field": "qgrid_unfiltered_index",
         "id": "qgrid_unfiltered_index",
         "maxWidth": null,
         "minWidth": null,
         "name": "qgrid_unfiltered_index",
         "position": 1,
         "resizable": true,
         "sortable": true,
         "toolTip": "",
         "type": "integer",
         "width": null
        }
       },
       "_df_json": "{\"schema\":{\"fields\":[{\"name\":\"Shell No.\",\"type\":\"integer\"},{\"name\":\"qgrid_unfiltered_index\",\"type\":\"integer\"},{\"name\":\"Rad. Temp.\",\"type\":\"string\"},{\"name\":\"Dilution Factor\",\"type\":\"string\"}],\"primaryKey\":[\"Shell No.\"],\"pandas_version\":\"1.4.0\"},\"data\":[{\"Shell No.\":1,\"qgrid_unfiltered_index\":0,\"Rad. Temp.\":\"1.106933e+04\",\"Dilution Factor\":\"4.658311e-01\"},{\"Shell No.\":2,\"qgrid_unfiltered_index\":1,\"Rad. Temp.\":\"1.116516e+04\",\"Dilution Factor\":\"3.582140e-01\"},{\"Shell No.\":3,\"qgrid_unfiltered_index\":2,\"Rad. Temp.\":\"1.127263e+04\",\"Dilution Factor\":\"2.847850e-01\"},{\"Shell No.\":4,\"qgrid_unfiltered_index\":3,\"Rad. Temp.\":\"1.137245e+04\",\"Dilution Factor\":\"2.313175e-01\"},{\"Shell No.\":5,\"qgrid_unfiltered_index\":4,\"Rad. Temp.\":\"1.133203e+04\",\"Dilution Factor\":\"2.019042e-01\"},{\"Shell No.\":6,\"qgrid_unfiltered_index\":5,\"Rad. Temp.\":\"1.132964e+04\",\"Dilution Factor\":\"1.767292e-01\"},{\"Shell No.\":7,\"qgrid_unfiltered_index\":6,\"Rad. Temp.\":\"1.129452e+04\",\"Dilution Factor\":\"1.576894e-01\"},{\"Shell No.\":8,\"qgrid_unfiltered_index\":7,\"Rad. Temp.\":\"1.126157e+04\",\"Dilution Factor\":\"1.418790e-01\"},{\"Shell No.\":9,\"qgrid_unfiltered_index\":8,\"Rad. Temp.\":\"1.124148e+04\",\"Dilution Factor\":\"1.281619e-01\"},{\"Shell No.\":10,\"qgrid_unfiltered_index\":9,\"Rad. Temp.\":\"1.114898e+04\",\"Dilution Factor\":\"1.190855e-01\"},{\"Shell No.\":11,\"qgrid_unfiltered_index\":10,\"Rad. Temp.\":\"1.107153e+04\",\"Dilution Factor\":\"1.114804e-01\"},{\"Shell No.\":12,\"qgrid_unfiltered_index\":11,\"Rad. Temp.\":\"1.100469e+04\",\"Dilution Factor\":\"1.045448e-01\"},{\"Shell No.\":13,\"qgrid_unfiltered_index\":12,\"Rad. Temp.\":\"1.094640e+04\",\"Dilution Factor\":\"9.806677e-02\"},{\"Shell No.\":14,\"qgrid_unfiltered_index\":13,\"Rad. Temp.\":\"1.086143e+04\",\"Dilution Factor\":\"9.312254e-02\"},{\"Shell No.\":15,\"qgrid_unfiltered_index\":14,\"Rad. Temp.\":\"1.078448e+04\",\"Dilution Factor\":\"8.822151e-02\"},{\"Shell No.\":16,\"qgrid_unfiltered_index\":15,\"Rad. Temp.\":\"1.065556e+04\",\"Dilution Factor\":\"8.534236e-02\"},{\"Shell No.\":17,\"qgrid_unfiltered_index\":16,\"Rad. Temp.\":\"1.058612e+04\",\"Dilution Factor\":\"8.173657e-02\"},{\"Shell No.\":18,\"qgrid_unfiltered_index\":17,\"Rad. Temp.\":\"1.056800e+04\",\"Dilution Factor\":\"7.726564e-02\"},{\"Shell No.\":19,\"qgrid_unfiltered_index\":18,\"Rad. Temp.\":\"1.043571e+04\",\"Dilution Factor\":\"7.559528e-02\"},{\"Shell No.\":20,\"qgrid_unfiltered_index\":19,\"Rad. Temp.\":\"1.030571e+04\",\"Dilution Factor\":\"7.395579e-02\"}]}",
       "_df_range": [
        0,
        100
       ],
       "_dom_classes": [],
       "_editable_rows": {},
       "_index_col_name": "qgrid_unfiltered_index",
       "_interval_columns": [],
       "_model_module": "qgrid",
       "_model_module_version": "^1.1.3",
       "_model_name": "QgridModel",
       "_multi_index": false,
       "_row_count": 20,
       "_row_styles": {},
       "_sort_ascending": true,
       "_sort_field": null,
       "_view_count": null,
       "_view_module": "qgrid",
       "_view_module_version": "^1.1.3",
       "_view_name": "QgridView",
       "_viewport_range": [
        0,
        100
       ],
       "grid_options": {
        "autoEdit": false,
        "boldIndex": true,
        "defaultColumnWidth": 150,
        "editable": false,
        "enableColumnReorder": false,
        "enableTextSelectionOnCells": true,
        "explicitInitialization": true,
        "filterable": false,
        "forceFitColumns": true,
        "fullWidthRows": true,
        "highlightSelectedCell": false,
        "highlightSelectedRow": true,
        "maxVisibleRows": 15,
        "minVisibleRows": 2,
        "rowHeight": 28,
        "sortable": false,
        "syncColumnCellResize": true
       },
       "id": "ee0c9b00-45d6-4898-867e-0b74e3e3042e",
       "layout": "IPY_MODEL_8eaa05679e0e4e389efa9352c23d0d79",
       "precision": 5,
       "show_toolbar": false
      }
     },
     "8d69d6057d3a46479e2c6456dc736e07": {
      "model_module": "@jupyter-widgets/controls",
      "model_module_version": "1.5.0",
      "model_name": "DescriptionStyleModel",
      "state": {
       "_model_module": "@jupyter-widgets/controls",
       "_model_module_version": "1.5.0",
       "_model_name": "DescriptionStyleModel",
       "_view_count": null,
       "_view_module": "@jupyter-widgets/base",
       "_view_module_version": "1.2.0",
       "_view_name": "StyleView",
       "description_width": ""
      }
     },
     "8eaa05679e0e4e389efa9352c23d0d79": {
      "model_module": "@jupyter-widgets/base",
      "model_module_version": "1.2.0",
      "model_name": "LayoutModel",
      "state": {
       "_model_module": "@jupyter-widgets/base",
       "_model_module_version": "1.2.0",
       "_model_name": "LayoutModel",
       "_view_count": null,
       "_view_module": "@jupyter-widgets/base",
       "_view_module_version": "1.2.0",
       "_view_name": "LayoutView",
       "align_content": null,
       "align_items": null,
       "align_self": null,
       "border": null,
       "bottom": null,
       "display": null,
       "flex": null,
       "flex_flow": null,
       "grid_area": null,
       "grid_auto_columns": null,
       "grid_auto_flow": null,
       "grid_auto_rows": null,
       "grid_column": null,
       "grid_gap": null,
       "grid_row": null,
       "grid_template_areas": null,
       "grid_template_columns": null,
       "grid_template_rows": null,
       "height": null,
       "justify_content": null,
       "justify_items": null,
       "left": null,
       "margin": null,
       "max_height": null,
       "max_width": null,
       "min_height": null,
       "min_width": null,
       "object_fit": null,
       "object_position": null,
       "order": null,
       "overflow": null,
       "overflow_x": null,
       "overflow_y": null,
       "padding": null,
       "right": null,
       "top": null,
       "visibility": null,
       "width": "30%"
      }
     },
     "93f99856b1fa4a4381f3315fc73809ca": {
      "model_module": "@jupyter-widgets/controls",
      "model_module_version": "1.5.0",
      "model_name": "ToggleButtonsStyleModel",
      "state": {
       "_model_module": "@jupyter-widgets/controls",
       "_model_module_version": "1.5.0",
       "_model_name": "ToggleButtonsStyleModel",
       "_view_count": null,
       "_view_module": "@jupyter-widgets/base",
       "_view_module_version": "1.2.0",
       "_view_name": "StyleView",
       "button_width": "",
       "description_width": "",
       "font_weight": ""
      }
     },
     "955a8459d40b4f6297a1df440b13dc2b": {
      "model_module": "@jupyter-widgets/base",
      "model_module_version": "1.2.0",
      "model_name": "LayoutModel",
      "state": {
       "_model_module": "@jupyter-widgets/base",
       "_model_module_version": "1.2.0",
       "_model_name": "LayoutModel",
       "_view_count": null,
       "_view_module": "@jupyter-widgets/base",
       "_view_module_version": "1.2.0",
       "_view_name": "LayoutView",
       "align_content": null,
       "align_items": null,
       "align_self": null,
       "border": null,
       "bottom": null,
       "display": null,
       "flex": null,
       "flex_flow": null,
       "grid_area": null,
       "grid_auto_columns": null,
       "grid_auto_flow": null,
       "grid_auto_rows": null,
       "grid_column": null,
       "grid_gap": null,
       "grid_row": null,
       "grid_template_areas": null,
       "grid_template_columns": null,
       "grid_template_rows": null,
       "height": null,
       "justify_content": null,
       "justify_items": null,
       "left": null,
       "margin": null,
       "max_height": null,
       "max_width": null,
       "min_height": null,
       "min_width": null,
       "object_fit": null,
       "object_position": null,
       "order": null,
       "overflow": null,
       "overflow_x": null,
       "overflow_y": null,
       "padding": null,
       "right": null,
       "top": null,
       "visibility": null,
       "width": null
      }
     },
     "9829f5de79294f30ab2b5dbd88cf2cf2": {
      "model_module": "@jupyter-widgets/controls",
      "model_module_version": "1.5.0",
      "model_name": "HTMLModel",
      "state": {
       "_dom_classes": [],
       "_model_module": "@jupyter-widgets/controls",
       "_model_module_version": "1.5.0",
       "_model_name": "HTMLModel",
       "_view_count": null,
       "_view_module": "@jupyter-widgets/controls",
       "_view_module_version": "1.5.0",
       "_view_name": "HTMLView",
       "description": "",
       "description_tooltip": null,
       "layout": "IPY_MODEL_b12ff8b73d2c43c89980608deffed5a4",
       "placeholder": "​",
       "style": "IPY_MODEL_a229f02933d0424f9ce7f28a4009f42e",
       "value": "0/? [00:00&lt;?, ?it/s]"
      }
     },
     "9ada73e4e77b41308b9aa9414e41768d": {
      "model_module": "@jupyter-widgets/base",
      "model_module_version": "1.2.0",
      "model_name": "LayoutModel",
      "state": {
       "_model_module": "@jupyter-widgets/base",
       "_model_module_version": "1.2.0",
       "_model_name": "LayoutModel",
       "_view_count": null,
       "_view_module": "@jupyter-widgets/base",
       "_view_module_version": "1.2.0",
       "_view_name": "LayoutView",
       "align_content": null,
       "align_items": null,
       "align_self": null,
       "border": null,
       "bottom": null,
       "display": null,
       "flex": null,
       "flex_flow": null,
       "grid_area": null,
       "grid_auto_columns": null,
       "grid_auto_flow": null,
       "grid_auto_rows": null,
       "grid_column": null,
       "grid_gap": null,
       "grid_row": null,
       "grid_template_areas": null,
       "grid_template_columns": null,
       "grid_template_rows": null,
       "height": null,
       "justify_content": null,
       "justify_items": null,
       "left": null,
       "margin": null,
       "max_height": null,
       "max_width": null,
       "min_height": null,
       "min_width": null,
       "object_fit": null,
       "object_position": null,
       "order": null,
       "overflow": null,
       "overflow_x": null,
       "overflow_y": null,
       "padding": null,
       "right": null,
       "top": null,
       "visibility": null,
       "width": null
      }
     },
     "9aeb3cb9e77f4eb89f6dff82f2acf273": {
      "buffers": [
       {
        "data": "mpmZmZmZqb/TJ33SJ32yPzqO4ziO48g/RURERERE1D9twRZswRbcP0qf9Emf9OE/3t3d3d3d5T9yHMdxHMfpPwZbsAVbsO0/zczMzMzM8D8=",
        "encoding": "base64",
        "path": [
         "_py2js_addTraces",
         "trace_data",
         0,
         "x",
         "buffer"
        ]
       },
       {
        "data": "mpmZmZmZ8T+amZmZmZnxP5qZmZmZmfE/mpmZmZmZ8T+amZmZmZnxP5qZmZmZmfE/mpmZmZmZ8T+amZmZmZnxP5qZmZmZmfE/mpmZmZmZ8T8=",
        "encoding": "base64",
        "path": [
         "_py2js_addTraces",
         "trace_data",
         0,
         "y",
         "buffer"
        ]
       },
       {
        "data": "AAAAAAAAAACamZmZmZm5P/uLXMDzOOo/ZPV33e4q7j+pCagI/B7xPw5CcMfYOfE/0CU55lWK8T+amZmZmZnxPw==",
        "encoding": "base64",
        "path": [
         "_py2js_update",
         "layout_data",
         "yaxis2.tickvals",
         "buffer"
        ]
       },
       {
        "data": "kAMGoeivHEDgASYcrYQdQDEARpdxWR5Agf5lEjYuH0Bp/sJGfQEgQJH9UoTfayBAufziwUHWIEDh+3L/o0AhQAn7Aj0GqyFAMfqSemgVIkA=",
        "encoding": "base64",
        "path": [
         "_py2js_addTraces",
         "trace_data",
         0,
         "marker",
         "colorbar",
         "tickvals",
         "buffer"
        ]
       }
      ],
      "model_module": "jupyterlab-plotly",
      "model_module_version": "^5.22.0",
      "model_name": "FigureModel",
      "state": {
       "_config": {
        "plotlyServerURL": "https://plot.ly"
       },
       "_data": [],
       "_dom_classes": [],
       "_js2py_layoutDelta": {},
       "_js2py_pointsCallback": {},
       "_js2py_relayout": {},
       "_js2py_restyle": {},
       "_js2py_traceDeltas": {},
       "_js2py_update": {},
       "_last_layout_edit_id": 72,
       "_last_trace_edit_id": 21,
       "_layout": {
        "template": {
         "data": {
          "bar": [
           {
            "error_x": {
             "color": "#2a3f5f"
            },
            "error_y": {
             "color": "#2a3f5f"
            },
            "marker": {
             "line": {
              "color": "#E5ECF6",
              "width": 0.5
             },
             "pattern": {
              "fillmode": "overlay",
              "size": 10,
              "solidity": 0.2
             }
            },
            "type": "bar"
           }
          ],
          "barpolar": [
           {
            "marker": {
             "line": {
              "color": "#E5ECF6",
              "width": 0.5
             },
             "pattern": {
              "fillmode": "overlay",
              "size": 10,
              "solidity": 0.2
             }
            },
            "type": "barpolar"
           }
          ],
          "carpet": [
           {
            "aaxis": {
             "endlinecolor": "#2a3f5f",
             "gridcolor": "white",
             "linecolor": "white",
             "minorgridcolor": "white",
             "startlinecolor": "#2a3f5f"
            },
            "baxis": {
             "endlinecolor": "#2a3f5f",
             "gridcolor": "white",
             "linecolor": "white",
             "minorgridcolor": "white",
             "startlinecolor": "#2a3f5f"
            },
            "type": "carpet"
           }
          ],
          "choropleth": [
           {
            "colorbar": {
             "outlinewidth": 0,
             "ticks": ""
            },
            "type": "choropleth"
           }
          ],
          "contour": [
           {
            "colorbar": {
             "outlinewidth": 0,
             "ticks": ""
            },
            "colorscale": [
             [
              0.0,
              "#0d0887"
             ],
             [
              0.1111111111111111,
              "#46039f"
             ],
             [
              0.2222222222222222,
              "#7201a8"
             ],
             [
              0.3333333333333333,
              "#9c179e"
             ],
             [
              0.4444444444444444,
              "#bd3786"
             ],
             [
              0.5555555555555556,
              "#d8576b"
             ],
             [
              0.6666666666666666,
              "#ed7953"
             ],
             [
              0.7777777777777778,
              "#fb9f3a"
             ],
             [
              0.8888888888888888,
              "#fdca26"
             ],
             [
              1.0,
              "#f0f921"
             ]
            ],
            "type": "contour"
           }
          ],
          "contourcarpet": [
           {
            "colorbar": {
             "outlinewidth": 0,
             "ticks": ""
            },
            "type": "contourcarpet"
           }
          ],
          "heatmap": [
           {
            "colorbar": {
             "outlinewidth": 0,
             "ticks": ""
            },
            "colorscale": [
             [
              0.0,
              "#0d0887"
             ],
             [
              0.1111111111111111,
              "#46039f"
             ],
             [
              0.2222222222222222,
              "#7201a8"
             ],
             [
              0.3333333333333333,
              "#9c179e"
             ],
             [
              0.4444444444444444,
              "#bd3786"
             ],
             [
              0.5555555555555556,
              "#d8576b"
             ],
             [
              0.6666666666666666,
              "#ed7953"
             ],
             [
              0.7777777777777778,
              "#fb9f3a"
             ],
             [
              0.8888888888888888,
              "#fdca26"
             ],
             [
              1.0,
              "#f0f921"
             ]
            ],
            "type": "heatmap"
           }
          ],
          "heatmapgl": [
           {
            "colorbar": {
             "outlinewidth": 0,
             "ticks": ""
            },
            "colorscale": [
             [
              0.0,
              "#0d0887"
             ],
             [
              0.1111111111111111,
              "#46039f"
             ],
             [
              0.2222222222222222,
              "#7201a8"
             ],
             [
              0.3333333333333333,
              "#9c179e"
             ],
             [
              0.4444444444444444,
              "#bd3786"
             ],
             [
              0.5555555555555556,
              "#d8576b"
             ],
             [
              0.6666666666666666,
              "#ed7953"
             ],
             [
              0.7777777777777778,
              "#fb9f3a"
             ],
             [
              0.8888888888888888,
              "#fdca26"
             ],
             [
              1.0,
              "#f0f921"
             ]
            ],
            "type": "heatmapgl"
           }
          ],
          "histogram": [
           {
            "marker": {
             "pattern": {
              "fillmode": "overlay",
              "size": 10,
              "solidity": 0.2
             }
            },
            "type": "histogram"
           }
          ],
          "histogram2d": [
           {
            "colorbar": {
             "outlinewidth": 0,
             "ticks": ""
            },
            "colorscale": [
             [
              0.0,
              "#0d0887"
             ],
             [
              0.1111111111111111,
              "#46039f"
             ],
             [
              0.2222222222222222,
              "#7201a8"
             ],
             [
              0.3333333333333333,
              "#9c179e"
             ],
             [
              0.4444444444444444,
              "#bd3786"
             ],
             [
              0.5555555555555556,
              "#d8576b"
             ],
             [
              0.6666666666666666,
              "#ed7953"
             ],
             [
              0.7777777777777778,
              "#fb9f3a"
             ],
             [
              0.8888888888888888,
              "#fdca26"
             ],
             [
              1.0,
              "#f0f921"
             ]
            ],
            "type": "histogram2d"
           }
          ],
          "histogram2dcontour": [
           {
            "colorbar": {
             "outlinewidth": 0,
             "ticks": ""
            },
            "colorscale": [
             [
              0.0,
              "#0d0887"
             ],
             [
              0.1111111111111111,
              "#46039f"
             ],
             [
              0.2222222222222222,
              "#7201a8"
             ],
             [
              0.3333333333333333,
              "#9c179e"
             ],
             [
              0.4444444444444444,
              "#bd3786"
             ],
             [
              0.5555555555555556,
              "#d8576b"
             ],
             [
              0.6666666666666666,
              "#ed7953"
             ],
             [
              0.7777777777777778,
              "#fb9f3a"
             ],
             [
              0.8888888888888888,
              "#fdca26"
             ],
             [
              1.0,
              "#f0f921"
             ]
            ],
            "type": "histogram2dcontour"
           }
          ],
          "mesh3d": [
           {
            "colorbar": {
             "outlinewidth": 0,
             "ticks": ""
            },
            "type": "mesh3d"
           }
          ],
          "parcoords": [
           {
            "line": {
             "colorbar": {
              "outlinewidth": 0,
              "ticks": ""
             }
            },
            "type": "parcoords"
           }
          ],
          "pie": [
           {
            "automargin": true,
            "type": "pie"
           }
          ],
          "scatter": [
           {
            "fillpattern": {
             "fillmode": "overlay",
             "size": 10,
             "solidity": 0.2
            },
            "type": "scatter"
           }
          ],
          "scatter3d": [
           {
            "line": {
             "colorbar": {
              "outlinewidth": 0,
              "ticks": ""
             }
            },
            "marker": {
             "colorbar": {
              "outlinewidth": 0,
              "ticks": ""
             }
            },
            "type": "scatter3d"
           }
          ],
          "scattercarpet": [
           {
            "marker": {
             "colorbar": {
              "outlinewidth": 0,
              "ticks": ""
             }
            },
            "type": "scattercarpet"
           }
          ],
          "scattergeo": [
           {
            "marker": {
             "colorbar": {
              "outlinewidth": 0,
              "ticks": ""
             }
            },
            "type": "scattergeo"
           }
          ],
          "scattergl": [
           {
            "marker": {
             "colorbar": {
              "outlinewidth": 0,
              "ticks": ""
             }
            },
            "type": "scattergl"
           }
          ],
          "scattermapbox": [
           {
            "marker": {
             "colorbar": {
              "outlinewidth": 0,
              "ticks": ""
             }
            },
            "type": "scattermapbox"
           }
          ],
          "scatterpolar": [
           {
            "marker": {
             "colorbar": {
              "outlinewidth": 0,
              "ticks": ""
             }
            },
            "type": "scatterpolar"
           }
          ],
          "scatterpolargl": [
           {
            "marker": {
             "colorbar": {
              "outlinewidth": 0,
              "ticks": ""
             }
            },
            "type": "scatterpolargl"
           }
          ],
          "scatterternary": [
           {
            "marker": {
             "colorbar": {
              "outlinewidth": 0,
              "ticks": ""
             }
            },
            "type": "scatterternary"
           }
          ],
          "surface": [
           {
            "colorbar": {
             "outlinewidth": 0,
             "ticks": ""
            },
            "colorscale": [
             [
              0.0,
              "#0d0887"
             ],
             [
              0.1111111111111111,
              "#46039f"
             ],
             [
              0.2222222222222222,
              "#7201a8"
             ],
             [
              0.3333333333333333,
              "#9c179e"
             ],
             [
              0.4444444444444444,
              "#bd3786"
             ],
             [
              0.5555555555555556,
              "#d8576b"
             ],
             [
              0.6666666666666666,
              "#ed7953"
             ],
             [
              0.7777777777777778,
              "#fb9f3a"
             ],
             [
              0.8888888888888888,
              "#fdca26"
             ],
             [
              1.0,
              "#f0f921"
             ]
            ],
            "type": "surface"
           }
          ],
          "table": [
           {
            "cells": {
             "fill": {
              "color": "#EBF0F8"
             },
             "line": {
              "color": "white"
             }
            },
            "header": {
             "fill": {
              "color": "#C8D4E3"
             },
             "line": {
              "color": "white"
             }
            },
            "type": "table"
           }
          ]
         },
         "layout": {
          "annotationdefaults": {
           "arrowcolor": "#2a3f5f",
           "arrowhead": 0,
           "arrowwidth": 1
          },
          "autotypenumbers": "strict",
          "coloraxis": {
           "colorbar": {
            "outlinewidth": 0,
            "ticks": ""
           }
          },
          "colorscale": {
           "diverging": [
            [
             0,
             "#8e0152"
            ],
            [
             0.1,
             "#c51b7d"
            ],
            [
             0.2,
             "#de77ae"
            ],
            [
             0.3,
             "#f1b6da"
            ],
            [
             0.4,
             "#fde0ef"
            ],
            [
             0.5,
             "#f7f7f7"
            ],
            [
             0.6,
             "#e6f5d0"
            ],
            [
             0.7,
             "#b8e186"
            ],
            [
             0.8,
             "#7fbc41"
            ],
            [
             0.9,
             "#4d9221"
            ],
            [
             1,
             "#276419"
            ]
           ],
           "sequential": [
            [
             0.0,
             "#0d0887"
            ],
            [
             0.1111111111111111,
             "#46039f"
            ],
            [
             0.2222222222222222,
             "#7201a8"
            ],
            [
             0.3333333333333333,
             "#9c179e"
            ],
            [
             0.4444444444444444,
             "#bd3786"
            ],
            [
             0.5555555555555556,
             "#d8576b"
            ],
            [
             0.6666666666666666,
             "#ed7953"
            ],
            [
             0.7777777777777778,
             "#fb9f3a"
            ],
            [
             0.8888888888888888,
             "#fdca26"
            ],
            [
             1.0,
             "#f0f921"
            ]
           ],
           "sequentialminus": [
            [
             0.0,
             "#0d0887"
            ],
            [
             0.1111111111111111,
             "#46039f"
            ],
            [
             0.2222222222222222,
             "#7201a8"
            ],
            [
             0.3333333333333333,
             "#9c179e"
            ],
            [
             0.4444444444444444,
             "#bd3786"
            ],
            [
             0.5555555555555556,
             "#d8576b"
            ],
            [
             0.6666666666666666,
             "#ed7953"
            ],
            [
             0.7777777777777778,
             "#fb9f3a"
            ],
            [
             0.8888888888888888,
             "#fdca26"
            ],
            [
             1.0,
             "#f0f921"
            ]
           ]
          },
          "colorway": [
           "#636efa",
           "#EF553B",
           "#00cc96",
           "#ab63fa",
           "#FFA15A",
           "#19d3f3",
           "#FF6692",
           "#B6E880",
           "#FF97FF",
           "#FECB52"
          ],
          "font": {
           "color": "#2a3f5f"
          },
          "geo": {
           "bgcolor": "white",
           "lakecolor": "white",
           "landcolor": "#E5ECF6",
           "showlakes": true,
           "showland": true,
           "subunitcolor": "white"
          },
          "hoverlabel": {
           "align": "left"
          },
          "hovermode": "closest",
          "mapbox": {
           "style": "light"
          },
          "paper_bgcolor": "white",
          "plot_bgcolor": "#E5ECF6",
          "polar": {
           "angularaxis": {
            "gridcolor": "white",
            "linecolor": "white",
            "ticks": ""
           },
           "bgcolor": "#E5ECF6",
           "radialaxis": {
            "gridcolor": "white",
            "linecolor": "white",
            "ticks": ""
           }
          },
          "scene": {
           "xaxis": {
            "backgroundcolor": "#E5ECF6",
            "gridcolor": "white",
            "gridwidth": 2,
            "linecolor": "white",
            "showbackground": true,
            "ticks": "",
            "zerolinecolor": "white"
           },
           "yaxis": {
            "backgroundcolor": "#E5ECF6",
            "gridcolor": "white",
            "gridwidth": 2,
            "linecolor": "white",
            "showbackground": true,
            "ticks": "",
            "zerolinecolor": "white"
           },
           "zaxis": {
            "backgroundcolor": "#E5ECF6",
            "gridcolor": "white",
            "gridwidth": 2,
            "linecolor": "white",
            "showbackground": true,
            "ticks": "",
            "zerolinecolor": "white"
           }
          },
          "shapedefaults": {
           "line": {
            "color": "#2a3f5f"
           }
          },
          "ternary": {
           "aaxis": {
            "gridcolor": "white",
            "linecolor": "white",
            "ticks": ""
           },
           "baxis": {
            "gridcolor": "white",
            "linecolor": "white",
            "ticks": ""
           },
           "bgcolor": "#E5ECF6",
           "caxis": {
            "gridcolor": "white",
            "linecolor": "white",
            "ticks": ""
           }
          },
          "title": {
           "x": 0.05
          },
          "xaxis": {
           "automargin": true,
           "gridcolor": "white",
           "linecolor": "white",
           "ticks": "",
           "title": {
            "standoff": 15
           },
           "zerolinecolor": "white",
           "zerolinewidth": 2
          },
          "yaxis": {
           "automargin": true,
           "gridcolor": "white",
           "linecolor": "white",
           "ticks": "",
           "title": {
            "standoff": 15
           },
           "zerolinecolor": "white",
           "zerolinewidth": 2
          }
         }
        },
        "xaxis": {
         "anchor": "y",
         "domain": [
          0.0,
          0.258
         ]
        },
        "xaxis2": {
         "anchor": "y2",
         "domain": [
          0.398,
          1.0
         ]
        },
        "yaxis": {
         "anchor": "x",
         "domain": [
          0.0,
          1.0
         ]
        },
        "yaxis2": {
         "anchor": "x2",
         "domain": [
          0.0,
          1.0
         ]
        }
       },
       "_model_module": "jupyterlab-plotly",
       "_model_module_version": "^5.22.0",
       "_model_name": "FigureModel",
       "_py2js_addTraces": null,
       "_py2js_animate": {},
       "_py2js_deleteTraces": {},
       "_py2js_moveTraces": {},
       "_py2js_relayout": null,
       "_py2js_removeLayoutProps": {},
       "_py2js_removeTraceProps": {},
       "_py2js_restyle": {},
       "_py2js_update": null,
       "_view_count": 0,
       "_view_module": "jupyterlab-plotly",
       "_view_module_version": "^5.22.0",
       "_view_name": "FigureView"
      }
     },
     "9ddac5d5025348968c2e234b7e371e52": {
      "model_module": "@jupyter-widgets/controls",
      "model_module_version": "1.5.0",
      "model_name": "BoxModel",
      "state": {
       "_dom_classes": [],
       "_model_module": "@jupyter-widgets/controls",
       "_model_module_version": "1.5.0",
       "_model_name": "BoxModel",
       "_view_count": null,
       "_view_module": "@jupyter-widgets/controls",
       "_view_module_version": "1.5.0",
       "_view_name": "BoxView",
       "box_style": "",
       "children": [
        "IPY_MODEL_b80b3e6ac9d64a78804dc16860f8fe3d",
        "IPY_MODEL_4f9d622134464f68a2b434668889f8a0"
       ],
       "layout": "IPY_MODEL_12357813c9ed41619e2fe915a0f901af"
      }
     },
     "9fadda7e729a410194bfb4cc850f5913": {
      "model_module": "@jupyter-widgets/base",
      "model_module_version": "1.2.0",
      "model_name": "LayoutModel",
      "state": {
       "_model_module": "@jupyter-widgets/base",
       "_model_module_version": "1.2.0",
       "_model_name": "LayoutModel",
       "_view_count": null,
       "_view_module": "@jupyter-widgets/base",
       "_view_module_version": "1.2.0",
       "_view_name": "LayoutView",
       "align_content": null,
       "align_items": null,
       "align_self": null,
       "border": null,
       "bottom": null,
       "display": null,
       "flex": null,
       "flex_flow": null,
       "grid_area": null,
       "grid_auto_columns": null,
       "grid_auto_flow": null,
       "grid_auto_rows": null,
       "grid_column": null,
       "grid_gap": null,
       "grid_row": null,
       "grid_template_areas": null,
       "grid_template_columns": null,
       "grid_template_rows": null,
       "height": null,
       "justify_content": null,
       "justify_items": null,
       "left": null,
       "margin": null,
       "max_height": null,
       "max_width": null,
       "min_height": null,
       "min_width": null,
       "object_fit": null,
       "object_position": null,
       "order": null,
       "overflow": null,
       "overflow_x": null,
       "overflow_y": null,
       "padding": null,
       "right": null,
       "top": null,
       "visibility": null,
       "width": null
      }
     },
     "a229f02933d0424f9ce7f28a4009f42e": {
      "model_module": "@jupyter-widgets/controls",
      "model_module_version": "1.5.0",
      "model_name": "DescriptionStyleModel",
      "state": {
       "_model_module": "@jupyter-widgets/controls",
       "_model_module_version": "1.5.0",
       "_model_name": "DescriptionStyleModel",
       "_view_count": null,
       "_view_module": "@jupyter-widgets/base",
       "_view_module_version": "1.2.0",
       "_view_name": "StyleView",
       "description_width": ""
      }
     },
     "a23e2afe3174491595734b4b27082e3b": {
      "model_module": "@jupyter-widgets/base",
      "model_module_version": "1.2.0",
      "model_name": "LayoutModel",
      "state": {
       "_model_module": "@jupyter-widgets/base",
       "_model_module_version": "1.2.0",
       "_model_name": "LayoutModel",
       "_view_count": null,
       "_view_module": "@jupyter-widgets/base",
       "_view_module_version": "1.2.0",
       "_view_name": "LayoutView",
       "align_content": null,
       "align_items": "flex-start",
       "align_self": null,
       "border": null,
       "bottom": null,
       "display": "flex",
       "flex": null,
       "flex_flow": null,
       "grid_area": null,
       "grid_auto_columns": null,
       "grid_auto_flow": null,
       "grid_auto_rows": null,
       "grid_column": null,
       "grid_gap": null,
       "grid_row": null,
       "grid_template_areas": null,
       "grid_template_columns": null,
       "grid_template_rows": null,
       "height": "420px",
       "justify_content": "center",
       "justify_items": null,
       "left": null,
       "margin": null,
       "max_height": null,
       "max_width": null,
       "min_height": null,
       "min_width": null,
       "object_fit": null,
       "object_position": null,
       "order": null,
       "overflow": null,
       "overflow_x": null,
       "overflow_y": null,
       "padding": null,
       "right": null,
       "top": null,
       "visibility": null,
       "width": null
      }
     },
     "a3975fdd6b2b4c5c83461ac161a70d94": {
      "model_module": "@jupyter-widgets/base",
      "model_module_version": "1.2.0",
      "model_name": "LayoutModel",
      "state": {
       "_model_module": "@jupyter-widgets/base",
       "_model_module_version": "1.2.0",
       "_model_name": "LayoutModel",
       "_view_count": null,
       "_view_module": "@jupyter-widgets/base",
       "_view_module_version": "1.2.0",
       "_view_name": "LayoutView",
       "align_content": null,
       "align_items": null,
       "align_self": null,
       "border": null,
       "bottom": null,
       "display": null,
       "flex": null,
       "flex_flow": null,
       "grid_area": null,
       "grid_auto_columns": null,
       "grid_auto_flow": null,
       "grid_auto_rows": null,
       "grid_column": null,
       "grid_gap": null,
       "grid_row": null,
       "grid_template_areas": null,
       "grid_template_columns": null,
       "grid_template_rows": null,
       "height": null,
       "justify_content": null,
       "justify_items": null,
       "left": null,
       "margin": null,
       "max_height": null,
       "max_width": null,
       "min_height": null,
       "min_width": null,
       "object_fit": null,
       "object_position": null,
       "order": null,
       "overflow": null,
       "overflow_x": null,
       "overflow_y": null,
       "padding": null,
       "right": null,
       "top": null,
       "visibility": null,
       "width": "18%"
      }
     },
     "a4c23296dcf74e079dd87b03f0a54408": {
      "model_module": "@jupyter-widgets/controls",
      "model_module_version": "1.5.0",
      "model_name": "HBoxModel",
      "state": {
       "_dom_classes": [],
       "_model_module": "@jupyter-widgets/controls",
       "_model_module_version": "1.5.0",
       "_model_name": "HBoxModel",
       "_view_count": null,
       "_view_module": "@jupyter-widgets/controls",
       "_view_module_version": "1.5.0",
       "_view_name": "HBoxView",
       "box_style": "",
       "children": [
        "IPY_MODEL_4fd9c03ef9ec426bb2f80a735bcc01fc",
        "IPY_MODEL_e5921ca11bb543f2badf736c13205865",
        "IPY_MODEL_cc2f97c3cf8c46a6b77a53919807b82a"
       ],
       "layout": "IPY_MODEL_b6d78fd49fe24b5ca131823dc5139691"
      }
     },
     "a750ab624a2e46a8a993ee533ea0b40e": {
      "model_module": "@jupyter-widgets/base",
      "model_module_version": "1.2.0",
      "model_name": "LayoutModel",
      "state": {
       "_model_module": "@jupyter-widgets/base",
       "_model_module_version": "1.2.0",
       "_model_name": "LayoutModel",
       "_view_count": null,
       "_view_module": "@jupyter-widgets/base",
       "_view_module_version": "1.2.0",
       "_view_name": "LayoutView",
       "align_content": null,
       "align_items": null,
       "align_self": null,
       "border": null,
       "bottom": null,
       "display": null,
       "flex": null,
       "flex_flow": null,
       "grid_area": null,
       "grid_auto_columns": null,
       "grid_auto_flow": null,
       "grid_auto_rows": null,
       "grid_column": null,
       "grid_gap": null,
       "grid_row": null,
       "grid_template_areas": null,
       "grid_template_columns": null,
       "grid_template_rows": null,
       "height": null,
       "justify_content": null,
       "justify_items": null,
       "left": null,
       "margin": null,
       "max_height": null,
       "max_width": null,
       "min_height": null,
       "min_width": null,
       "object_fit": null,
       "object_position": null,
       "order": null,
       "overflow": null,
       "overflow_x": null,
       "overflow_y": null,
       "padding": null,
       "right": null,
       "top": null,
       "visibility": null,
       "width": null
      }
     },
     "a8bbdb0e9a15400aaa41c8d566f8fe62": {
      "model_module": "@jupyter-widgets/base",
      "model_module_version": "1.2.0",
      "model_name": "LayoutModel",
      "state": {
       "_model_module": "@jupyter-widgets/base",
       "_model_module_version": "1.2.0",
       "_model_name": "LayoutModel",
       "_view_count": null,
       "_view_module": "@jupyter-widgets/base",
       "_view_module_version": "1.2.0",
       "_view_name": "LayoutView",
       "align_content": null,
       "align_items": null,
       "align_self": null,
       "border": null,
       "bottom": null,
       "display": null,
       "flex": null,
       "flex_flow": null,
       "grid_area": null,
       "grid_auto_columns": null,
       "grid_auto_flow": null,
       "grid_auto_rows": null,
       "grid_column": null,
       "grid_gap": null,
       "grid_row": null,
       "grid_template_areas": null,
       "grid_template_columns": null,
       "grid_template_rows": null,
       "height": null,
       "justify_content": null,
       "justify_items": null,
       "left": null,
       "margin": null,
       "max_height": null,
       "max_width": null,
       "min_height": null,
       "min_width": null,
       "object_fit": null,
       "object_position": null,
       "order": null,
       "overflow": null,
       "overflow_x": null,
       "overflow_y": null,
       "padding": null,
       "right": null,
       "top": null,
       "visibility": null,
       "width": null
      }
     },
     "a909b207917644eab73eb00ab7c7eef7": {
      "model_module": "@jupyter-widgets/base",
      "model_module_version": "1.2.0",
      "model_name": "LayoutModel",
      "state": {
       "_model_module": "@jupyter-widgets/base",
       "_model_module_version": "1.2.0",
       "_model_name": "LayoutModel",
       "_view_count": null,
       "_view_module": "@jupyter-widgets/base",
       "_view_module_version": "1.2.0",
       "_view_name": "LayoutView",
       "align_content": null,
       "align_items": null,
       "align_self": null,
       "border": null,
       "bottom": null,
       "display": null,
       "flex": null,
       "flex_flow": null,
       "grid_area": null,
       "grid_auto_columns": null,
       "grid_auto_flow": null,
       "grid_auto_rows": null,
       "grid_column": null,
       "grid_gap": null,
       "grid_row": null,
       "grid_template_areas": null,
       "grid_template_columns": null,
       "grid_template_rows": null,
       "height": null,
       "justify_content": null,
       "justify_items": null,
       "left": null,
       "margin": null,
       "max_height": null,
       "max_width": null,
       "min_height": null,
       "min_width": null,
       "object_fit": null,
       "object_position": null,
       "order": null,
       "overflow": null,
       "overflow_x": null,
       "overflow_y": null,
       "padding": null,
       "right": null,
       "top": null,
       "visibility": null,
       "width": null
      }
     },
     "ab1941af41e94720a702e2fde1432aee": {
      "model_module": "@jupyter-widgets/controls",
      "model_module_version": "1.5.0",
      "model_name": "HTMLModel",
      "state": {
       "_dom_classes": [],
       "_model_module": "@jupyter-widgets/controls",
       "_model_module_version": "1.5.0",
       "_model_name": "HTMLModel",
       "_view_count": null,
       "_view_module": "@jupyter-widgets/controls",
       "_view_module_version": "1.5.0",
       "_view_name": "HTMLView",
       "description": "",
       "description_tooltip": null,
       "layout": "IPY_MODEL_3a40f96b4a824162ab85c04e2813d36e",
       "placeholder": "​",
       "style": "IPY_MODEL_642427a98f1d4795ab67cbc435c28aef",
       "value": "Iterations:"
      }
     },
     "b12ff8b73d2c43c89980608deffed5a4": {
      "model_module": "@jupyter-widgets/base",
      "model_module_version": "1.2.0",
      "model_name": "LayoutModel",
      "state": {
       "_model_module": "@jupyter-widgets/base",
       "_model_module_version": "1.2.0",
       "_model_name": "LayoutModel",
       "_view_count": null,
       "_view_module": "@jupyter-widgets/base",
       "_view_module_version": "1.2.0",
       "_view_name": "LayoutView",
       "align_content": null,
       "align_items": null,
       "align_self": null,
       "border": null,
       "bottom": null,
       "display": null,
       "flex": null,
       "flex_flow": null,
       "grid_area": null,
       "grid_auto_columns": null,
       "grid_auto_flow": null,
       "grid_auto_rows": null,
       "grid_column": null,
       "grid_gap": null,
       "grid_row": null,
       "grid_template_areas": null,
       "grid_template_columns": null,
       "grid_template_rows": null,
       "height": null,
       "justify_content": null,
       "justify_items": null,
       "left": null,
       "margin": null,
       "max_height": null,
       "max_width": null,
       "min_height": null,
       "min_width": null,
       "object_fit": null,
       "object_position": null,
       "order": null,
       "overflow": null,
       "overflow_x": null,
       "overflow_y": null,
       "padding": null,
       "right": null,
       "top": null,
       "visibility": null,
       "width": null
      }
     },
     "b158fa1ce1974fe18b64e08347d7706f": {
      "model_module": "@jupyter-widgets/base",
      "model_module_version": "1.2.0",
      "model_name": "LayoutModel",
      "state": {
       "_model_module": "@jupyter-widgets/base",
       "_model_module_version": "1.2.0",
       "_model_name": "LayoutModel",
       "_view_count": null,
       "_view_module": "@jupyter-widgets/base",
       "_view_module_version": "1.2.0",
       "_view_name": "LayoutView",
       "align_content": null,
       "align_items": null,
       "align_self": null,
       "border": null,
       "bottom": null,
       "display": null,
       "flex": "0 0 auto",
       "flex_flow": null,
       "grid_area": null,
       "grid_auto_columns": null,
       "grid_auto_flow": null,
       "grid_auto_rows": null,
       "grid_column": null,
       "grid_gap": null,
       "grid_row": null,
       "grid_template_areas": null,
       "grid_template_columns": null,
       "grid_template_rows": null,
       "height": null,
       "justify_content": null,
       "justify_items": null,
       "left": null,
       "margin": "0px",
       "max_height": null,
       "max_width": null,
       "min_height": null,
       "min_width": null,
       "object_fit": null,
       "object_position": null,
       "order": null,
       "overflow": null,
       "overflow_x": null,
       "overflow_y": null,
       "padding": "0px 2px",
       "right": null,
       "top": null,
       "visibility": null,
       "width": "112.5px"
      }
     },
     "b337df768cdb4761a93c2c8e83774e8e": {
      "model_module": "@jupyter-widgets/base",
      "model_module_version": "1.2.0",
      "model_name": "LayoutModel",
      "state": {
       "_model_module": "@jupyter-widgets/base",
       "_model_module_version": "1.2.0",
       "_model_name": "LayoutModel",
       "_view_count": null,
       "_view_module": "@jupyter-widgets/base",
       "_view_module_version": "1.2.0",
       "_view_name": "LayoutView",
       "align_content": null,
       "align_items": null,
       "align_self": null,
       "border": null,
       "bottom": null,
       "display": null,
       "flex": null,
       "flex_flow": null,
       "grid_area": null,
       "grid_auto_columns": null,
       "grid_auto_flow": null,
       "grid_auto_rows": null,
       "grid_column": null,
       "grid_gap": null,
       "grid_row": null,
       "grid_template_areas": null,
       "grid_template_columns": null,
       "grid_template_rows": null,
       "height": null,
       "justify_content": null,
       "justify_items": null,
       "left": null,
       "margin": null,
       "max_height": null,
       "max_width": null,
       "min_height": null,
       "min_width": null,
       "object_fit": null,
       "object_position": null,
       "order": null,
       "overflow": null,
       "overflow_x": null,
       "overflow_y": null,
       "padding": null,
       "right": null,
       "top": null,
       "visibility": null,
       "width": "450px"
      }
     },
     "b6d78fd49fe24b5ca131823dc5139691": {
      "model_module": "@jupyter-widgets/base",
      "model_module_version": "1.2.0",
      "model_name": "LayoutModel",
      "state": {
       "_model_module": "@jupyter-widgets/base",
       "_model_module_version": "1.2.0",
       "_model_name": "LayoutModel",
       "_view_count": null,
       "_view_module": "@jupyter-widgets/base",
       "_view_module_version": "1.2.0",
       "_view_name": "LayoutView",
       "align_content": null,
       "align_items": null,
       "align_self": null,
       "border": null,
       "bottom": null,
       "display": null,
       "flex": null,
       "flex_flow": null,
       "grid_area": null,
       "grid_auto_columns": null,
       "grid_auto_flow": null,
       "grid_auto_rows": null,
       "grid_column": null,
       "grid_gap": null,
       "grid_row": null,
       "grid_template_areas": null,
       "grid_template_columns": null,
       "grid_template_rows": null,
       "height": null,
       "justify_content": null,
       "justify_items": null,
       "left": null,
       "margin": null,
       "max_height": null,
       "max_width": null,
       "min_height": null,
       "min_width": null,
       "object_fit": null,
       "object_position": null,
       "order": null,
       "overflow": null,
       "overflow_x": null,
       "overflow_y": null,
       "padding": null,
       "right": null,
       "top": null,
       "visibility": null,
       "width": null
      }
     },
     "b80b3e6ac9d64a78804dc16860f8fe3d": {
      "model_module": "@jupyter-widgets/controls",
      "model_module_version": "1.5.0",
      "model_name": "HTMLModel",
      "state": {
       "_dom_classes": [],
       "_model_module": "@jupyter-widgets/controls",
       "_model_module_version": "1.5.0",
       "_model_name": "HTMLModel",
       "_view_count": null,
       "_view_module": "@jupyter-widgets/controls",
       "_view_module_version": "1.5.0",
       "_view_name": "HTMLView",
       "description": "",
       "description_tooltip": null,
       "layout": "IPY_MODEL_6f3de335ba064dfe8bc7ee89326464ec",
       "placeholder": "​",
       "style": "IPY_MODEL_30f78c62246b438ea8c521eaa5e8787b",
       "value": "<div style='text-align:right;'> <b>Total Packets:<b> </div>"
      }
     },
     "bd7947eea0f14587800e0b253381664f": {
      "model_module": "@jupyter-widgets/controls",
      "model_module_version": "1.5.0",
      "model_name": "DescriptionStyleModel",
      "state": {
       "_model_module": "@jupyter-widgets/controls",
       "_model_module_version": "1.5.0",
       "_model_name": "DescriptionStyleModel",
       "_view_count": null,
       "_view_module": "@jupyter-widgets/base",
       "_view_module_version": "1.2.0",
       "_view_name": "StyleView",
       "description_width": ""
      }
     },
     "c374b3f5e5654f20858302a01951b249": {
      "model_module": "@jupyter-widgets/controls",
      "model_module_version": "1.5.0",
      "model_name": "DescriptionStyleModel",
      "state": {
       "_model_module": "@jupyter-widgets/controls",
       "_model_module_version": "1.5.0",
       "_model_name": "DescriptionStyleModel",
       "_view_count": null,
       "_view_module": "@jupyter-widgets/base",
       "_view_module_version": "1.2.0",
       "_view_name": "StyleView",
       "description_width": ""
      }
     },
     "c8359131b6ba4ad7a417abfec63f6cfa": {
      "model_module": "@jupyter-widgets/controls",
      "model_module_version": "1.5.0",
      "model_name": "HTMLModel",
      "state": {
       "_dom_classes": [],
       "_model_module": "@jupyter-widgets/controls",
       "_model_module_version": "1.5.0",
       "_model_name": "HTMLModel",
       "_view_count": null,
       "_view_module": "@jupyter-widgets/controls",
       "_view_module_version": "1.5.0",
       "_view_name": "HTMLView",
       "description": "",
       "description_tooltip": null,
       "layout": "IPY_MODEL_a750ab624a2e46a8a993ee533ea0b40e",
       "placeholder": "​",
       "style": "IPY_MODEL_1ee374e3bc0043e3b8895de540f495cb",
       "value": "0/? [00:00&lt;?, ?it/s]"
      }
     },
     "cadf762a498c43da977267d4cf534177": {
      "model_module": "@jupyter-widgets/controls",
      "model_module_version": "1.5.0",
      "model_name": "HBoxModel",
      "state": {
       "_dom_classes": [],
       "_model_module": "@jupyter-widgets/controls",
       "_model_module_version": "1.5.0",
       "_model_name": "HBoxModel",
       "_view_count": null,
       "_view_module": "@jupyter-widgets/controls",
       "_view_module_version": "1.5.0",
       "_view_name": "HBoxView",
       "box_style": "",
       "children": [
        "IPY_MODEL_ab1941af41e94720a702e2fde1432aee",
        "IPY_MODEL_cc0c712802fc4e3f80a63c9548659a53",
        "IPY_MODEL_cc7d9444b2d646268f3efb077ecd936e"
       ],
       "layout": "IPY_MODEL_e9ede9d4edbd47f4807da83756a62bb6"
      }
     },
     "cb6ba0976c5e4aa0ab412b71bab9a82c": {
      "model_module": "@jupyter-widgets/base",
      "model_module_version": "1.2.0",
      "model_name": "LayoutModel",
      "state": {
       "_model_module": "@jupyter-widgets/base",
       "_model_module_version": "1.2.0",
       "_model_name": "LayoutModel",
       "_view_count": null,
       "_view_module": "@jupyter-widgets/base",
       "_view_module_version": "1.2.0",
       "_view_name": "LayoutView",
       "align_content": null,
       "align_items": null,
       "align_self": null,
       "border": null,
       "bottom": null,
       "display": null,
       "flex": null,
       "flex_flow": null,
       "grid_area": null,
       "grid_auto_columns": null,
       "grid_auto_flow": null,
       "grid_auto_rows": null,
       "grid_column": null,
       "grid_gap": null,
       "grid_row": null,
       "grid_template_areas": null,
       "grid_template_columns": null,
       "grid_template_rows": null,
       "height": null,
       "justify_content": null,
       "justify_items": null,
       "left": null,
       "margin": null,
       "max_height": null,
       "max_width": null,
       "min_height": null,
       "min_width": null,
       "object_fit": null,
       "object_position": null,
       "order": null,
       "overflow": null,
       "overflow_x": null,
       "overflow_y": null,
       "padding": null,
       "right": null,
       "top": null,
       "visibility": null,
       "width": null
      }
     },
     "cc0c712802fc4e3f80a63c9548659a53": {
      "model_module": "@jupyter-widgets/controls",
      "model_module_version": "1.5.0",
      "model_name": "FloatProgressModel",
      "state": {
       "_dom_classes": [],
       "_model_module": "@jupyter-widgets/controls",
       "_model_module_version": "1.5.0",
       "_model_name": "FloatProgressModel",
       "_view_count": null,
       "_view_module": "@jupyter-widgets/controls",
       "_view_module_version": "1.5.0",
       "_view_name": "ProgressView",
       "bar_style": "",
       "description": "",
       "description_tooltip": null,
       "layout": "IPY_MODEL_204a11e5b4cb4f2c88c8e8f70ff3c0c7",
       "max": 20.0,
       "min": 0.0,
       "orientation": "horizontal",
       "style": "IPY_MODEL_d6b2779ab86c42aeb2d199529faa2bad",
       "value": 20.0
      }
     },
     "cc2f97c3cf8c46a6b77a53919807b82a": {
      "model_module": "@jupyter-widgets/controls",
      "model_module_version": "1.5.0",
      "model_name": "HTMLModel",
      "state": {
       "_dom_classes": [],
       "_model_module": "@jupyter-widgets/controls",
       "_model_module_version": "1.5.0",
       "_model_name": "HTMLModel",
       "_view_count": null,
       "_view_module": "@jupyter-widgets/controls",
       "_view_module_version": "1.5.0",
       "_view_name": "HTMLView",
       "description": "",
       "description_tooltip": null,
       "layout": "IPY_MODEL_8984b73f84954a66936a8e820e6944ca",
       "placeholder": "​",
       "style": "IPY_MODEL_8d69d6057d3a46479e2c6456dc736e07",
       "value": "100000/100000 [00:05&lt;00:00, 20531.63it/s]"
      }
     },
     "cc7d9444b2d646268f3efb077ecd936e": {
      "model_module": "@jupyter-widgets/controls",
      "model_module_version": "1.5.0",
      "model_name": "HTMLModel",
      "state": {
       "_dom_classes": [],
       "_model_module": "@jupyter-widgets/controls",
       "_model_module_version": "1.5.0",
       "_model_name": "HTMLModel",
       "_view_count": null,
       "_view_module": "@jupyter-widgets/controls",
       "_view_module_version": "1.5.0",
       "_view_name": "HTMLView",
       "description": "",
       "description_tooltip": null,
       "layout": "IPY_MODEL_6f2b65b10cb7409e90cf3e17b3be3260",
       "placeholder": "​",
       "style": "IPY_MODEL_bd7947eea0f14587800e0b253381664f",
       "value": "20/20 [00:14&lt;00:00,  1.94s/it]"
      }
     },
     "cf5a302ae2a74d8d8fc8b352276e01d4": {
      "model_module": "@jupyter-widgets/controls",
      "model_module_version": "1.5.0",
      "model_name": "DescriptionStyleModel",
      "state": {
       "_model_module": "@jupyter-widgets/controls",
       "_model_module_version": "1.5.0",
       "_model_name": "DescriptionStyleModel",
       "_view_count": null,
       "_view_module": "@jupyter-widgets/base",
       "_view_module_version": "1.2.0",
       "_view_name": "StyleView",
       "description_width": ""
      }
     },
     "d15d1b461d4049d8a27a4379bab95646": {
      "model_module": "@jupyter-widgets/controls",
      "model_module_version": "1.5.0",
      "model_name": "HBoxModel",
      "state": {
       "_dom_classes": [],
       "_model_module": "@jupyter-widgets/controls",
       "_model_module_version": "1.5.0",
       "_model_name": "HBoxModel",
       "_view_count": null,
       "_view_module": "@jupyter-widgets/controls",
       "_view_module_version": "1.5.0",
       "_view_name": "HBoxView",
       "box_style": "",
       "children": [
        "IPY_MODEL_d1ccb9f503d94bb7907ad8deae5ee123",
        "IPY_MODEL_f479518a66964d2586cdf7427c9a7388",
        "IPY_MODEL_c8359131b6ba4ad7a417abfec63f6cfa"
       ],
       "layout": "IPY_MODEL_5f681f2eca8747e4bb011703c9862e13"
      }
     },
     "d1ccb9f503d94bb7907ad8deae5ee123": {
      "model_module": "@jupyter-widgets/controls",
      "model_module_version": "1.5.0",
      "model_name": "HTMLModel",
      "state": {
       "_dom_classes": [],
       "_model_module": "@jupyter-widgets/controls",
       "_model_module_version": "1.5.0",
       "_model_name": "HTMLModel",
       "_view_count": null,
       "_view_module": "@jupyter-widgets/controls",
       "_view_module_version": "1.5.0",
       "_view_name": "HTMLView",
       "description": "",
       "description_tooltip": null,
       "layout": "IPY_MODEL_d4901300d05b4ddfb542809a02fc494d",
       "placeholder": "​",
       "style": "IPY_MODEL_4c57b3b8fae14a3a98f8c8f459323e0f",
       "value": "Packets:   "
      }
     },
     "d4901300d05b4ddfb542809a02fc494d": {
      "model_module": "@jupyter-widgets/base",
      "model_module_version": "1.2.0",
      "model_name": "LayoutModel",
      "state": {
       "_model_module": "@jupyter-widgets/base",
       "_model_module_version": "1.2.0",
       "_model_name": "LayoutModel",
       "_view_count": null,
       "_view_module": "@jupyter-widgets/base",
       "_view_module_version": "1.2.0",
       "_view_name": "LayoutView",
       "align_content": null,
       "align_items": null,
       "align_self": null,
       "border": null,
       "bottom": null,
       "display": null,
       "flex": null,
       "flex_flow": null,
       "grid_area": null,
       "grid_auto_columns": null,
       "grid_auto_flow": null,
       "grid_auto_rows": null,
       "grid_column": null,
       "grid_gap": null,
       "grid_row": null,
       "grid_template_areas": null,
       "grid_template_columns": null,
       "grid_template_rows": null,
       "height": null,
       "justify_content": null,
       "justify_items": null,
       "left": null,
       "margin": null,
       "max_height": null,
       "max_width": null,
       "min_height": null,
       "min_width": null,
       "object_fit": null,
       "object_position": null,
       "order": null,
       "overflow": null,
       "overflow_x": null,
       "overflow_y": null,
       "padding": null,
       "right": null,
       "top": null,
       "visibility": null,
       "width": null
      }
     },
     "d6b2779ab86c42aeb2d199529faa2bad": {
      "model_module": "@jupyter-widgets/controls",
      "model_module_version": "1.5.0",
      "model_name": "ProgressStyleModel",
      "state": {
       "_model_module": "@jupyter-widgets/controls",
       "_model_module_version": "1.5.0",
       "_model_name": "ProgressStyleModel",
       "_view_count": null,
       "_view_module": "@jupyter-widgets/base",
       "_view_module_version": "1.2.0",
       "_view_name": "StyleView",
       "bar_color": null,
       "description_width": ""
      }
     },
     "d892babbaf8c4b7780c851cb461744cd": {
      "model_module": "@jupyter-widgets/base",
      "model_module_version": "1.2.0",
      "model_name": "LayoutModel",
      "state": {
       "_model_module": "@jupyter-widgets/base",
       "_model_module_version": "1.2.0",
       "_model_name": "LayoutModel",
       "_view_count": null,
       "_view_module": "@jupyter-widgets/base",
       "_view_module_version": "1.2.0",
       "_view_name": "LayoutView",
       "align_content": null,
       "align_items": null,
       "align_self": null,
       "border": null,
       "bottom": null,
       "display": null,
       "flex": null,
       "flex_flow": null,
       "grid_area": null,
       "grid_auto_columns": null,
       "grid_auto_flow": null,
       "grid_auto_rows": null,
       "grid_column": null,
       "grid_gap": null,
       "grid_row": null,
       "grid_template_areas": null,
       "grid_template_columns": null,
       "grid_template_rows": null,
       "height": null,
       "justify_content": null,
       "justify_items": null,
       "left": null,
       "margin": "0px 15px",
       "max_height": null,
       "max_width": null,
       "min_height": null,
       "min_width": null,
       "object_fit": null,
       "object_position": null,
       "order": null,
       "overflow": null,
       "overflow_x": null,
       "overflow_y": null,
       "padding": null,
       "right": null,
       "top": null,
       "visibility": null,
       "width": null
      }
     },
     "d99605671f90479fbc56d777f32f22dd": {
      "model_module": "@jupyter-widgets/controls",
      "model_module_version": "1.5.0",
      "model_name": "DescriptionStyleModel",
      "state": {
       "_model_module": "@jupyter-widgets/controls",
       "_model_module_version": "1.5.0",
       "_model_name": "DescriptionStyleModel",
       "_view_count": null,
       "_view_module": "@jupyter-widgets/base",
       "_view_module_version": "1.2.0",
       "_view_name": "StyleView",
       "description_width": ""
      }
     },
     "ddbac2f23dd14f8fb18977255397eee6": {
      "model_module": "@jupyter-widgets/output",
      "model_module_version": "1.0.0",
      "model_name": "OutputModel",
      "state": {
       "_dom_classes": [],
       "_model_module": "@jupyter-widgets/output",
       "_model_module_version": "1.0.0",
       "_model_name": "OutputModel",
       "_view_count": null,
       "_view_module": "@jupyter-widgets/output",
       "_view_module_version": "1.0.0",
       "_view_name": "OutputView",
       "layout": "IPY_MODEL_59ae52bc080642798bc5d33f613aedbf",
       "msg_id": "",
       "outputs": []
      }
     },
     "e428463f93684e98b6d94e4a2bda597e": {
      "model_module": "@jupyter-widgets/base",
      "model_module_version": "1.2.0",
      "model_name": "LayoutModel",
      "state": {
       "_model_module": "@jupyter-widgets/base",
       "_model_module_version": "1.2.0",
       "_model_name": "LayoutModel",
       "_view_count": null,
       "_view_module": "@jupyter-widgets/base",
       "_view_module_version": "1.2.0",
       "_view_name": "LayoutView",
       "align_content": null,
       "align_items": null,
       "align_self": null,
       "border": null,
       "bottom": null,
       "display": null,
       "flex": null,
       "flex_flow": null,
       "grid_area": null,
       "grid_auto_columns": null,
       "grid_auto_flow": null,
       "grid_auto_rows": null,
       "grid_column": null,
       "grid_gap": null,
       "grid_row": null,
       "grid_template_areas": null,
       "grid_template_columns": null,
       "grid_template_rows": null,
       "height": null,
       "justify_content": null,
       "justify_items": null,
       "left": null,
       "margin": null,
       "max_height": null,
       "max_width": null,
       "min_height": null,
       "min_width": null,
       "object_fit": null,
       "object_position": null,
       "order": null,
       "overflow": null,
       "overflow_x": null,
       "overflow_y": null,
       "padding": null,
       "right": null,
       "top": null,
       "visibility": null,
       "width": "24%"
      }
     },
     "e51a4d1fc21249ec96b7e65fcb759896": {
      "model_module": "qgrid",
      "model_module_version": "^1.1.3",
      "model_name": "QgridModel",
      "state": {
       "_columns": {
        "Fraction of packets interacting": {
         "cssClass": "string",
         "defaultSortAsc": true,
         "editable": true,
         "field": "Fraction of packets interacting",
         "id": "Fraction of packets interacting",
         "maxWidth": null,
         "minWidth": null,
         "name": "Fraction of packets interacting",
         "position": 2,
         "resizable": true,
         "sortable": true,
         "toolTip": "",
         "type": "string",
         "width": 65
        },
        "Species": {
         "cssClass": "string",
         "defaultSortAsc": true,
         "editable": true,
         "field": "Species",
         "first_index": true,
         "id": "Species",
         "index_display_text": "Species",
         "is_index": true,
         "level": 0,
         "maxWidth": null,
         "minWidth": null,
         "name": "Species",
         "position": 0,
         "resizable": true,
         "sortable": true,
         "toolTip": "",
         "type": "string",
         "width": 35
        },
        "qgrid_unfiltered_index": {
         "cssClass": "integer",
         "defaultSortAsc": true,
         "editable": true,
         "field": "qgrid_unfiltered_index",
         "id": "qgrid_unfiltered_index",
         "maxWidth": null,
         "minWidth": null,
         "name": "qgrid_unfiltered_index",
         "position": 1,
         "resizable": true,
         "sortable": true,
         "toolTip": "",
         "type": "integer",
         "width": null
        }
       },
       "_df_json": "{\"schema\":{\"fields\":[{\"name\":\"Species\",\"type\":\"string\"},{\"name\":\"qgrid_unfiltered_index\",\"type\":\"integer\"},{\"name\":\"Fraction of packets interacting\",\"type\":\"string\"}],\"primaryKey\":[\"Species\"],\"pandas_version\":\"1.4.0\"},\"data\":[{\"Species\":\"\",\"qgrid_unfiltered_index\":0,\"Fraction of packets interacting\":\"\"}]}",
       "_df_range": [
        0,
        100
       ],
       "_dom_classes": [],
       "_editable_rows": {},
       "_index_col_name": "qgrid_unfiltered_index",
       "_interval_columns": [],
       "_model_module": "qgrid",
       "_model_module_version": "^1.1.3",
       "_model_name": "QgridModel",
       "_multi_index": false,
       "_row_count": 1,
       "_row_styles": {},
       "_sort_ascending": true,
       "_sort_field": null,
       "_view_count": null,
       "_view_module": "qgrid",
       "_view_module_version": "^1.1.3",
       "_view_name": "QgridView",
       "_viewport_range": [
        0,
        100
       ],
       "grid_options": {
        "autoEdit": false,
        "boldIndex": true,
        "defaultColumnWidth": 150,
        "editable": false,
        "enableColumnReorder": false,
        "enableTextSelectionOnCells": true,
        "explicitInitialization": true,
        "filterable": false,
        "forceFitColumns": true,
        "fullWidthRows": true,
        "highlightSelectedCell": false,
        "highlightSelectedRow": true,
        "maxVisibleRows": 9,
        "minVisibleRows": 2,
        "rowHeight": 28,
        "sortable": false,
        "syncColumnCellResize": true
       },
       "id": "a5769426-d24e-474d-b201-388c45a2e2e1",
       "layout": "IPY_MODEL_3eaa9ce1eb634be49ea36b26f78a2f72",
       "precision": 5,
       "show_toolbar": false
      }
     },
     "e5921ca11bb543f2badf736c13205865": {
      "model_module": "@jupyter-widgets/controls",
      "model_module_version": "1.5.0",
      "model_name": "FloatProgressModel",
      "state": {
       "_dom_classes": [],
       "_model_module": "@jupyter-widgets/controls",
       "_model_module_version": "1.5.0",
       "_model_name": "FloatProgressModel",
       "_view_count": null,
       "_view_module": "@jupyter-widgets/controls",
       "_view_module_version": "1.5.0",
       "_view_name": "ProgressView",
       "bar_style": "",
       "description": "",
       "description_tooltip": null,
       "layout": "IPY_MODEL_2ffdb23cde594e46ac5eaff5a9048448",
       "max": 100000.0,
       "min": 0.0,
       "orientation": "horizontal",
       "style": "IPY_MODEL_6f0abbe4abc04d1c8200c9b81f62ab99",
       "value": 100000.0
      }
     },
     "e837d7c19aa1428aa4cf8d02e1c09fdf": {
      "model_module": "@jupyter-widgets/controls",
      "model_module_version": "1.5.0",
      "model_name": "ProgressStyleModel",
      "state": {
       "_model_module": "@jupyter-widgets/controls",
       "_model_module_version": "1.5.0",
       "_model_name": "ProgressStyleModel",
       "_view_count": null,
       "_view_module": "@jupyter-widgets/base",
       "_view_module_version": "1.2.0",
       "_view_name": "StyleView",
       "bar_color": null,
       "description_width": ""
      }
     },
     "e8da66b2f0134aaeaacbe300a281d9b8": {
      "model_module": "@jupyter-widgets/controls",
      "model_module_version": "1.5.0",
      "model_name": "ToggleButtonsModel",
      "state": {
       "_dom_classes": [],
       "_model_module": "@jupyter-widgets/controls",
       "_model_module_version": "1.5.0",
       "_model_name": "ToggleButtonsModel",
       "_options_labels": [
        "Linear",
        "Log"
       ],
       "_view_count": null,
       "_view_module": "@jupyter-widgets/controls",
       "_view_module_version": "1.5.0",
       "_view_name": "ToggleButtonsView",
       "button_style": "",
       "description": "Y-Scale",
       "description_tooltip": null,
       "disabled": false,
       "icons": [],
       "index": 1,
       "layout": "IPY_MODEL_135240b02cef48069d90492e75037560",
       "style": "IPY_MODEL_2558fddd2ea746d6aa4353835aa78ae6",
       "tooltips": []
      }
     },
     "e9ede9d4edbd47f4807da83756a62bb6": {
      "model_module": "@jupyter-widgets/base",
      "model_module_version": "1.2.0",
      "model_name": "LayoutModel",
      "state": {
       "_model_module": "@jupyter-widgets/base",
       "_model_module_version": "1.2.0",
       "_model_name": "LayoutModel",
       "_view_count": null,
       "_view_module": "@jupyter-widgets/base",
       "_view_module_version": "1.2.0",
       "_view_name": "LayoutView",
       "align_content": null,
       "align_items": null,
       "align_self": null,
       "border": null,
       "bottom": null,
       "display": null,
       "flex": null,
       "flex_flow": null,
       "grid_area": null,
       "grid_auto_columns": null,
       "grid_auto_flow": null,
       "grid_auto_rows": null,
       "grid_column": null,
       "grid_gap": null,
       "grid_row": null,
       "grid_template_areas": null,
       "grid_template_columns": null,
       "grid_template_rows": null,
       "height": null,
       "justify_content": null,
       "justify_items": null,
       "left": null,
       "margin": null,
       "max_height": null,
       "max_width": null,
       "min_height": null,
       "min_width": null,
       "object_fit": null,
       "object_position": null,
       "order": null,
       "overflow": null,
       "overflow_x": null,
       "overflow_y": null,
       "padding": null,
       "right": null,
       "top": null,
       "visibility": null,
       "width": null
      }
     },
     "ecb0aee4cd9d46bcab714fd347b8b361": {
      "model_module": "qgrid",
      "model_module_version": "^1.1.3",
      "model_name": "QgridModel",
      "state": {
       "_columns": {
        "Element": {
         "cssClass": "string",
         "defaultSortAsc": true,
         "editable": true,
         "field": "Element",
         "id": "Element",
         "maxWidth": null,
         "minWidth": null,
         "name": "Element",
         "position": 2,
         "resizable": true,
         "sortable": true,
         "toolTip": "",
         "type": "string",
         "width": 30
        },
        "Frac. Ab. (Shell 1)": {
         "cssClass": "string",
         "defaultSortAsc": true,
         "editable": true,
         "field": "Frac. Ab. (Shell 1)",
         "id": "Frac. Ab. (Shell 1)",
         "maxWidth": null,
         "minWidth": null,
         "name": "Frac. Ab. (Shell 1)",
         "position": 3,
         "resizable": true,
         "sortable": true,
         "toolTip": "",
         "type": "string",
         "width": 55
        },
        "Z": {
         "cssClass": "integer",
         "defaultSortAsc": true,
         "editable": true,
         "field": "Z",
         "first_index": true,
         "id": "Z",
         "index_display_text": "Z",
         "is_index": true,
         "level": 0,
         "maxWidth": null,
         "minWidth": null,
         "name": "Z",
         "position": 0,
         "resizable": true,
         "sortable": true,
         "toolTip": "",
         "type": "integer",
         "width": 15
        },
        "qgrid_unfiltered_index": {
         "cssClass": "integer",
         "defaultSortAsc": true,
         "editable": true,
         "field": "qgrid_unfiltered_index",
         "id": "qgrid_unfiltered_index",
         "maxWidth": null,
         "minWidth": null,
         "name": "qgrid_unfiltered_index",
         "position": 1,
         "resizable": true,
         "sortable": true,
         "toolTip": "",
         "type": "integer",
         "width": null
        }
       },
       "_df_json": "{\"schema\":{\"fields\":[{\"name\":\"Z\",\"type\":\"integer\"},{\"name\":\"qgrid_unfiltered_index\",\"type\":\"integer\"},{\"name\":\"Element\",\"type\":\"string\"},{\"name\":\"Frac. Ab. (Shell 1)\",\"type\":\"string\"}],\"primaryKey\":[\"Z\"],\"pandas_version\":\"1.4.0\"},\"data\":[{\"Z\":8,\"qgrid_unfiltered_index\":0,\"Element\":\"O\",\"Frac. Ab. (Shell 1)\":\"1.900000e-01\"},{\"Z\":12,\"qgrid_unfiltered_index\":1,\"Element\":\"Mg\",\"Frac. Ab. (Shell 1)\":\"3.000000e-02\"},{\"Z\":14,\"qgrid_unfiltered_index\":2,\"Element\":\"Si\",\"Frac. Ab. (Shell 1)\":\"5.200000e-01\"},{\"Z\":16,\"qgrid_unfiltered_index\":3,\"Element\":\"S\",\"Frac. Ab. (Shell 1)\":\"1.900000e-01\"},{\"Z\":18,\"qgrid_unfiltered_index\":4,\"Element\":\"Ar\",\"Frac. Ab. (Shell 1)\":\"4.000000e-02\"},{\"Z\":20,\"qgrid_unfiltered_index\":5,\"Element\":\"Ca\",\"Frac. Ab. (Shell 1)\":\"3.000000e-02\"}]}",
       "_df_range": [
        0,
        100
       ],
       "_dom_classes": [],
       "_editable_rows": {},
       "_index_col_name": "qgrid_unfiltered_index",
       "_interval_columns": [],
       "_model_module": "qgrid",
       "_model_module_version": "^1.1.3",
       "_model_name": "QgridModel",
       "_multi_index": false,
       "_row_count": 6,
       "_row_styles": {},
       "_sort_ascending": true,
       "_sort_field": null,
       "_view_count": null,
       "_view_module": "qgrid",
       "_view_module_version": "^1.1.3",
       "_view_name": "QgridView",
       "_viewport_range": [
        0,
        100
       ],
       "grid_options": {
        "autoEdit": false,
        "boldIndex": true,
        "defaultColumnWidth": 150,
        "editable": false,
        "enableColumnReorder": false,
        "enableTextSelectionOnCells": true,
        "explicitInitialization": true,
        "filterable": false,
        "forceFitColumns": true,
        "fullWidthRows": true,
        "highlightSelectedCell": false,
        "highlightSelectedRow": true,
        "maxVisibleRows": 15,
        "minVisibleRows": 2,
        "rowHeight": 28,
        "sortable": false,
        "syncColumnCellResize": true
       },
       "id": "3938dc4d-2d2c-4c6b-b4b5-8bf3d6442b00",
       "layout": "IPY_MODEL_e428463f93684e98b6d94e4a2bda597e",
       "precision": 5,
       "show_toolbar": false
      }
     },
     "f055563d722d46189c4da8e1b18d0515": {
      "model_module": "@jupyter-widgets/controls",
      "model_module_version": "1.5.0",
      "model_name": "DescriptionStyleModel",
      "state": {
       "_model_module": "@jupyter-widgets/controls",
       "_model_module_version": "1.5.0",
       "_model_name": "DescriptionStyleModel",
       "_view_count": null,
       "_view_module": "@jupyter-widgets/base",
       "_view_module_version": "1.2.0",
       "_view_name": "StyleView",
       "description_width": ""
      }
     },
     "f423f94f3377427f9b88514ac6b31a1a": {
      "model_module": "@jupyter-widgets/controls",
      "model_module_version": "1.5.0",
      "model_name": "HTMLModel",
      "state": {
       "_dom_classes": [],
       "_model_module": "@jupyter-widgets/controls",
       "_model_module_version": "1.5.0",
       "_model_name": "HTMLModel",
       "_view_count": null,
       "_view_module": "@jupyter-widgets/controls",
       "_view_module_version": "1.5.0",
       "_view_name": "HTMLView",
       "description": "",
       "description_tooltip": null,
       "layout": "IPY_MODEL_9ada73e4e77b41308b9aa9414e41768d",
       "placeholder": "​",
       "style": "IPY_MODEL_f055563d722d46189c4da8e1b18d0515",
       "value": "<span style='font-size: 1.15em;'>Filter selected wavelength range ( <span style='display: inline-block; background-color: lightpink; border: 1px solid salmon; width: 0.8em; height: 1.2em; vertical-align: middle;'></span> ) by:</span>"
      }
     },
     "f479518a66964d2586cdf7427c9a7388": {
      "model_module": "@jupyter-widgets/controls",
      "model_module_version": "1.5.0",
      "model_name": "FloatProgressModel",
      "state": {
       "_dom_classes": [],
       "_model_module": "@jupyter-widgets/controls",
       "_model_module_version": "1.5.0",
       "_model_name": "FloatProgressModel",
       "_view_count": null,
       "_view_module": "@jupyter-widgets/controls",
       "_view_module_version": "1.5.0",
       "_view_name": "ProgressView",
       "bar_style": "info",
       "description": "",
       "description_tooltip": null,
       "layout": "IPY_MODEL_85de104eea6b43ce99dc0dba3d693b42",
       "max": 1.0,
       "min": 0.0,
       "orientation": "horizontal",
       "style": "IPY_MODEL_e837d7c19aa1428aa4cf8d02e1c09fdf",
       "value": 0.0
      }
     },
     "f5dbc0928d424976a75e916930685c6c": {
      "model_module": "@jupyter-widgets/controls",
      "model_module_version": "1.5.0",
      "model_name": "DescriptionStyleModel",
      "state": {
       "_model_module": "@jupyter-widgets/controls",
       "_model_module_version": "1.5.0",
       "_model_name": "DescriptionStyleModel",
       "_view_count": null,
       "_view_module": "@jupyter-widgets/base",
       "_view_module_version": "1.2.0",
       "_view_name": "StyleView",
       "description_width": ""
      }
     },
     "f79439ba6799416d8df940be7923efe5": {
      "model_module": "@jupyter-widgets/base",
      "model_module_version": "1.2.0",
      "model_name": "LayoutModel",
      "state": {
       "_model_module": "@jupyter-widgets/base",
       "_model_module_version": "1.2.0",
       "_model_name": "LayoutModel",
       "_view_count": null,
       "_view_module": "@jupyter-widgets/base",
       "_view_module_version": "1.2.0",
       "_view_name": "LayoutView",
       "align_content": null,
       "align_items": "flex-start",
       "align_self": null,
       "border": null,
       "bottom": null,
       "display": "flex",
       "flex": null,
       "flex_flow": null,
       "grid_area": null,
       "grid_auto_columns": null,
       "grid_auto_flow": null,
       "grid_auto_rows": null,
       "grid_column": null,
       "grid_gap": null,
       "grid_row": null,
       "grid_template_areas": null,
       "grid_template_columns": null,
       "grid_template_rows": null,
       "height": null,
       "justify_content": "space-between",
       "justify_items": null,
       "left": null,
       "margin": null,
       "max_height": null,
       "max_width": null,
       "min_height": null,
       "min_width": null,
       "object_fit": null,
       "object_position": null,
       "order": null,
       "overflow": null,
       "overflow_x": null,
       "overflow_y": null,
       "padding": null,
       "right": null,
       "top": null,
       "visibility": null,
       "width": null
      }
     },
     "f8dc4c6814064ec88bd42c285f7c744a": {
      "model_module": "@jupyter-widgets/controls",
      "model_module_version": "1.5.0",
      "model_name": "DropdownModel",
      "state": {
       "_dom_classes": [],
       "_model_module": "@jupyter-widgets/controls",
       "_model_module_version": "1.5.0",
       "_model_name": "DropdownModel",
       "_options_labels": [
        "O I",
        "O II",
        "O III",
        "Mg II",
        "Si II",
        "Si III",
        "Si IV",
        "S I",
        "S II",
        "S III",
        "S IV",
        "Ar I",
        "Ar II",
        "Ar III",
        "Ca II"
       ],
       "_view_count": null,
       "_view_module": "@jupyter-widgets/controls",
       "_view_module_version": "1.5.0",
       "_view_name": "DropdownView",
       "description": "Ion",
       "description_tooltip": null,
       "disabled": false,
       "index": 0,
       "layout": "IPY_MODEL_679d8b47797f4bfea0288cfd5898cf13",
       "style": "IPY_MODEL_d99605671f90479fbc56d777f32f22dd"
      }
     },
     "f92a2d77bd714fc280cb33677f966c42": {
      "model_module": "@jupyter-widgets/controls",
      "model_module_version": "1.5.0",
      "model_name": "DescriptionStyleModel",
      "state": {
       "_model_module": "@jupyter-widgets/controls",
       "_model_module_version": "1.5.0",
       "_model_name": "DescriptionStyleModel",
       "_view_count": null,
       "_view_module": "@jupyter-widgets/base",
       "_view_module_version": "1.2.0",
       "_view_name": "StyleView",
       "description_width": ""
      }
     },
     "fa2bd2ba531b400fa1df7590b3c5ad83": {
      "model_module": "@jupyter-widgets/controls",
      "model_module_version": "1.5.0",
      "model_name": "HBoxModel",
      "state": {
       "_dom_classes": [],
       "_model_module": "@jupyter-widgets/controls",
       "_model_module_version": "1.5.0",
       "_model_name": "HBoxModel",
       "_view_count": null,
       "_view_module": "@jupyter-widgets/controls",
       "_view_module_version": "1.5.0",
       "_view_name": "HBoxView",
       "box_style": "",
       "children": [
        "IPY_MODEL_e8da66b2f0134aaeaacbe300a281d9b8",
        "IPY_MODEL_30dab48ac0c74f73a2da3a236343dee6"
       ],
       "layout": "IPY_MODEL_3193ff67bc4c4c8c8bf00a8a0acd4f4f"
      }
     },
     "fb6a08cab5084a9dade1d55811c5f2db": {
      "model_module": "@jupyter-widgets/controls",
      "model_module_version": "1.5.0",
      "model_name": "FloatProgressModel",
      "state": {
       "_dom_classes": [],
       "_model_module": "@jupyter-widgets/controls",
       "_model_module_version": "1.5.0",
       "_model_name": "FloatProgressModel",
       "_view_count": null,
       "_view_module": "@jupyter-widgets/controls",
       "_view_module_version": "1.5.0",
       "_view_name": "ProgressView",
       "bar_style": "info",
       "description": "",
       "description_tooltip": null,
       "layout": "IPY_MODEL_70aebc54f6f244f992096334fdebb05a",
       "max": 1.0,
       "min": 0.0,
       "orientation": "horizontal",
       "style": "IPY_MODEL_0fd575516f184d2cac04a1860cf8ba22",
       "value": 0.0
      }
     }
    },
    "version_major": 2,
    "version_minor": 0
   }
  }
 },
 "nbformat": 4,
 "nbformat_minor": 4
}
