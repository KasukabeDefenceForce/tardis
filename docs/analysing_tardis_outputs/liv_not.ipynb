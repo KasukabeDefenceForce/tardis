{
 "cells": [
  {
   "cell_type": "markdown",
   "metadata": {},
   "source": [
    "# Analyzing Last Interaction Velocity (LIV) Distribution\n",
    "\n",
    "<div class=\"alert alert-info\">\n",
    "\n",
    "**Note:**\n",
    "\n",
    "This notebook demonstrates how to calculate and visualize the last interaction velocity distribution of packets in a TARDIS simulation. Instead of using the `LIVPlotter` class, we will extract the necessary data directly from the simulation object and perform the calculations and plotting manually.\n",
    "\n",
    "</div>"
   ]
  },
  {
   "cell_type": "code",
   "execution_count": 1,
   "metadata": {},
   "outputs": [
    {
     "name": "stderr",
     "output_type": "stream",
     "text": [
      "/home/abhinav/workspace/code/tardis-main/tardis-code/tardis/tardis/__init__.py:20: UserWarning: Astropy is already imported externally. Astropy should be imported after TARDIS.\n",
      "  warnings.warn(\n"
     ]
    },
    {
     "data": {
      "application/vnd.jupyter.widget-view+json": {
       "model_id": "eed72b3a53a3406bb80d107ddeda3bad",
       "version_major": 2,
       "version_minor": 0
      },
      "text/plain": [
       "Iterations:          0/? [00:00<?, ?it/s]"
      ]
     },
     "metadata": {},
     "output_type": "display_data"
    },
    {
     "data": {
      "application/vnd.jupyter.widget-view+json": {
       "model_id": "3a922b67310343a9acacdb47d02f01f7",
       "version_major": 2,
       "version_minor": 0
      },
      "text/plain": [
       "Packets:             0/? [00:00<?, ?it/s]"
      ]
     },
     "metadata": {},
     "output_type": "display_data"
    }
   ],
   "source": [
    "import matplotlib.pyplot as plt\n",
    "import numpy as np\n",
    "import pandas as pd\n",
    "from astropy import units as u\n",
    "\n",
    "from tardis.util.base import atomic_number2element_symbol, int_to_roman\n"
   ]
  },
  {
   "cell_type": "markdown",
   "metadata": {},
   "source": [
    "### Running the Simulation"
   ]
  },
  {
   "cell_type": "code",
   "execution_count": 17,
   "metadata": {},
   "outputs": [
    {
     "data": {
      "application/vnd.jupyter.widget-view+json": {
       "model_id": "8f340271a7fb470ca026761cc9f0b926",
       "version_major": 2,
       "version_minor": 0
      },
      "text/plain": [
       "TqdmHBox(children=(HTML(value='Iterations:', layout=Layout(width='6%')), FloatProgress(value=0.0, layout=Layou…"
      ]
     },
     "metadata": {},
     "output_type": "display_data"
    },
    {
     "data": {
      "application/vnd.jupyter.widget-view+json": {
       "model_id": "140f659c8cac4c44a3e8854bcf07832b",
       "version_major": 2,
       "version_minor": 0
      },
      "text/plain": [
       "TqdmHBox(children=(HTML(value='Packets:\\u2007\\u2007\\u2007', layout=Layout(width='6%')), FloatProgress(value=0.…"
      ]
     },
     "metadata": {},
     "output_type": "display_data"
    }
   ],
   "source": [
    "from tardis import run_tardis\n",
    "\n",
    "# Run the TARDIS simulation\n",
    "simulation = run_tardis(\n",
    "    \"tardis_example.yml\",\n",
    "    log_level=\"ERROR\"\n",
    ")"
   ]
  },
  {
   "cell_type": "markdown",
   "metadata": {},
   "source": [
    "### Extracting Data from the Simulation"
   ]
  },
  {
   "cell_type": "code",
   "execution_count": 54,
   "metadata": {},
   "outputs": [],
   "source": [
    "# Extract required data from the simulation\n",
    "time_explosion = simulation.plasma.time_explosion\n",
    "velocity = simulation.simulation_state.velocity\n",
    "\n",
    "# Extract packet interaction data from the transport state\n",
    "transport_state = simulation.transport.transport_state\n",
    "\n",
    "# Create a DataFrame for packet interaction data\n",
    "packet_nus = u.Quantity(transport_state.packet_collection.output_nus[\n",
    "                    transport_state.emitted_packet_mask\n",
    "                ], u.Hz)\n",
    "packets_df = pd.DataFrame(\n",
    "    {\n",
    "        \"nus\": packet_nus,\n",
    "        \"lambdas\": packet_nus.to(\n",
    "            \"angstrom\", u.spectral()\n",
    "        ),\n",
    "        \"energies\": transport_state.packet_collection.output_energies[\n",
    "                    transport_state.emitted_packet_mask\n",
    "                ],\n",
    "        \"last_interaction_type\": transport_state.last_interaction_type[\n",
    "                    transport_state.emitted_packet_mask\n",
    "                ],\n",
    "        \"last_line_interaction_in_id\": transport_state.last_line_interaction_in_id[\n",
    "                    transport_state.emitted_packet_mask\n",
    "                ],\n",
    "        \"last_line_interaction_out_id\": transport_state.last_line_interaction_out_id[\n",
    "                    transport_state.emitted_packet_mask\n",
    "                ],\n",
    "        \"last_line_interaction_in_nu\": transport_state.last_interaction_in_nu[\n",
    "                    transport_state.emitted_packet_mask\n",
    "                ],\n",
    "        \"last_interaction_in_r\": transport_state.last_interaction_in_r[\n",
    "                    transport_state.emitted_packet_mask\n",
    "                ],\n",
    "    }\n",
    ")\n",
    "\n",
    "# Filter packets that experienced line interactions\n",
    "line_mask = (packets_df[\"last_interaction_type\"] > -1) & (\n",
    "    packets_df[\"last_line_interaction_in_id\"] > -1\n",
    ")\n",
    "packets_df_line_interaction = packets_df.loc[line_mask].copy()\n",
    "\n",
    "# Add columns for atomic number and species ID of the last interaction\n",
    "lines_df = simulation.plasma.atomic_data.lines.reset_index().set_index(\"line_id\")\n",
    "packets_df_line_interaction[\"last_line_interaction_atom\"] = (\n",
    "    lines_df[\"atomic_number\"]\n",
    "    .iloc[packets_df_line_interaction[\"last_line_interaction_out_id\"]]\n",
    "    .to_numpy()\n",
    ")\n",
    "packets_df_line_interaction[\"last_line_interaction_species\"] = (\n",
    "    lines_df[\"atomic_number\"]\n",
    "    .iloc[packets_df_line_interaction[\"last_line_interaction_out_id\"]]\n",
    "    .to_numpy()\n",
    "    * 100\n",
    "    + lines_df[\"ion_number\"]\n",
    "    .iloc[packets_df_line_interaction[\"last_line_interaction_out_id\"]]\n",
    "    .to_numpy()\n",
    ")\n"
   ]
  },
  {
   "cell_type": "code",
   "execution_count": 55,
   "metadata": {},
   "outputs": [],
   "source": [
    "from tardis.util.base import (\n",
    "    element_symbol2atomic_number,\n",
    "    roman_to_int,\n",
    "    species_string_to_tuple,\n",
    ")\n",
    "\n",
    "\n",
    "def _parse_species_list_sdec(species_list):\n",
    "    if species_list is not None:\n",
    "        # check if there are any digits in the species list. If there are, then exit.\n",
    "        # species_list should only contain species in the Roman numeral\n",
    "        # format, e.g. Si II, and each ion must contain a space\n",
    "        if any(char.isdigit() for char in \" \".join(species_list)) is True:\n",
    "            raise ValueError(\n",
    "                \"All species must be in Roman numeral form, e.g. Si II\"\n",
    "            )\n",
    "        else:\n",
    "            full_species_list = []\n",
    "            species_mapped = {}\n",
    "            for species in species_list:\n",
    "                # check if a hyphen is present. If it is, then it indicates a\n",
    "                # range of ions. Add each ion in that range to the list as a new entry\n",
    "                if \"-\" in species:\n",
    "                    # split the string on spaces. First thing in the list is then the element\n",
    "                    element = species.split(\" \")[0]\n",
    "                    # Next thing is the ion range\n",
    "                    # convert the requested ions into numerals\n",
    "                    first_ion_numeral = roman_to_int(\n",
    "                        species.split(\" \")[-1].split(\"-\")[0]\n",
    "                    )\n",
    "                    second_ion_numeral = roman_to_int(\n",
    "                        species.split(\" \")[-1].split(\"-\")[-1]\n",
    "                    )\n",
    "                    # add each ion between the two requested into the species list\n",
    "                    for ion_number in np.arange(\n",
    "                        first_ion_numeral, second_ion_numeral + 1\n",
    "                    ):\n",
    "                        full_species_list.append(\n",
    "                            f\"{element} {int_to_roman(ion_number)}\"\n",
    "                        )\n",
    "                else:\n",
    "                    # Otherwise it's either an element or ion so just add to the list\n",
    "                    full_species_list.append(species)\n",
    "\n",
    "            # full_species_list is now a list containing each individual species requested\n",
    "            # e.g. it parses species_list = [Si I - V] into species_list = [Si I, Si II, Si III, Si IV, Si V]\n",
    "            requested_species_ids = []\n",
    "            keep_colour = []\n",
    "\n",
    "            # go through each of the requested species. Check whether it is\n",
    "            # an element or ion (ions have spaces). If it is an element,\n",
    "            # add all possible ions to the ions list. Otherwise just add\n",
    "            # the requested ion\n",
    "            for species in full_species_list:\n",
    "                if \" \" in species:\n",
    "                    species_id = (\n",
    "                        species_string_to_tuple(species)[0] * 100\n",
    "                        + species_string_to_tuple(species)[1]\n",
    "                    )\n",
    "                    requested_species_ids.append([species_id])\n",
    "                    species_mapped[species_id] = [species_id]\n",
    "                else:\n",
    "                    atomic_number = element_symbol2atomic_number(species)\n",
    "                    species_ids = [\n",
    "                        atomic_number * 100 + ion_number\n",
    "                        for ion_number in np.arange(atomic_number)\n",
    "                    ]\n",
    "                    requested_species_ids.append(species_ids)\n",
    "                    species_mapped[atomic_number * 100] = species_ids\n",
    "                    # add the atomic number to a list so you know that this element should\n",
    "                    # have all species in the same colour, i.e. it was requested like\n",
    "                    # species_list = [Si]\n",
    "                    keep_colour.append(atomic_number)\n",
    "            requested_species_ids = [\n",
    "                species_id\n",
    "                for temp_list in requested_species_ids\n",
    "                for species_id in temp_list\n",
    "            ]\n",
    "            print(\"requested_species_ids\", requested_species_ids)\n",
    "            print(\"species_mapped\", species_mapped)\n",
    "            return requested_species_ids, species_mapped, keep_colour\n",
    "    else:\n",
    "        return None, None, None"
   ]
  },
  {
   "cell_type": "code",
   "execution_count": 56,
   "metadata": {},
   "outputs": [],
   "source": [
    "def _make_colorbar_labels(species, _species_list, _species_mapped):\n",
    "    if _species_list is None:\n",
    "        species_name = [\n",
    "            atomic_number2element_symbol(atomic_num)\n",
    "            for atomic_num in species\n",
    "        ]\n",
    "    else:\n",
    "        species_name = []\n",
    "        for species_key, species_ids in _species_mapped.items():\n",
    "            if any(species2 in species for species2 in species_ids):\n",
    "                if species_key % 100 == 0:\n",
    "                    label = atomic_number2element_symbol(species_key // 100)\n",
    "                else:\n",
    "                    atomic_number = species_key // 100\n",
    "                    ion_number = species_key % 100\n",
    "                    ion_numeral = int_to_roman(ion_number + 1)\n",
    "                    label = f\"{atomic_number2element_symbol(atomic_number)} {ion_numeral}\"\n",
    "                species_name.append(label)\n",
    "\n",
    "    return species_name"
   ]
  },
  {
   "cell_type": "code",
   "execution_count": 57,
   "metadata": {},
   "outputs": [],
   "source": [
    "def _make_colorbar_colors(cmap, species, _species_mapped):\n",
    "    \"\"\"\n",
    "    Generate colors for the species to be plotted.\n",
    "\n",
    "    This method creates a list of colors corresponding to the species names.\n",
    "    The colors are generated based on the species present in the model and\n",
    "    the requested species list.\n",
    "    \"\"\"\n",
    "    color_list = []\n",
    "    species_keys = list(_species_mapped.keys())\n",
    "    num_species = len(species_keys)\n",
    "\n",
    "    for species_counter, species_key in enumerate(species_keys):\n",
    "        if any(\n",
    "            species2 in species\n",
    "            for species2 in _species_mapped[species_key]\n",
    "        ):\n",
    "            color = cmap(species_counter / num_species)\n",
    "            color_list.append(color)\n",
    "\n",
    "    return color_list"
   ]
  },
  {
   "cell_type": "code",
   "execution_count": 58,
   "metadata": {},
   "outputs": [],
   "source": [
    "def _generate_plot_data(packet_nu_line_range_mask, time_explosion, _color_list, species, _species_mapped):\n",
    "    groups = (\n",
    "        packets_df_line_interaction.loc[packet_nu_line_range_mask]\n",
    "        .groupby(by=\"last_line_interaction_species\")\n",
    "    )\n",
    "\n",
    "    plot_colors = []\n",
    "    plot_data = []\n",
    "    species_not_wvl_range = []\n",
    "    species_counter = 0\n",
    "\n",
    "    for specie_list in _species_mapped.values():\n",
    "        full_v_last = []\n",
    "        for specie in specie_list:\n",
    "            if specie in species:\n",
    "                if specie not in groups.groups:\n",
    "                    atomic_number = specie // 100\n",
    "                    ion_number = specie % 100\n",
    "                    ion_numeral = int_to_roman(ion_number + 1)\n",
    "                    label = f\"{atomic_number2element_symbol(atomic_number)} {ion_numeral}\"\n",
    "                    species_not_wvl_range.append(label)\n",
    "                    continue\n",
    "                g_df = groups.get_group(specie)\n",
    "                r_last_interaction = (\n",
    "                    g_df[\"last_interaction_in_r\"].values * u.cm\n",
    "                )\n",
    "                v_last_interaction = (\n",
    "                    r_last_interaction / time_explosion\n",
    "                ).to(\"km/s\")\n",
    "                full_v_last.extend(v_last_interaction)\n",
    "        if full_v_last:\n",
    "            plot_data.append(full_v_last)\n",
    "            plot_colors.append(_color_list[species_counter])\n",
    "            species_counter += 1\n",
    "\n",
    "    if species_not_wvl_range:\n",
    "        logger.info(\n",
    "            \"%s were not found in the provided wavelength range.\",\n",
    "            species_not_wvl_range,\n",
    "        )\n",
    "    return plot_data, plot_colors"
   ]
  },
  {
   "cell_type": "code",
   "execution_count": 69,
   "metadata": {},
   "outputs": [],
   "source": [
    "def _prepare_plot_data(\n",
    "            packet_wvl_range,\n",
    "            velocity,\n",
    "            species_list,\n",
    "            cmapname,\n",
    "            num_bins,\n",
    "        ):\n",
    "        if species_list is None:\n",
    "            # Extract all unique elements from the packets data\n",
    "            species_in_model = np.unique(\n",
    "                packets_df_line_interaction[\"last_line_interaction_species\"]\n",
    "                .values\n",
    "            )\n",
    "            species_list = [\n",
    "                f\"{atomic_number2element_symbol(specie // 100)}\"\n",
    "                for specie in species_in_model\n",
    "            ]\n",
    "        _species_list, _species_mapped, _keep_colour = _parse_species_list_sdec(species_list)\n",
    "        print(\"species_list\", _species_list)\n",
    "        species_in_model = np.unique(\n",
    "            packets_df_line_interaction[\"last_line_interaction_species\"]\n",
    "            .values\n",
    "        )\n",
    "        if _species_list is None or not _species_list:\n",
    "            raise ValueError(\"No species provided for plotting.\")\n",
    "        msk = np.isin(_species_list, species_in_model)\n",
    "        species = np.array(_species_list)[msk]\n",
    "\n",
    "        if len(species) == 0:\n",
    "            raise ValueError(\"No valid species found for plotting.\")\n",
    "\n",
    "        _species_name =_make_colorbar_labels(species, _species_list, _species_mapped)\n",
    "        cmap = plt.get_cmap(cmapname, len(_species_name))\n",
    "        _color_list = _make_colorbar_colors(cmap, species, _species_mapped)\n",
    "\n",
    "        if packet_wvl_range is None:\n",
    "            packet_nu_line_range_mask = np.ones(\n",
    "                packets_df_line_interaction.shape[0],\n",
    "                dtype=bool,\n",
    "            )\n",
    "        else:\n",
    "            packet_nu_range = [\n",
    "                value.to(\"Hz\", equivalencies=u.spectral())\n",
    "                for value in packet_wvl_range\n",
    "            ]\n",
    "            packet_nu_line_range_mask = (\n",
    "                packets_df_line_interaction[\"nus\"]\n",
    "                >= packet_nu_range[1]\n",
    "            ) & (\n",
    "                packets_df_line_interaction[\"nus\"]\n",
    "                <= packet_nu_range[0]\n",
    "            )\n",
    "\n",
    "        plot_data, plot_colors = _generate_plot_data(\n",
    "            packet_nu_line_range_mask, time_explosion, _color_list, species, _species_mapped)\n",
    "        bin_edges = velocity.to(\"km/s\")\n",
    "\n",
    "        if num_bins:\n",
    "            if num_bins < 1:\n",
    "                raise ValueError(\"Number of bins must be positive\")\n",
    "            elif num_bins > len(bin_edges) - 1:\n",
    "                logger.warning(\n",
    "                    \"Number of bins must be less than or equal to number of shells. Plotting with number of bins equals to number of shells.\"\n",
    "                )\n",
    "                return bin_edges, plot_data, plot_colors, _species_name\n",
    "            else:\n",
    "                return np.linspace(\n",
    "                    bin_edges[0], bin_edges[-1], num_bins + 1\n",
    "                ), plot_data, plot_colors, _species_name\n",
    "        else:\n",
    "            return bin_edges, plot_data, plot_colors, _species_name"
   ]
  },
  {
   "cell_type": "code",
   "execution_count": 94,
   "metadata": {},
   "outputs": [
    {
     "name": "stdout",
     "output_type": "stream",
     "text": [
      "requested_species_ids [800, 801, 802, 803, 804, 805, 806, 807, 800, 801, 802, 803, 804, 805, 806, 807, 800, 801, 802, 803, 804, 805, 806, 807, 1200, 1201, 1202, 1203, 1204, 1205, 1206, 1207, 1208, 1209, 1210, 1211, 1400, 1401, 1402, 1403, 1404, 1405, 1406, 1407, 1408, 1409, 1410, 1411, 1412, 1413, 1400, 1401, 1402, 1403, 1404, 1405, 1406, 1407, 1408, 1409, 1410, 1411, 1412, 1413, 1400, 1401, 1402, 1403, 1404, 1405, 1406, 1407, 1408, 1409, 1410, 1411, 1412, 1413, 1600, 1601, 1602, 1603, 1604, 1605, 1606, 1607, 1608, 1609, 1610, 1611, 1612, 1613, 1614, 1615, 1600, 1601, 1602, 1603, 1604, 1605, 1606, 1607, 1608, 1609, 1610, 1611, 1612, 1613, 1614, 1615, 1600, 1601, 1602, 1603, 1604, 1605, 1606, 1607, 1608, 1609, 1610, 1611, 1612, 1613, 1614, 1615, 1600, 1601, 1602, 1603, 1604, 1605, 1606, 1607, 1608, 1609, 1610, 1611, 1612, 1613, 1614, 1615, 1800, 1801, 1802, 1803, 1804, 1805, 1806, 1807, 1808, 1809, 1810, 1811, 1812, 1813, 1814, 1815, 1816, 1817, 1800, 1801, 1802, 1803, 1804, 1805, 1806, 1807, 1808, 1809, 1810, 1811, 1812, 1813, 1814, 1815, 1816, 1817, 2000, 2001, 2002, 2003, 2004, 2005, 2006, 2007, 2008, 2009, 2010, 2011, 2012, 2013, 2014, 2015, 2016, 2017, 2018, 2019]\n",
      "species_mapped {800: [800, 801, 802, 803, 804, 805, 806, 807], 1200: [1200, 1201, 1202, 1203, 1204, 1205, 1206, 1207, 1208, 1209, 1210, 1211], 1400: [1400, 1401, 1402, 1403, 1404, 1405, 1406, 1407, 1408, 1409, 1410, 1411, 1412, 1413], 1600: [1600, 1601, 1602, 1603, 1604, 1605, 1606, 1607, 1608, 1609, 1610, 1611, 1612, 1613, 1614, 1615], 1800: [1800, 1801, 1802, 1803, 1804, 1805, 1806, 1807, 1808, 1809, 1810, 1811, 1812, 1813, 1814, 1815, 1816, 1817], 2000: [2000, 2001, 2002, 2003, 2004, 2005, 2006, 2007, 2008, 2009, 2010, 2011, 2012, 2013, 2014, 2015, 2016, 2017, 2018, 2019]}\n",
      "species_list [800, 801, 802, 803, 804, 805, 806, 807, 800, 801, 802, 803, 804, 805, 806, 807, 800, 801, 802, 803, 804, 805, 806, 807, 1200, 1201, 1202, 1203, 1204, 1205, 1206, 1207, 1208, 1209, 1210, 1211, 1400, 1401, 1402, 1403, 1404, 1405, 1406, 1407, 1408, 1409, 1410, 1411, 1412, 1413, 1400, 1401, 1402, 1403, 1404, 1405, 1406, 1407, 1408, 1409, 1410, 1411, 1412, 1413, 1400, 1401, 1402, 1403, 1404, 1405, 1406, 1407, 1408, 1409, 1410, 1411, 1412, 1413, 1600, 1601, 1602, 1603, 1604, 1605, 1606, 1607, 1608, 1609, 1610, 1611, 1612, 1613, 1614, 1615, 1600, 1601, 1602, 1603, 1604, 1605, 1606, 1607, 1608, 1609, 1610, 1611, 1612, 1613, 1614, 1615, 1600, 1601, 1602, 1603, 1604, 1605, 1606, 1607, 1608, 1609, 1610, 1611, 1612, 1613, 1614, 1615, 1600, 1601, 1602, 1603, 1604, 1605, 1606, 1607, 1608, 1609, 1610, 1611, 1612, 1613, 1614, 1615, 1800, 1801, 1802, 1803, 1804, 1805, 1806, 1807, 1808, 1809, 1810, 1811, 1812, 1813, 1814, 1815, 1816, 1817, 1800, 1801, 1802, 1803, 1804, 1805, 1806, 1807, 1808, 1809, 1810, 1811, 1812, 1813, 1814, 1815, 1816, 1817, 2000, 2001, 2002, 2003, 2004, 2005, 2006, 2007, 2008, 2009, 2010, 2011, 2012, 2013, 2014, 2015, 2016, 2017, 2018, 2019]\n"
     ]
    },
    {
     "data": {
      "image/png": "[encoded data removed]",
      "text/plain": [
       "<Figure size 1100x500 with 1 Axes>"
      ]
     },
     "metadata": {},
     "output_type": "display_data"
    }
   ],
   "source": [
    "cmapname=\"jet\"\n",
    "\n",
    "bin_edges, plot_data, plot_colors, _species_name = _prepare_plot_data(\n",
    "    None,\n",
    "    velocity,\n",
    "    None,\n",
    "    cmapname,\n",
    "    None,\n",
    "    None,\n",
    ")\n",
    "ax = plt.figure(figsize=(11, 5)).add_subplot(111)\n",
    "\n",
    "for data, color, name in zip(\n",
    "    plot_data, plot_colors, _species_name\n",
    "):\n",
    "    hist, _ = np.histogram(data, bins=bin_edges)\n",
    "    step_x = np.repeat(bin_edges, 2)[1:-1]\n",
    "    step_y = np.repeat(hist, 2)\n",
    "    ax.plot(\n",
    "        step_x,\n",
    "        step_y,\n",
    "        label=name,\n",
    "        color=color,\n",
    "        linewidth=2.5,\n",
    "        drawstyle=\"steps-post\",\n",
    "        alpha=0.75,\n",
    "    )\n",
    "\n",
    "ax.ticklabel_format(axis=\"y\", scilimits=(0, 0))\n",
    "ax.tick_params(\"both\", labelsize=15)\n",
    "ax.set_xlabel(\"Last Interaction Velocity (km/s)\", fontsize=14)\n",
    "ax.set_ylabel(\"Packet Count\", fontsize=15)\n",
    "ax.legend(fontsize=15, bbox_to_anchor=(1.0, 1.0), loc=\"upper left\")\n",
    "ax.figure.tight_layout()\n",
    "\n"
   ]
  },
  {
   "cell_type": "markdown",
   "metadata": {},
   "source": [
    "### Data Calculation"
   ]
  },
  {
   "cell_type": "code",
   "execution_count": 62,
   "metadata": {},
   "outputs": [
    {
     "name": "stdout",
     "output_type": "stream",
     "text": [
      "[800, 801, 802, 803, 804, 805, 806, 807, 800, 801, 802, 803, 804, 805, 806, 807, 800, 801, 802, 803, 804, 805, 806, 807, 1200, 1201, 1202, 1203, 1204, 1205, 1206, 1207, 1208, 1209, 1210, 1211, 1400, 1401, 1402, 1403, 1404, 1405, 1406, 1407, 1408, 1409, 1410, 1411, 1412, 1413, 1400, 1401, 1402, 1403, 1404, 1405, 1406, 1407, 1408, 1409, 1410, 1411, 1412, 1413, 1400, 1401, 1402, 1403, 1404, 1405, 1406, 1407, 1408, 1409, 1410, 1411, 1412, 1413, 1600, 1601, 1602, 1603, 1604, 1605, 1606, 1607, 1608, 1609, 1610, 1611, 1612, 1613, 1614, 1615, 1600, 1601, 1602, 1603, 1604, 1605, 1606, 1607, 1608, 1609, 1610, 1611, 1612, 1613, 1614, 1615, 1600, 1601, 1602, 1603, 1604, 1605, 1606, 1607, 1608, 1609, 1610, 1611, 1612, 1613, 1614, 1615, 1600, 1601, 1602, 1603, 1604, 1605, 1606, 1607, 1608, 1609, 1610, 1611, 1612, 1613, 1614, 1615, 1800, 1801, 1802, 1803, 1804, 1805, 1806, 1807, 1808, 1809, 1810, 1811, 1812, 1813, 1814, 1815, 1816, 1817, 1800, 1801, 1802, 1803, 1804, 1805, 1806, 1807, 1808, 1809, 1810, 1811, 1812, 1813, 1814, 1815, 1816, 1817, 2000, 2001, 2002, 2003, 2004, 2005, 2006, 2007, 2008, 2009, 2010, 2011, 2012, 2013, 2014, 2015, 2016, 2017, 2018, 2019] here\n",
      "{800: [800, 801, 802, 803, 804, 805, 806, 807], 1200: [1200, 1201, 1202, 1203, 1204, 1205, 1206, 1207, 1208, 1209, 1210, 1211], 1400: [1400, 1401, 1402, 1403, 1404, 1405, 1406, 1407, 1408, 1409, 1410, 1411, 1412, 1413], 1600: [1600, 1601, 1602, 1603, 1604, 1605, 1606, 1607, 1608, 1609, 1610, 1611, 1612, 1613, 1614, 1615], 1800: [1800, 1801, 1802, 1803, 1804, 1805, 1806, 1807, 1808, 1809, 1810, 1811, 1812, 1813, 1814, 1815, 1816, 1817], 2000: [2000, 2001, 2002, 2003, 2004, 2005, 2006, 2007, 2008, 2009, 2010, 2011, 2012, 2013, 2014, 2015, 2016, 2017, 2018, 2019]} Species mapped\n"
     ]
    }
   ],
   "source": [
    "from tardis.util.base import (\n",
    "    element_symbol2atomic_number,\n",
    "    roman_to_int,\n",
    "    species_string_to_tuple,\n",
    ")\n",
    "\n",
    "species_in_model = np.unique(packets_df_line_interaction[\"last_line_interaction_species\"]\n",
    "                .values\n",
    "            )\n",
    "species_list = [\n",
    "                f\"{atomic_number2element_symbol(specie // 100)}\"\n",
    "                for specie in species_in_model\n",
    "            ]\n",
    "\n",
    "full_species_list = []\n",
    "\n",
    "#TODO: The \"-\" is not needed in this case.\n",
    "for spec in species_list:\n",
    "    # check if a hyphen is present. If it is, then it indicates a\n",
    "    # range of ions. Add each ion in that range to the list as a new entry\n",
    "    if \"-\" in spec:\n",
    "        # split the string on spaces. First thing in the list is then the element\n",
    "        element = spec.split(\" \")[0]\n",
    "        # Next thing is the ion range\n",
    "        # convert the requested ions into numerals\n",
    "        first_ion_numeral = roman_to_int(\n",
    "            spec.split(\" \")[-1].split(\"-\")[0]\n",
    "        )\n",
    "        second_ion_numeral = roman_to_int(\n",
    "            spec.split(\" \")[-1].split(\"-\")[-1]\n",
    "        )\n",
    "        # add each ion between the two requested into the species list\n",
    "        for ion_number in np.arange(\n",
    "            first_ion_numeral, second_ion_numeral + 1\n",
    "        ):\n",
    "            full_species_list.append(\n",
    "                f\"{element} {int_to_roman(ion_number)}\"\n",
    "            )\n",
    "    else:\n",
    "        # Otherwise it's either an element or ion so just add to the list\n",
    "        full_species_list.append(spec)\n",
    "\n",
    "species_mapped = {}\n",
    "requested_species_ids = []\n",
    "keep_colour = []\n",
    "for spec_id in full_species_list:\n",
    "    if \" \" in spec_id:\n",
    "        species_id = (\n",
    "            species_string_to_tuple(spec_id)[0] * 100\n",
    "            + species_string_to_tuple(spec_id)[1]\n",
    "        )\n",
    "        requested_species_ids.append([species_id])\n",
    "        species_mapped[species_id] = [species_id]\n",
    "    else:\n",
    "        atomic_number = element_symbol2atomic_number(spec_id)\n",
    "        species_ids = [\n",
    "                            atomic_number * 100 + ion_number\n",
    "                            for ion_number in np.arange(atomic_number)\n",
    "                        ]\n",
    "        requested_species_ids.append(species_ids)\n",
    "        species_mapped[atomic_number * 100] = species_ids\n",
    "        keep_colour.append(atomic_number)\n",
    "requested_species_ids = [\n",
    "                    species_id\n",
    "                    for temp_list in requested_species_ids\n",
    "                    for species_id in temp_list\n",
    "                ]\n",
    "\n",
    "species_list = requested_species_ids\n",
    "print(species_list, \"here\")\n",
    "print(species_mapped, \"Species mapped\")\n"
   ]
  },
  {
   "cell_type": "code",
   "execution_count": 63,
   "metadata": {},
   "outputs": [
    {
     "name": "stdout",
     "output_type": "stream",
     "text": [
      "[800, 801, 802, 803, 804, 805, 806, 807, 800, 801, 802, 803, 804, 805, 806, 807, 800, 801, 802, 803, 804, 805, 806, 807, 1200, 1201, 1202, 1203, 1204, 1205, 1206, 1207, 1208, 1209, 1210, 1211, 1400, 1401, 1402, 1403, 1404, 1405, 1406, 1407, 1408, 1409, 1410, 1411, 1412, 1413, 1400, 1401, 1402, 1403, 1404, 1405, 1406, 1407, 1408, 1409, 1410, 1411, 1412, 1413, 1400, 1401, 1402, 1403, 1404, 1405, 1406, 1407, 1408, 1409, 1410, 1411, 1412, 1413, 1600, 1601, 1602, 1603, 1604, 1605, 1606, 1607, 1608, 1609, 1610, 1611, 1612, 1613, 1614, 1615, 1600, 1601, 1602, 1603, 1604, 1605, 1606, 1607, 1608, 1609, 1610, 1611, 1612, 1613, 1614, 1615, 1600, 1601, 1602, 1603, 1604, 1605, 1606, 1607, 1608, 1609, 1610, 1611, 1612, 1613, 1614, 1615, 1600, 1601, 1602, 1603, 1604, 1605, 1606, 1607, 1608, 1609, 1610, 1611, 1612, 1613, 1614, 1615, 1800, 1801, 1802, 1803, 1804, 1805, 1806, 1807, 1808, 1809, 1810, 1811, 1812, 1813, 1814, 1815, 1816, 1817, 1800, 1801, 1802, 1803, 1804, 1805, 1806, 1807, 1808, 1809, 1810, 1811, 1812, 1813, 1814, 1815, 1816, 1817, 2000, 2001, 2002, 2003, 2004, 2005, 2006, 2007, 2008, 2009, 2010, 2011, 2012, 2013, 2014, 2015, 2016, 2017, 2018, 2019] species list\n"
     ]
    }
   ],
   "source": [
    "print(species_list, \"species list\")\n",
    "msk = np.isin(species_list, species_in_model)\n",
    "species = np.array(species_list)[msk]\n",
    "\n",
    "species_name = []\n",
    "for species_key, species_ids in species_mapped.items():\n",
    "    if any(s_id in species for s_id in species_ids):\n",
    "        if species_key % 100 == 0:\n",
    "            label = atomic_number2element_symbol(species_key // 100)\n",
    "        else:\n",
    "            atomic_number = species_key // 100\n",
    "            ion_number = species_key % 100\n",
    "            ion_numeral = int_to_roman(ion_number + 1)\n",
    "            label = f\"{atomic_number2element_symbol(atomic_number)} {ion_numeral}\"\n",
    "        species_name.append(label)"
   ]
  },
  {
   "cell_type": "code",
   "execution_count": 64,
   "metadata": {},
   "outputs": [],
   "source": [
    "cmap = plt.get_cmap(\"jet\", len(species_name))"
   ]
  },
  {
   "cell_type": "code",
   "execution_count": 65,
   "metadata": {},
   "outputs": [
    {
     "name": "stdout",
     "output_type": "stream",
     "text": [
      "[(0.0, 0.0, 0.5, 1.0), (0.0, 0.3, 1.0, 1.0), (0.16129032258064513, 1.0, 0.8064516129032259, 1.0), (0.806451612903226, 1.0, 0.1612903225806449, 1.0), (1.0, 0.40740740740740733, 0.0, 1.0), (0.5, 0.0, 0.0, 1.0)]\n"
     ]
    }
   ],
   "source": [
    "color_list = []\n",
    "species_keys = list(species_mapped.keys())\n",
    "num_species = len(species_keys)\n",
    "\n",
    "for species_counter, species_key in enumerate(species_keys):\n",
    "    if any(\n",
    "        spe_id in species\n",
    "        for spe_id in species_mapped[species_key]\n",
    "    ):\n",
    "        color = cmap(species_counter / num_species)\n",
    "        color_list.append(color)\n",
    "\n",
    "print(color_list)"
   ]
  },
  {
   "cell_type": "code",
   "execution_count": 66,
   "metadata": {},
   "outputs": [],
   "source": [
    "# Filter packets based on wavelength range (optional)\n",
    "packet_wvl_range = None  # Set to None to include all packets\n",
    "packet_nu_line_range_mask = np.ones(packets_df_line_interaction.shape[0], dtype=bool)"
   ]
  },
  {
   "cell_type": "code",
   "execution_count": 67,
   "metadata": {},
   "outputs": [
    {
     "name": "stdout",
     "output_type": "stream",
     "text": [
      "0 here\n",
      "1 here\n",
      "2 here\n",
      "3 here\n",
      "4 here\n",
      "5 here\n",
      "6 here\n"
     ]
    },
    {
     "ename": "IndexError",
     "evalue": "list index out of range",
     "output_type": "error",
     "traceback": [
      "\u001b[0;31m---------------------------------------------------------------------------\u001b[0m",
      "\u001b[0;31mIndexError\u001b[0m                                Traceback (most recent call last)",
      "Cell \u001b[0;32mIn[67], line 32\u001b[0m\n\u001b[1;32m     30\u001b[0m plot_data\u001b[38;5;241m.\u001b[39mappend(full_v_last)\n\u001b[1;32m     31\u001b[0m \u001b[38;5;28mprint\u001b[39m(species_counter, \u001b[38;5;124m\"\u001b[39m\u001b[38;5;124mhere\u001b[39m\u001b[38;5;124m\"\u001b[39m)\n\u001b[0;32m---> 32\u001b[0m plot_colors\u001b[38;5;241m.\u001b[39mappend(\u001b[43mcolor_list\u001b[49m\u001b[43m[\u001b[49m\u001b[43mspecies_counter\u001b[49m\u001b[43m]\u001b[49m)\n\u001b[1;32m     33\u001b[0m species_counter \u001b[38;5;241m+\u001b[39m\u001b[38;5;241m=\u001b[39m \u001b[38;5;241m1\u001b[39m\n",
      "\u001b[0;31mIndexError\u001b[0m: list index out of range"
     ]
    }
   ],
   "source": [
    "# Group packets by last interaction species\n",
    "groups = packets_df_line_interaction.loc[packet_nu_line_range_mask].groupby(\n",
    "    by=\"last_line_interaction_species\"\n",
    ")\n",
    "plot_colors = []\n",
    "plot_data = []\n",
    "species_not_wvl_range = []\n",
    "species_counter = 0\n",
    "\n",
    "for specie_list in species_mapped.values():\n",
    "    full_v_last = []\n",
    "    for specie in specie_list:\n",
    "        if specie in species:\n",
    "            if specie not in groups.groups:\n",
    "                atomic_number = specie // 100\n",
    "                ion_number = specie % 100\n",
    "                ion_numeral = int_to_roman(ion_number + 1)\n",
    "                label = f\"{atomic_number2element_symbol(atomic_number)} {ion_numeral}\"\n",
    "                species_not_wvl_range.append(label)\n",
    "                continue\n",
    "            g_df = groups.get_group(specie)\n",
    "            r_last_interaction = (\n",
    "                g_df[\"last_interaction_in_r\"].values * u.cm\n",
    "            )\n",
    "            v_last_interaction = (\n",
    "                r_last_interaction / time_explosion\n",
    "            ).to(\"km/s\")\n",
    "            full_v_last.extend(v_last_interaction)\n",
    "        if full_v_last:\n",
    "            plot_data.append(full_v_last)\n",
    "            print(species_counter, \"here\")\n",
    "            plot_colors.append(color_list[species_counter])\n",
    "            species_counter += 1"
   ]
  },
  {
   "cell_type": "code",
   "execution_count": 68,
   "metadata": {},
   "outputs": [],
   "source": [
    "# # Calculate last interaction velocities\n",
    "# plot_data = []\n",
    "# species_names = []\n",
    "# for species_id, group_df in groups:\n",
    "#     r_last_interaction = group_df[\"last_interaction_in_r\"].values * u.cm\n",
    "#     v_last_interaction = (r_last_interaction / time_explosion).to(\"km/s\")\n",
    "#     plot_data.append(v_last_interaction)\n",
    "\n",
    "#     # Convert species ID to element symbol and ion number\n",
    "#     atomic_number = species_id // 100\n",
    "#     ion_number = species_id % 100\n",
    "#     ion_numeral = int_to_roman(ion_number + 1)\n",
    "#     species_name = f\"{atomic_number2element_symbol(atomic_number)} {ion_numeral}\"\n",
    "#     species_names.append(species_name)\n",
    "\n",
    "bin_edges = (velocity).to(\"km/s\")"
   ]
  },
  {
   "cell_type": "markdown",
   "metadata": {},
   "source": [
    "## Plotting"
   ]
  },
  {
   "cell_type": "markdown",
   "metadata": {},
   "source": [
    "### Matplotlib"
   ]
  },
  {
   "cell_type": "code",
   "execution_count": null,
   "metadata": {},
   "outputs": [],
   "source": [
    "# Create the plot\n",
    "fig, ax = plt.subplots(figsize=(11, 5))\n",
    "\n",
    "\n",
    "# Plot the data for each species\n",
    "for data, color, name in zip(\n",
    "            plot_data, plot_colors, species_name\n",
    "        ):\n",
    "            hist, _ = np.histogram(data, bins=bin_edges)\n",
    "            step_x = np.repeat(bin_edges, 2)[1:-1]\n",
    "            step_y = np.repeat(hist, 2)\n",
    "            ax.plot(\n",
    "                step_x,\n",
    "                step_y,\n",
    "                label=name,\n",
    "                color=color,\n",
    "                linewidth=2.5,\n",
    "                drawstyle=\"steps-post\",\n",
    "                alpha=0.75,\n",
    "            )\n",
    "\n",
    "# Add labels and legend\n",
    "ax.ticklabel_format(axis=\"y\", scilimits=(0, 0))\n",
    "ax.tick_params(\"both\", labelsize=15)\n",
    "ax.set_xlabel(\"Last Interaction Velocity (km/s)\", fontsize=14)\n",
    "ax.set_ylabel(\"Packet Count\", fontsize=15)\n",
    "ax.legend(fontsize=15, bbox_to_anchor=(1.0, 1.0), loc=\"upper left\")\n",
    "ax.figure.tight_layout()\n",
    "\n",
    "# Show the plot\n",
    "plt.show()"
   ]
  },
  {
   "cell_type": "markdown",
   "metadata": {},
   "source": [
    "### Plotly"
   ]
  },
  {
   "cell_type": "code",
   "execution_count": null,
   "metadata": {},
   "outputs": [],
   "source": [
    "import plotly.graph_objects as go\n",
    "\n",
    "# Create the plot\n",
    "fig = go.Figure()\n",
    "\n",
    "# Plot the data for each species\n",
    "for species_data, species_name in zip(plot_data, species_names):\n",
    "    hist, bin_edges = np.histogram(species_data, bins=velocity.to(\"km/s\"))\n",
    "    step_x = np.repeat(bin_edges, 2)[1:-1]\n",
    "    step_y = np.repeat(hist, 2)\n",
    "    fig.add_trace(\n",
    "        go.Scatter(\n",
    "            x=step_x,\n",
    "            y=step_y,\n",
    "            mode=\"lines\",\n",
    "            line=dict(shape=\"hv\", width=2.5),\n",
    "            name=species_name,\n",
    "            opacity=0.75,\n",
    "        )\n",
    "    )\n",
    "\n",
    "# Add labels and layout\n",
    "fig.update_layout(\n",
    "    height=600,\n",
    "    xaxis_title=\"Last Interaction Velocity (km/s)\",\n",
    "    yaxis_title=\"Packet Count\",\n",
    "    font=dict(size=15),\n",
    "    yaxis=dict(exponentformat=\"e\"),\n",
    ")\n",
    "\n",
    "# Show the plot\n",
    "fig.show()"
   ]
  },
  {
   "cell_type": "code",
   "execution_count": null,
   "metadata": {},
   "outputs": [],
   "source": []
  }
 ],
 "metadata": {
  "kernelspec": {
   "display_name": "tardis",
   "language": "python",
   "name": "python3"
  },
  "language_info": {
   "codemirror_mode": {
    "name": "ipython",
    "version": 3
   },
   "file_extension": ".py",
   "mimetype": "text/x-python",
   "name": "python",
   "nbconvert_exporter": "python",
   "pygments_lexer": "ipython3",
   "version": "3.12.4"
  }
 },
 "nbformat": 4,
 "nbformat_minor": 2
}
